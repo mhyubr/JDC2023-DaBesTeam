{
  "cells": [
    {
      "cell_type": "markdown",
      "metadata": {
        "id": "view-in-github",
        "colab_type": "text"
      },
      "source": [
        "<a href=\"https://colab.research.google.com/github/mhyubr/JDC2023-DaBesTeam/blob/main/JDC_2023_DaBesTeam.ipynb\" target=\"_parent\"><img src=\"https://colab.research.google.com/assets/colab-badge.svg\" alt=\"Open In Colab\"/></a>"
      ]
    },
    {
      "cell_type": "markdown",
      "metadata": {
        "id": "JgbAm8qMb8ov"
      },
      "source": [
        "# Datasets"
      ]
    },
    {
      "cell_type": "code",
      "execution_count": null,
      "metadata": {
        "id": "WzaRAz0LwpjK"
      },
      "outputs": [],
      "source": [
        "import numpy as np\n",
        "import pandas as pd\n",
        "import matplotlib.pyplot as plt\n",
        "import seaborn as sns\n",
        "sns.set()"
      ]
    },
    {
      "cell_type": "code",
      "execution_count": null,
      "metadata": {
        "id": "O6PPo34UxFFE",
        "colab": {
          "base_uri": "https://localhost:8080/"
        },
        "outputId": "c4910f54-4fd7-4df8-f564-8ea7ee42f8dc"
      },
      "outputs": [
        {
          "output_type": "stream",
          "name": "stdout",
          "text": [
            "Looking in indexes: https://pypi.org/simple, https://us-python.pkg.dev/colab-wheels/public/simple/\n",
            "Requirement already satisfied: kaggle in /usr/local/lib/python3.10/dist-packages (1.5.13)\n",
            "Requirement already satisfied: six>=1.10 in /usr/local/lib/python3.10/dist-packages (from kaggle) (1.16.0)\n",
            "Requirement already satisfied: certifi in /usr/local/lib/python3.10/dist-packages (from kaggle) (2022.12.7)\n",
            "Requirement already satisfied: python-dateutil in /usr/local/lib/python3.10/dist-packages (from kaggle) (2.8.2)\n",
            "Requirement already satisfied: requests in /usr/local/lib/python3.10/dist-packages (from kaggle) (2.27.1)\n",
            "Requirement already satisfied: tqdm in /usr/local/lib/python3.10/dist-packages (from kaggle) (4.65.0)\n",
            "Requirement already satisfied: python-slugify in /usr/local/lib/python3.10/dist-packages (from kaggle) (8.0.1)\n",
            "Requirement already satisfied: urllib3 in /usr/local/lib/python3.10/dist-packages (from kaggle) (1.26.15)\n",
            "Requirement already satisfied: text-unidecode>=1.3 in /usr/local/lib/python3.10/dist-packages (from python-slugify->kaggle) (1.3)\n",
            "Requirement already satisfied: charset-normalizer~=2.0.0 in /usr/local/lib/python3.10/dist-packages (from requests->kaggle) (2.0.12)\n",
            "Requirement already satisfied: idna<4,>=2.5 in /usr/local/lib/python3.10/dist-packages (from requests->kaggle) (3.4)\n"
          ]
        }
      ],
      "source": [
        "!pip install kaggle"
      ]
    },
    {
      "cell_type": "code",
      "execution_count": null,
      "metadata": {
        "id": "lOCSuNn6xPgR",
        "colab": {
          "base_uri": "https://localhost:8080/",
          "height": 91
        },
        "outputId": "38cae99b-f7a4-4356-ab54-c03391a14065"
      },
      "outputs": [
        {
          "output_type": "display_data",
          "data": {
            "text/plain": [
              "<IPython.core.display.HTML object>"
            ],
            "text/html": [
              "\n",
              "     <input type=\"file\" id=\"files-ea490632-cda8-41fc-be8f-45554e255eb7\" name=\"files[]\" multiple disabled\n",
              "        style=\"border:none\" />\n",
              "     <output id=\"result-ea490632-cda8-41fc-be8f-45554e255eb7\">\n",
              "      Upload widget is only available when the cell has been executed in the\n",
              "      current browser session. Please rerun this cell to enable.\n",
              "      </output>\n",
              "      <script>// Copyright 2017 Google LLC\n",
              "//\n",
              "// Licensed under the Apache License, Version 2.0 (the \"License\");\n",
              "// you may not use this file except in compliance with the License.\n",
              "// You may obtain a copy of the License at\n",
              "//\n",
              "//      http://www.apache.org/licenses/LICENSE-2.0\n",
              "//\n",
              "// Unless required by applicable law or agreed to in writing, software\n",
              "// distributed under the License is distributed on an \"AS IS\" BASIS,\n",
              "// WITHOUT WARRANTIES OR CONDITIONS OF ANY KIND, either express or implied.\n",
              "// See the License for the specific language governing permissions and\n",
              "// limitations under the License.\n",
              "\n",
              "/**\n",
              " * @fileoverview Helpers for google.colab Python module.\n",
              " */\n",
              "(function(scope) {\n",
              "function span(text, styleAttributes = {}) {\n",
              "  const element = document.createElement('span');\n",
              "  element.textContent = text;\n",
              "  for (const key of Object.keys(styleAttributes)) {\n",
              "    element.style[key] = styleAttributes[key];\n",
              "  }\n",
              "  return element;\n",
              "}\n",
              "\n",
              "// Max number of bytes which will be uploaded at a time.\n",
              "const MAX_PAYLOAD_SIZE = 100 * 1024;\n",
              "\n",
              "function _uploadFiles(inputId, outputId) {\n",
              "  const steps = uploadFilesStep(inputId, outputId);\n",
              "  const outputElement = document.getElementById(outputId);\n",
              "  // Cache steps on the outputElement to make it available for the next call\n",
              "  // to uploadFilesContinue from Python.\n",
              "  outputElement.steps = steps;\n",
              "\n",
              "  return _uploadFilesContinue(outputId);\n",
              "}\n",
              "\n",
              "// This is roughly an async generator (not supported in the browser yet),\n",
              "// where there are multiple asynchronous steps and the Python side is going\n",
              "// to poll for completion of each step.\n",
              "// This uses a Promise to block the python side on completion of each step,\n",
              "// then passes the result of the previous step as the input to the next step.\n",
              "function _uploadFilesContinue(outputId) {\n",
              "  const outputElement = document.getElementById(outputId);\n",
              "  const steps = outputElement.steps;\n",
              "\n",
              "  const next = steps.next(outputElement.lastPromiseValue);\n",
              "  return Promise.resolve(next.value.promise).then((value) => {\n",
              "    // Cache the last promise value to make it available to the next\n",
              "    // step of the generator.\n",
              "    outputElement.lastPromiseValue = value;\n",
              "    return next.value.response;\n",
              "  });\n",
              "}\n",
              "\n",
              "/**\n",
              " * Generator function which is called between each async step of the upload\n",
              " * process.\n",
              " * @param {string} inputId Element ID of the input file picker element.\n",
              " * @param {string} outputId Element ID of the output display.\n",
              " * @return {!Iterable<!Object>} Iterable of next steps.\n",
              " */\n",
              "function* uploadFilesStep(inputId, outputId) {\n",
              "  const inputElement = document.getElementById(inputId);\n",
              "  inputElement.disabled = false;\n",
              "\n",
              "  const outputElement = document.getElementById(outputId);\n",
              "  outputElement.innerHTML = '';\n",
              "\n",
              "  const pickedPromise = new Promise((resolve) => {\n",
              "    inputElement.addEventListener('change', (e) => {\n",
              "      resolve(e.target.files);\n",
              "    });\n",
              "  });\n",
              "\n",
              "  const cancel = document.createElement('button');\n",
              "  inputElement.parentElement.appendChild(cancel);\n",
              "  cancel.textContent = 'Cancel upload';\n",
              "  const cancelPromise = new Promise((resolve) => {\n",
              "    cancel.onclick = () => {\n",
              "      resolve(null);\n",
              "    };\n",
              "  });\n",
              "\n",
              "  // Wait for the user to pick the files.\n",
              "  const files = yield {\n",
              "    promise: Promise.race([pickedPromise, cancelPromise]),\n",
              "    response: {\n",
              "      action: 'starting',\n",
              "    }\n",
              "  };\n",
              "\n",
              "  cancel.remove();\n",
              "\n",
              "  // Disable the input element since further picks are not allowed.\n",
              "  inputElement.disabled = true;\n",
              "\n",
              "  if (!files) {\n",
              "    return {\n",
              "      response: {\n",
              "        action: 'complete',\n",
              "      }\n",
              "    };\n",
              "  }\n",
              "\n",
              "  for (const file of files) {\n",
              "    const li = document.createElement('li');\n",
              "    li.append(span(file.name, {fontWeight: 'bold'}));\n",
              "    li.append(span(\n",
              "        `(${file.type || 'n/a'}) - ${file.size} bytes, ` +\n",
              "        `last modified: ${\n",
              "            file.lastModifiedDate ? file.lastModifiedDate.toLocaleDateString() :\n",
              "                                    'n/a'} - `));\n",
              "    const percent = span('0% done');\n",
              "    li.appendChild(percent);\n",
              "\n",
              "    outputElement.appendChild(li);\n",
              "\n",
              "    const fileDataPromise = new Promise((resolve) => {\n",
              "      const reader = new FileReader();\n",
              "      reader.onload = (e) => {\n",
              "        resolve(e.target.result);\n",
              "      };\n",
              "      reader.readAsArrayBuffer(file);\n",
              "    });\n",
              "    // Wait for the data to be ready.\n",
              "    let fileData = yield {\n",
              "      promise: fileDataPromise,\n",
              "      response: {\n",
              "        action: 'continue',\n",
              "      }\n",
              "    };\n",
              "\n",
              "    // Use a chunked sending to avoid message size limits. See b/62115660.\n",
              "    let position = 0;\n",
              "    do {\n",
              "      const length = Math.min(fileData.byteLength - position, MAX_PAYLOAD_SIZE);\n",
              "      const chunk = new Uint8Array(fileData, position, length);\n",
              "      position += length;\n",
              "\n",
              "      const base64 = btoa(String.fromCharCode.apply(null, chunk));\n",
              "      yield {\n",
              "        response: {\n",
              "          action: 'append',\n",
              "          file: file.name,\n",
              "          data: base64,\n",
              "        },\n",
              "      };\n",
              "\n",
              "      let percentDone = fileData.byteLength === 0 ?\n",
              "          100 :\n",
              "          Math.round((position / fileData.byteLength) * 100);\n",
              "      percent.textContent = `${percentDone}% done`;\n",
              "\n",
              "    } while (position < fileData.byteLength);\n",
              "  }\n",
              "\n",
              "  // All done.\n",
              "  yield {\n",
              "    response: {\n",
              "      action: 'complete',\n",
              "    }\n",
              "  };\n",
              "}\n",
              "\n",
              "scope.google = scope.google || {};\n",
              "scope.google.colab = scope.google.colab || {};\n",
              "scope.google.colab._files = {\n",
              "  _uploadFiles,\n",
              "  _uploadFilesContinue,\n",
              "};\n",
              "})(self);\n",
              "</script> "
            ]
          },
          "metadata": {}
        },
        {
          "output_type": "stream",
          "name": "stdout",
          "text": [
            "Saving kaggle.json to kaggle.json\n"
          ]
        },
        {
          "output_type": "execute_result",
          "data": {
            "text/plain": [
              "{'kaggle.json': b'{\"username\":\"muhammadayyubramli\",\"key\":\"f488ccb5002fc72a5ef42353c428920b\"}'}"
            ]
          },
          "metadata": {},
          "execution_count": 3
        }
      ],
      "source": [
        "from google.colab import files\n",
        "files.upload()"
      ]
    },
    {
      "cell_type": "code",
      "execution_count": null,
      "metadata": {
        "id": "bgPr0Bsmy1re"
      },
      "outputs": [],
      "source": [
        "!mkdir ~/.kaggle"
      ]
    },
    {
      "cell_type": "code",
      "execution_count": null,
      "metadata": {
        "id": "a7FXl5GIy2hH"
      },
      "outputs": [],
      "source": [
        "!cp kaggle.json ~/.kaggle/"
      ]
    },
    {
      "cell_type": "code",
      "source": [
        "# !chmod 600 /root/.kaggle/kaggle.json"
      ],
      "metadata": {
        "id": "vQlSAa54LkqG"
      },
      "execution_count": null,
      "outputs": []
    },
    {
      "cell_type": "code",
      "execution_count": null,
      "metadata": {
        "id": "O76jhsFJy-7G"
      },
      "outputs": [],
      "source": [
        "# !kaggle datasets list"
      ]
    },
    {
      "cell_type": "code",
      "execution_count": null,
      "metadata": {
        "id": "umksMjbuzGaJ"
      },
      "outputs": [],
      "source": [
        "# !kaggle competitions list"
      ]
    },
    {
      "cell_type": "code",
      "execution_count": null,
      "metadata": {
        "id": "2XGvgiNMzXml",
        "colab": {
          "base_uri": "https://localhost:8080/"
        },
        "outputId": "71198b39-aef7-4b0f-d0f3-169ecddf0945"
      },
      "outputs": [
        {
          "output_type": "stream",
          "name": "stdout",
          "text": [
            "Warning: Your Kaggle API key is readable by other users on this system! To fix this, you can run 'chmod 600 /root/.kaggle/kaggle.json'\n",
            "Downloading penyisihan-joints-data-competition-2023.zip to /content\n",
            " 86% 14.0M/16.2M [00:01<00:00, 11.1MB/s]\n",
            "100% 16.2M/16.2M [00:01<00:00, 8.82MB/s]\n"
          ]
        }
      ],
      "source": [
        "!kaggle competitions download -c penyisihan-joints-data-competition-2023"
      ]
    },
    {
      "cell_type": "code",
      "execution_count": null,
      "metadata": {
        "id": "LcWTSTBt0K3r",
        "colab": {
          "base_uri": "https://localhost:8080/"
        },
        "outputId": "ab4e0c96-8f26-46ae-ba43-f301647689b1"
      },
      "outputs": [
        {
          "output_type": "stream",
          "name": "stdout",
          "text": [
            "Done\n"
          ]
        }
      ],
      "source": [
        "from zipfile import ZipFile\n",
        "file_name = 'penyisihan-joints-data-competition-2023.zip'\n",
        "with ZipFile(file_name, 'r') as zip:\n",
        "  zip.extractall()\n",
        "  print('Done')"
      ]
    },
    {
      "cell_type": "code",
      "execution_count": null,
      "metadata": {
        "id": "eoqBdBaiwpjM"
      },
      "outputs": [],
      "source": [
        "BASE_DIR = \"\"\n",
        "\n",
        "train_df = pd.read_csv(BASE_DIR + \"train.csv\", low_memory=False)\n",
        "test_df = pd.read_csv(BASE_DIR + \"test.csv\")\n",
        "submission_df = pd.read_csv(BASE_DIR + \"sample_submission.csv\")\n",
        "\n",
        "train_df.drop(columns=['Unnamed: 0'], inplace=True)"
      ]
    },
    {
      "cell_type": "markdown",
      "metadata": {
        "id": "fFRDAuRPwpjM"
      },
      "source": [
        "# EDA"
      ]
    },
    {
      "cell_type": "code",
      "execution_count": null,
      "metadata": {
        "id": "4-iIz29nwpjN",
        "colab": {
          "base_uri": "https://localhost:8080/"
        },
        "outputId": "b7a7dc91-a308-4f69-bf2d-8ed139d10329"
      },
      "outputs": [
        {
          "output_type": "stream",
          "name": "stdout",
          "text": [
            "<class 'pandas.core.frame.DataFrame'>\n",
            "RangeIndex: 722815 entries, 0 to 722814\n",
            "Data columns (total 24 columns):\n",
            " #   Column                          Non-Null Count   Dtype  \n",
            "---  ------                          --------------   -----  \n",
            " 0   floors_before_eq (total)        390009 non-null  object \n",
            " 1   old_building                    483611 non-null  float64\n",
            " 2   plinth_area (ft^2)              301607 non-null  object \n",
            " 3   height_before_eq (ft)           390009 non-null  float64\n",
            " 4   land_surface_condition          421209 non-null  object \n",
            " 5   type_of_foundation              483611 non-null  object \n",
            " 6   type_of_roof                    301607 non-null  object \n",
            " 7   type_of_ground_floor            390009 non-null  object \n",
            " 8   type_of_other_floor             421209 non-null  object \n",
            " 9   position                        410809 non-null  object \n",
            " 10  building_plan_configuration     421209 non-null  object \n",
            " 11  technical_solution_proposed     46801 non-null   object \n",
            " 12  legal_ownership_status          598013 non-null  object \n",
            " 13  has_secondary_use               525211 non-null  float64\n",
            " 14  type_of_reinforcement_concrete  431609 non-null  float64\n",
            " 15  residential_type                452411 non-null  object \n",
            " 16  no_family_residing              577213 non-null  object \n",
            " 17  public_place_type               722815 non-null  object \n",
            " 18  industrial_use_type             608413 non-null  object \n",
            " 19  govermental_use_type            473211 non-null  object \n",
            " 20  flexible_superstructure         660415 non-null  object \n",
            " 21  wall_binding                    660415 non-null  float64\n",
            " 22  wall_material                   494011 non-null  float64\n",
            " 23  damage_grade                    722815 non-null  float64\n",
            "dtypes: float64(7), object(17)\n",
            "memory usage: 132.4+ MB\n"
          ]
        }
      ],
      "source": [
        "train_df.info()"
      ]
    },
    {
      "cell_type": "code",
      "execution_count": null,
      "metadata": {
        "id": "gSqlKJCfwpjN",
        "colab": {
          "base_uri": "https://localhost:8080/"
        },
        "outputId": "762232f5-f821-46aa-b1b1-2d9df8b6c2d5"
      },
      "outputs": [
        {
          "output_type": "execute_result",
          "data": {
            "text/plain": [
              "floors_before_eq (total)           object\n",
              "old_building                      float64\n",
              "plinth_area (ft^2)                 object\n",
              "height_before_eq (ft)             float64\n",
              "land_surface_condition             object\n",
              "type_of_foundation                 object\n",
              "type_of_roof                       object\n",
              "type_of_ground_floor               object\n",
              "type_of_other_floor                object\n",
              "position                           object\n",
              "building_plan_configuration        object\n",
              "technical_solution_proposed        object\n",
              "legal_ownership_status             object\n",
              "has_secondary_use                 float64\n",
              "type_of_reinforcement_concrete    float64\n",
              "residential_type                   object\n",
              "no_family_residing                 object\n",
              "public_place_type                  object\n",
              "industrial_use_type                object\n",
              "govermental_use_type               object\n",
              "flexible_superstructure            object\n",
              "wall_binding                      float64\n",
              "wall_material                     float64\n",
              "damage_grade                      float64\n",
              "dtype: object"
            ]
          },
          "metadata": {},
          "execution_count": 13
        }
      ],
      "source": [
        "train_df.dtypes"
      ]
    },
    {
      "cell_type": "code",
      "execution_count": null,
      "metadata": {
        "id": "HQvV7IN3wpjN",
        "colab": {
          "base_uri": "https://localhost:8080/"
        },
        "outputId": "59a67a9f-0e62-4cad-a24e-a3f1f0c5142b"
      },
      "outputs": [
        {
          "output_type": "execute_result",
          "data": {
            "text/plain": [
              "floors_before_eq (total)          332806\n",
              "old_building                      239204\n",
              "plinth_area (ft^2)                421208\n",
              "height_before_eq (ft)             332806\n",
              "land_surface_condition            301606\n",
              "type_of_foundation                239204\n",
              "type_of_roof                      421208\n",
              "type_of_ground_floor              332806\n",
              "type_of_other_floor               301606\n",
              "position                          312006\n",
              "building_plan_configuration       301606\n",
              "technical_solution_proposed       676014\n",
              "legal_ownership_status            124802\n",
              "has_secondary_use                 197604\n",
              "type_of_reinforcement_concrete    291206\n",
              "residential_type                  270404\n",
              "no_family_residing                145602\n",
              "public_place_type                      0\n",
              "industrial_use_type               114402\n",
              "govermental_use_type              249604\n",
              "flexible_superstructure            62400\n",
              "wall_binding                       62400\n",
              "wall_material                     228804\n",
              "damage_grade                           0\n",
              "dtype: int64"
            ]
          },
          "metadata": {},
          "execution_count": 14
        }
      ],
      "source": [
        "train_df.isna().sum()"
      ]
    },
    {
      "cell_type": "code",
      "execution_count": null,
      "metadata": {
        "id": "8GF2l4viZoeG",
        "colab": {
          "base_uri": "https://localhost:8080/"
        },
        "outputId": "ac3b5f3d-dd15-42ca-ee2a-0180a5347b2a"
      },
      "outputs": [
        {
          "output_type": "execute_result",
          "data": {
            "text/plain": [
              "335076"
            ]
          },
          "metadata": {},
          "execution_count": 15
        }
      ],
      "source": [
        "train_df.duplicated().sum()"
      ]
    },
    {
      "cell_type": "code",
      "execution_count": null,
      "metadata": {
        "id": "0j37mDhYwpjN",
        "colab": {
          "base_uri": "https://localhost:8080/"
        },
        "outputId": "22a99a8b-d7f7-45fa-b449-eca449f547dd"
      },
      "outputs": [
        {
          "output_type": "execute_result",
          "data": {
            "text/plain": [
              "(722815, 24)"
            ]
          },
          "metadata": {},
          "execution_count": 16
        }
      ],
      "source": [
        "train_df.shape"
      ]
    },
    {
      "cell_type": "markdown",
      "metadata": {
        "id": "CvaXkPnzwpjO"
      },
      "source": [
        "## Feature Analytic"
      ]
    },
    {
      "cell_type": "code",
      "execution_count": null,
      "metadata": {
        "id": "2nwmf1XSwpjO",
        "colab": {
          "base_uri": "https://localhost:8080/",
          "height": 300
        },
        "outputId": "d6c6a25c-921d-419b-884b-7a2a448e15b2"
      },
      "outputs": [
        {
          "output_type": "execute_result",
          "data": {
            "text/plain": [
              "        old_building  height_before_eq (ft)  has_secondary_use  \\\n",
              "count  483611.000000          390009.000000      525211.000000   \n",
              "mean       24.342800              16.047158           0.121279   \n",
              "std        64.963571               5.527362           0.326451   \n",
              "min         0.000000               6.000000           0.000000   \n",
              "25%         9.000000              12.000000           0.000000   \n",
              "50%        16.000000              16.000000           0.000000   \n",
              "75%        27.000000              18.000000           0.000000   \n",
              "max       999.000000              99.000000           1.000000   \n",
              "\n",
              "       type_of_reinforcement_concrete   wall_binding  wall_material  \\\n",
              "count                   431609.000000  660415.000000  494011.000000   \n",
              "mean                         0.072369       4.266729       1.738795   \n",
              "std                          0.318483       1.667539       0.646120   \n",
              "min                          0.000000       0.000000       0.000000   \n",
              "25%                          0.000000       5.000000       2.000000   \n",
              "50%                          0.000000       5.000000       2.000000   \n",
              "75%                          0.000000       5.000000       2.000000   \n",
              "max                          3.000000       7.000000       3.000000   \n",
              "\n",
              "        damage_grade  \n",
              "count  722815.000000  \n",
              "mean        3.643872  \n",
              "std         1.342427  \n",
              "min         1.000000  \n",
              "25%         3.000000  \n",
              "50%         4.000000  \n",
              "75%         5.000000  \n",
              "max         5.000000  "
            ],
            "text/html": [
              "\n",
              "  <div id=\"df-e410c7ec-7154-453c-90e8-71a3d270d878\">\n",
              "    <div class=\"colab-df-container\">\n",
              "      <div>\n",
              "<style scoped>\n",
              "    .dataframe tbody tr th:only-of-type {\n",
              "        vertical-align: middle;\n",
              "    }\n",
              "\n",
              "    .dataframe tbody tr th {\n",
              "        vertical-align: top;\n",
              "    }\n",
              "\n",
              "    .dataframe thead th {\n",
              "        text-align: right;\n",
              "    }\n",
              "</style>\n",
              "<table border=\"1\" class=\"dataframe\">\n",
              "  <thead>\n",
              "    <tr style=\"text-align: right;\">\n",
              "      <th></th>\n",
              "      <th>old_building</th>\n",
              "      <th>height_before_eq (ft)</th>\n",
              "      <th>has_secondary_use</th>\n",
              "      <th>type_of_reinforcement_concrete</th>\n",
              "      <th>wall_binding</th>\n",
              "      <th>wall_material</th>\n",
              "      <th>damage_grade</th>\n",
              "    </tr>\n",
              "  </thead>\n",
              "  <tbody>\n",
              "    <tr>\n",
              "      <th>count</th>\n",
              "      <td>483611.000000</td>\n",
              "      <td>390009.000000</td>\n",
              "      <td>525211.000000</td>\n",
              "      <td>431609.000000</td>\n",
              "      <td>660415.000000</td>\n",
              "      <td>494011.000000</td>\n",
              "      <td>722815.000000</td>\n",
              "    </tr>\n",
              "    <tr>\n",
              "      <th>mean</th>\n",
              "      <td>24.342800</td>\n",
              "      <td>16.047158</td>\n",
              "      <td>0.121279</td>\n",
              "      <td>0.072369</td>\n",
              "      <td>4.266729</td>\n",
              "      <td>1.738795</td>\n",
              "      <td>3.643872</td>\n",
              "    </tr>\n",
              "    <tr>\n",
              "      <th>std</th>\n",
              "      <td>64.963571</td>\n",
              "      <td>5.527362</td>\n",
              "      <td>0.326451</td>\n",
              "      <td>0.318483</td>\n",
              "      <td>1.667539</td>\n",
              "      <td>0.646120</td>\n",
              "      <td>1.342427</td>\n",
              "    </tr>\n",
              "    <tr>\n",
              "      <th>min</th>\n",
              "      <td>0.000000</td>\n",
              "      <td>6.000000</td>\n",
              "      <td>0.000000</td>\n",
              "      <td>0.000000</td>\n",
              "      <td>0.000000</td>\n",
              "      <td>0.000000</td>\n",
              "      <td>1.000000</td>\n",
              "    </tr>\n",
              "    <tr>\n",
              "      <th>25%</th>\n",
              "      <td>9.000000</td>\n",
              "      <td>12.000000</td>\n",
              "      <td>0.000000</td>\n",
              "      <td>0.000000</td>\n",
              "      <td>5.000000</td>\n",
              "      <td>2.000000</td>\n",
              "      <td>3.000000</td>\n",
              "    </tr>\n",
              "    <tr>\n",
              "      <th>50%</th>\n",
              "      <td>16.000000</td>\n",
              "      <td>16.000000</td>\n",
              "      <td>0.000000</td>\n",
              "      <td>0.000000</td>\n",
              "      <td>5.000000</td>\n",
              "      <td>2.000000</td>\n",
              "      <td>4.000000</td>\n",
              "    </tr>\n",
              "    <tr>\n",
              "      <th>75%</th>\n",
              "      <td>27.000000</td>\n",
              "      <td>18.000000</td>\n",
              "      <td>0.000000</td>\n",
              "      <td>0.000000</td>\n",
              "      <td>5.000000</td>\n",
              "      <td>2.000000</td>\n",
              "      <td>5.000000</td>\n",
              "    </tr>\n",
              "    <tr>\n",
              "      <th>max</th>\n",
              "      <td>999.000000</td>\n",
              "      <td>99.000000</td>\n",
              "      <td>1.000000</td>\n",
              "      <td>3.000000</td>\n",
              "      <td>7.000000</td>\n",
              "      <td>3.000000</td>\n",
              "      <td>5.000000</td>\n",
              "    </tr>\n",
              "  </tbody>\n",
              "</table>\n",
              "</div>\n",
              "      <button class=\"colab-df-convert\" onclick=\"convertToInteractive('df-e410c7ec-7154-453c-90e8-71a3d270d878')\"\n",
              "              title=\"Convert this dataframe to an interactive table.\"\n",
              "              style=\"display:none;\">\n",
              "        \n",
              "  <svg xmlns=\"http://www.w3.org/2000/svg\" height=\"24px\"viewBox=\"0 0 24 24\"\n",
              "       width=\"24px\">\n",
              "    <path d=\"M0 0h24v24H0V0z\" fill=\"none\"/>\n",
              "    <path d=\"M18.56 5.44l.94 2.06.94-2.06 2.06-.94-2.06-.94-.94-2.06-.94 2.06-2.06.94zm-11 1L8.5 8.5l.94-2.06 2.06-.94-2.06-.94L8.5 2.5l-.94 2.06-2.06.94zm10 10l.94 2.06.94-2.06 2.06-.94-2.06-.94-.94-2.06-.94 2.06-2.06.94z\"/><path d=\"M17.41 7.96l-1.37-1.37c-.4-.4-.92-.59-1.43-.59-.52 0-1.04.2-1.43.59L10.3 9.45l-7.72 7.72c-.78.78-.78 2.05 0 2.83L4 21.41c.39.39.9.59 1.41.59.51 0 1.02-.2 1.41-.59l7.78-7.78 2.81-2.81c.8-.78.8-2.07 0-2.86zM5.41 20L4 18.59l7.72-7.72 1.47 1.35L5.41 20z\"/>\n",
              "  </svg>\n",
              "      </button>\n",
              "      \n",
              "  <style>\n",
              "    .colab-df-container {\n",
              "      display:flex;\n",
              "      flex-wrap:wrap;\n",
              "      gap: 12px;\n",
              "    }\n",
              "\n",
              "    .colab-df-convert {\n",
              "      background-color: #E8F0FE;\n",
              "      border: none;\n",
              "      border-radius: 50%;\n",
              "      cursor: pointer;\n",
              "      display: none;\n",
              "      fill: #1967D2;\n",
              "      height: 32px;\n",
              "      padding: 0 0 0 0;\n",
              "      width: 32px;\n",
              "    }\n",
              "\n",
              "    .colab-df-convert:hover {\n",
              "      background-color: #E2EBFA;\n",
              "      box-shadow: 0px 1px 2px rgba(60, 64, 67, 0.3), 0px 1px 3px 1px rgba(60, 64, 67, 0.15);\n",
              "      fill: #174EA6;\n",
              "    }\n",
              "\n",
              "    [theme=dark] .colab-df-convert {\n",
              "      background-color: #3B4455;\n",
              "      fill: #D2E3FC;\n",
              "    }\n",
              "\n",
              "    [theme=dark] .colab-df-convert:hover {\n",
              "      background-color: #434B5C;\n",
              "      box-shadow: 0px 1px 3px 1px rgba(0, 0, 0, 0.15);\n",
              "      filter: drop-shadow(0px 1px 2px rgba(0, 0, 0, 0.3));\n",
              "      fill: #FFFFFF;\n",
              "    }\n",
              "  </style>\n",
              "\n",
              "      <script>\n",
              "        const buttonEl =\n",
              "          document.querySelector('#df-e410c7ec-7154-453c-90e8-71a3d270d878 button.colab-df-convert');\n",
              "        buttonEl.style.display =\n",
              "          google.colab.kernel.accessAllowed ? 'block' : 'none';\n",
              "\n",
              "        async function convertToInteractive(key) {\n",
              "          const element = document.querySelector('#df-e410c7ec-7154-453c-90e8-71a3d270d878');\n",
              "          const dataTable =\n",
              "            await google.colab.kernel.invokeFunction('convertToInteractive',\n",
              "                                                     [key], {});\n",
              "          if (!dataTable) return;\n",
              "\n",
              "          const docLinkHtml = 'Like what you see? Visit the ' +\n",
              "            '<a target=\"_blank\" href=https://colab.research.google.com/notebooks/data_table.ipynb>data table notebook</a>'\n",
              "            + ' to learn more about interactive tables.';\n",
              "          element.innerHTML = '';\n",
              "          dataTable['output_type'] = 'display_data';\n",
              "          await google.colab.output.renderOutput(dataTable, element);\n",
              "          const docLink = document.createElement('div');\n",
              "          docLink.innerHTML = docLinkHtml;\n",
              "          element.appendChild(docLink);\n",
              "        }\n",
              "      </script>\n",
              "    </div>\n",
              "  </div>\n",
              "  "
            ]
          },
          "metadata": {},
          "execution_count": 17
        }
      ],
      "source": [
        "train_df.describe(include=['int64', 'float64'])"
      ]
    },
    {
      "cell_type": "code",
      "execution_count": null,
      "metadata": {
        "id": "t71dvFlMwpjO",
        "colab": {
          "base_uri": "https://localhost:8080/",
          "height": 273
        },
        "outputId": "4b1a643e-8136-44b9-a124-7137599fbf65"
      },
      "outputs": [
        {
          "output_type": "execute_result",
          "data": {
            "text/plain": [
              "       floors_before_eq (total) plinth_area (ft^2) land_surface_condition  \\\n",
              "count                    390009             301607                 421209   \n",
              "unique                       47                930                      3   \n",
              "top                   Floor two           300 ft^2                   Flat   \n",
              "freq                      22000              10937                 349097   \n",
              "\n",
              "                        type_of_foundation              type_of_roof  \\\n",
              "count                               483611                    301607   \n",
              "unique                                  12                        12   \n",
              "top     Clay Sand Mixed mortar-Stone/Brick  Bamboo/Timber Light roof   \n",
              "freq                                199916                     79640   \n",
              "\n",
              "       type_of_ground_floor type_of_other_floor      position  \\\n",
              "count                390009              421209        410809   \n",
              "unique                   15                  11             4   \n",
              "top                    Clay   TImber/Bamboo-Mud  Not attached   \n",
              "freq                 262305              223114        325721   \n",
              "\n",
              "       building_plan_configuration technical_solution_proposed  \\\n",
              "count                       421209                       46801   \n",
              "unique                          10                           4   \n",
              "top                    Rectangular              Reconstruction   \n",
              "freq                        404366                       28847   \n",
              "\n",
              "       legal_ownership_status residential_type no_family_residing  \\\n",
              "count                  598013           452411             577213   \n",
              "unique                     13                6                 11   \n",
              "top                   Private  Non-residential                1.0   \n",
              "freq                   315103           430854             487302   \n",
              "\n",
              "       public_place_type industrial_use_type govermental_use_type  \\\n",
              "count             722815              608413               473211   \n",
              "unique                13                   9                    3   \n",
              "top           Non-public      Non-industrial      Non-govermental   \n",
              "freq              721495              564106               473073   \n",
              "\n",
              "       flexible_superstructure  \n",
              "count                   660415  \n",
              "unique                       2  \n",
              "top                unavailable  \n",
              "freq                    607527  "
            ],
            "text/html": [
              "\n",
              "  <div id=\"df-48644f78-3e96-4bd7-afcc-267d4691f659\">\n",
              "    <div class=\"colab-df-container\">\n",
              "      <div>\n",
              "<style scoped>\n",
              "    .dataframe tbody tr th:only-of-type {\n",
              "        vertical-align: middle;\n",
              "    }\n",
              "\n",
              "    .dataframe tbody tr th {\n",
              "        vertical-align: top;\n",
              "    }\n",
              "\n",
              "    .dataframe thead th {\n",
              "        text-align: right;\n",
              "    }\n",
              "</style>\n",
              "<table border=\"1\" class=\"dataframe\">\n",
              "  <thead>\n",
              "    <tr style=\"text-align: right;\">\n",
              "      <th></th>\n",
              "      <th>floors_before_eq (total)</th>\n",
              "      <th>plinth_area (ft^2)</th>\n",
              "      <th>land_surface_condition</th>\n",
              "      <th>type_of_foundation</th>\n",
              "      <th>type_of_roof</th>\n",
              "      <th>type_of_ground_floor</th>\n",
              "      <th>type_of_other_floor</th>\n",
              "      <th>position</th>\n",
              "      <th>building_plan_configuration</th>\n",
              "      <th>technical_solution_proposed</th>\n",
              "      <th>legal_ownership_status</th>\n",
              "      <th>residential_type</th>\n",
              "      <th>no_family_residing</th>\n",
              "      <th>public_place_type</th>\n",
              "      <th>industrial_use_type</th>\n",
              "      <th>govermental_use_type</th>\n",
              "      <th>flexible_superstructure</th>\n",
              "    </tr>\n",
              "  </thead>\n",
              "  <tbody>\n",
              "    <tr>\n",
              "      <th>count</th>\n",
              "      <td>390009</td>\n",
              "      <td>301607</td>\n",
              "      <td>421209</td>\n",
              "      <td>483611</td>\n",
              "      <td>301607</td>\n",
              "      <td>390009</td>\n",
              "      <td>421209</td>\n",
              "      <td>410809</td>\n",
              "      <td>421209</td>\n",
              "      <td>46801</td>\n",
              "      <td>598013</td>\n",
              "      <td>452411</td>\n",
              "      <td>577213</td>\n",
              "      <td>722815</td>\n",
              "      <td>608413</td>\n",
              "      <td>473211</td>\n",
              "      <td>660415</td>\n",
              "    </tr>\n",
              "    <tr>\n",
              "      <th>unique</th>\n",
              "      <td>47</td>\n",
              "      <td>930</td>\n",
              "      <td>3</td>\n",
              "      <td>12</td>\n",
              "      <td>12</td>\n",
              "      <td>15</td>\n",
              "      <td>11</td>\n",
              "      <td>4</td>\n",
              "      <td>10</td>\n",
              "      <td>4</td>\n",
              "      <td>13</td>\n",
              "      <td>6</td>\n",
              "      <td>11</td>\n",
              "      <td>13</td>\n",
              "      <td>9</td>\n",
              "      <td>3</td>\n",
              "      <td>2</td>\n",
              "    </tr>\n",
              "    <tr>\n",
              "      <th>top</th>\n",
              "      <td>Floor two</td>\n",
              "      <td>300 ft^2</td>\n",
              "      <td>Flat</td>\n",
              "      <td>Clay Sand Mixed mortar-Stone/Brick</td>\n",
              "      <td>Bamboo/Timber Light roof</td>\n",
              "      <td>Clay</td>\n",
              "      <td>TImber/Bamboo-Mud</td>\n",
              "      <td>Not attached</td>\n",
              "      <td>Rectangular</td>\n",
              "      <td>Reconstruction</td>\n",
              "      <td>Private</td>\n",
              "      <td>Non-residential</td>\n",
              "      <td>1.0</td>\n",
              "      <td>Non-public</td>\n",
              "      <td>Non-industrial</td>\n",
              "      <td>Non-govermental</td>\n",
              "      <td>unavailable</td>\n",
              "    </tr>\n",
              "    <tr>\n",
              "      <th>freq</th>\n",
              "      <td>22000</td>\n",
              "      <td>10937</td>\n",
              "      <td>349097</td>\n",
              "      <td>199916</td>\n",
              "      <td>79640</td>\n",
              "      <td>262305</td>\n",
              "      <td>223114</td>\n",
              "      <td>325721</td>\n",
              "      <td>404366</td>\n",
              "      <td>28847</td>\n",
              "      <td>315103</td>\n",
              "      <td>430854</td>\n",
              "      <td>487302</td>\n",
              "      <td>721495</td>\n",
              "      <td>564106</td>\n",
              "      <td>473073</td>\n",
              "      <td>607527</td>\n",
              "    </tr>\n",
              "  </tbody>\n",
              "</table>\n",
              "</div>\n",
              "      <button class=\"colab-df-convert\" onclick=\"convertToInteractive('df-48644f78-3e96-4bd7-afcc-267d4691f659')\"\n",
              "              title=\"Convert this dataframe to an interactive table.\"\n",
              "              style=\"display:none;\">\n",
              "        \n",
              "  <svg xmlns=\"http://www.w3.org/2000/svg\" height=\"24px\"viewBox=\"0 0 24 24\"\n",
              "       width=\"24px\">\n",
              "    <path d=\"M0 0h24v24H0V0z\" fill=\"none\"/>\n",
              "    <path d=\"M18.56 5.44l.94 2.06.94-2.06 2.06-.94-2.06-.94-.94-2.06-.94 2.06-2.06.94zm-11 1L8.5 8.5l.94-2.06 2.06-.94-2.06-.94L8.5 2.5l-.94 2.06-2.06.94zm10 10l.94 2.06.94-2.06 2.06-.94-2.06-.94-.94-2.06-.94 2.06-2.06.94z\"/><path d=\"M17.41 7.96l-1.37-1.37c-.4-.4-.92-.59-1.43-.59-.52 0-1.04.2-1.43.59L10.3 9.45l-7.72 7.72c-.78.78-.78 2.05 0 2.83L4 21.41c.39.39.9.59 1.41.59.51 0 1.02-.2 1.41-.59l7.78-7.78 2.81-2.81c.8-.78.8-2.07 0-2.86zM5.41 20L4 18.59l7.72-7.72 1.47 1.35L5.41 20z\"/>\n",
              "  </svg>\n",
              "      </button>\n",
              "      \n",
              "  <style>\n",
              "    .colab-df-container {\n",
              "      display:flex;\n",
              "      flex-wrap:wrap;\n",
              "      gap: 12px;\n",
              "    }\n",
              "\n",
              "    .colab-df-convert {\n",
              "      background-color: #E8F0FE;\n",
              "      border: none;\n",
              "      border-radius: 50%;\n",
              "      cursor: pointer;\n",
              "      display: none;\n",
              "      fill: #1967D2;\n",
              "      height: 32px;\n",
              "      padding: 0 0 0 0;\n",
              "      width: 32px;\n",
              "    }\n",
              "\n",
              "    .colab-df-convert:hover {\n",
              "      background-color: #E2EBFA;\n",
              "      box-shadow: 0px 1px 2px rgba(60, 64, 67, 0.3), 0px 1px 3px 1px rgba(60, 64, 67, 0.15);\n",
              "      fill: #174EA6;\n",
              "    }\n",
              "\n",
              "    [theme=dark] .colab-df-convert {\n",
              "      background-color: #3B4455;\n",
              "      fill: #D2E3FC;\n",
              "    }\n",
              "\n",
              "    [theme=dark] .colab-df-convert:hover {\n",
              "      background-color: #434B5C;\n",
              "      box-shadow: 0px 1px 3px 1px rgba(0, 0, 0, 0.15);\n",
              "      filter: drop-shadow(0px 1px 2px rgba(0, 0, 0, 0.3));\n",
              "      fill: #FFFFFF;\n",
              "    }\n",
              "  </style>\n",
              "\n",
              "      <script>\n",
              "        const buttonEl =\n",
              "          document.querySelector('#df-48644f78-3e96-4bd7-afcc-267d4691f659 button.colab-df-convert');\n",
              "        buttonEl.style.display =\n",
              "          google.colab.kernel.accessAllowed ? 'block' : 'none';\n",
              "\n",
              "        async function convertToInteractive(key) {\n",
              "          const element = document.querySelector('#df-48644f78-3e96-4bd7-afcc-267d4691f659');\n",
              "          const dataTable =\n",
              "            await google.colab.kernel.invokeFunction('convertToInteractive',\n",
              "                                                     [key], {});\n",
              "          if (!dataTable) return;\n",
              "\n",
              "          const docLinkHtml = 'Like what you see? Visit the ' +\n",
              "            '<a target=\"_blank\" href=https://colab.research.google.com/notebooks/data_table.ipynb>data table notebook</a>'\n",
              "            + ' to learn more about interactive tables.';\n",
              "          element.innerHTML = '';\n",
              "          dataTable['output_type'] = 'display_data';\n",
              "          await google.colab.output.renderOutput(dataTable, element);\n",
              "          const docLink = document.createElement('div');\n",
              "          docLink.innerHTML = docLinkHtml;\n",
              "          element.appendChild(docLink);\n",
              "        }\n",
              "      </script>\n",
              "    </div>\n",
              "  </div>\n",
              "  "
            ]
          },
          "metadata": {},
          "execution_count": 18
        }
      ],
      "source": [
        "train_df.describe(include=['object'])"
      ]
    },
    {
      "cell_type": "code",
      "execution_count": null,
      "metadata": {
        "id": "24rMXtsEwpjO",
        "colab": {
          "base_uri": "https://localhost:8080/"
        },
        "outputId": "580ae731-48cf-47c1-9f62-c2f1756aef1e"
      },
      "outputs": [
        {
          "output_type": "execute_result",
          "data": {
            "text/plain": [
              "floors_before_eq (total)           47\n",
              "old_building                      160\n",
              "plinth_area (ft^2)                930\n",
              "height_before_eq (ft)              77\n",
              "land_surface_condition              3\n",
              "type_of_foundation                 12\n",
              "type_of_roof                       12\n",
              "type_of_ground_floor               15\n",
              "type_of_other_floor                11\n",
              "position                            4\n",
              "building_plan_configuration        10\n",
              "technical_solution_proposed         4\n",
              "legal_ownership_status             13\n",
              "has_secondary_use                   2\n",
              "type_of_reinforcement_concrete      4\n",
              "residential_type                    6\n",
              "no_family_residing                 11\n",
              "public_place_type                  13\n",
              "industrial_use_type                 9\n",
              "govermental_use_type                3\n",
              "flexible_superstructure             2\n",
              "wall_binding                        6\n",
              "wall_material                       4\n",
              "damage_grade                        5\n",
              "dtype: int64"
            ]
          },
          "metadata": {},
          "execution_count": 19
        }
      ],
      "source": [
        "train_df.nunique(dropna=True)"
      ]
    },
    {
      "cell_type": "code",
      "execution_count": null,
      "metadata": {
        "id": "7FcGOXSJwpjO"
      },
      "outputs": [],
      "source": [
        "def convert_plinth_area(x):\n",
        "    if x == 'More than 1000 ft^2':\n",
        "        return 1000\n",
        "    elif type(x) == str:\n",
        "        if 'ft' in x:\n",
        "            return int(x.split(' ')[0])\n",
        "    elif type(x) == int:\n",
        "        return x\n",
        "    else:\n",
        "        return np.nan\n",
        "\n",
        "def convert_floors(x):\n",
        "    if x in ['1st Story', 'floor one', 'Has 1 floor', 'one story', '1', 'Floor 1', 'floor 1st',\n",
        "           'one', 'Just 1 floor',]:\n",
        "        return 1\n",
        "    elif x in ['floor two', 'Two Floor', 'two', ' just 2 floor', 'There is 2 Floor/Story',\n",
        "             'Floor two', 'Floor 2', '2', 'two story', 'floor second', '2 floor', ]:\n",
        "        return 2\n",
        "    elif x in ['Floor 3', 'Three floor', 'floor third', '3.00', ' has 3 Floor', 'three Story',\n",
        "             'Floor-three', 'Three', ]:\n",
        "        return 3\n",
        "    elif x in ['four Floor', ' has Four fl', 'Fl four', '4', 'Floor 4', 'floor four', 'Four Story',\n",
        "             'Four', ]:\n",
        "        return 4\n",
        "    elif x in ['fifth', 'Fl Five', '5', 'Floor Fifth', 'five Floor', ' Has Five fl', 'Has Five fl']:\n",
        "        return 5\n",
        "    elif x in ['6']:\n",
        "        return 6\n",
        "    elif x in ['7']:\n",
        "        return 7\n",
        "    elif x in ['8']:\n",
        "        return 8\n",
        "    elif x in ['9']:\n",
        "        return 9\n",
        "    else:\n",
        "        return x\n",
        "\n",
        "def convert_foundation(x):\n",
        "    value_map = {\n",
        "        'Bamboo or Timber': 'Bamboo/Timber',\n",
        "        'Bamboo/TImber': 'Bamboo/Timber',\n",
        "        'Clay Sand Mixed mortar-Stone/Brick': 'Clay mortar-Stone/Brick',\n",
        "        'Cement-Stone or Cement-Brick': 'Cement-Stone/Brick',\n",
        "        'RC': 'Reinforced Concrete',\n",
        "        'Other': 'Others'\n",
        "    }\n",
        "\n",
        "    if x in value_map:\n",
        "        return value_map[x]\n",
        "    else:\n",
        "        return x\n",
        "\n",
        "def convert_roof(x):\n",
        "    # Create a dictionary to map similar values to their group\n",
        "    value_map = {\n",
        "        'Bamboo/Timber Light roof': 'Bamboo/Timber Light roof',\n",
        "        'Wood Light Roof or Bamboo Heavy Roof': 'Wood/Bamboo Light/Heavy roof',\n",
        "        'Wood Light Roof or Bamboo Light Roof': 'Wood/Bamboo Light/Heavy roof',\n",
        "        'Bamboo or Timber Light roof': 'Bamboo/Timber Light roof',\n",
        "        'Bamboo/TImber-Light Roof': 'Bamboo/Timber Light roof',\n",
        "        'Reinforced Brick Slab/rcc/rbc': 'Reinforced Brick Slab/rcc/rbc',\n",
        "        'Bamboo/Timber Heavy roof': 'Bamboo/Timber Heavy roof',\n",
        "        'reinforced cement concrete/rb/rbc': 'Reinforced cement concrete/rb/rbc',\n",
        "        'Bamboo or Timber Heavy roof': 'Bamboo/Timber Heavy roof',\n",
        "        'Bamboo/TImber-Heavy Roof': 'Bamboo/Timber Heavy roof',\n",
        "        'rcc/rb/rbc': 'Reinforced cement concrete/rb/rbc',\n",
        "        'Reinforced brick concrete/rcc/rbc': 'Reinforced cement concrete/rb/rbc'\n",
        "    }\n",
        "\n",
        "    # Replace similar values with their group\n",
        "    if x in value_map:\n",
        "        return value_map[x]\n",
        "    else:\n",
        "        return x\n",
        "\n",
        "def convert_gfloor(value):\n",
        "    # Create a dictionary to map similar values to their group\n",
        "    value_map = {\n",
        "        'Clay': 'Clay',\n",
        "        'Mud': 'Mud',\n",
        "        'Brick or Stone': 'Brick/Stone',\n",
        "        'Reinforced Concrete': 'Reinforced Concrete',\n",
        "        'mud': 'Mud',\n",
        "        'reinforced concrete': 'Reinforced Concrete',\n",
        "        'RC': 'Reinforced Concrete',\n",
        "        'soil, water, loam Mixed': 'Soil/Loam/Water Mixed',\n",
        "        'brick/stone': 'Brick/Stone',\n",
        "        'Other': 'Other',\n",
        "        'Lumber': 'Lumber',\n",
        "        'Brick/Stone': 'Brick/Stone',\n",
        "        'TImber': 'Timber',\n",
        "        'Timber': 'Timber',\n",
        "        'Wood': 'Lumber' # Grouping Wood and Lumber together\n",
        "    }\n",
        "\n",
        "    # Replace similar values with their group\n",
        "    if value in value_map:\n",
        "        return value_map[value]\n",
        "    else:\n",
        "        return value\n",
        "\n",
        "def convert_ofloor(value):\n",
        "    # Create a dictionary to map similar values to their group\n",
        "    value_map = {\n",
        "        'TImber/Bamboo-Mud': 'Timber/Bamboo-Mud',\n",
        "        'Wood-Mud or Bamboo Mud': 'Wood/Bamboo-Mud',\n",
        "        'Timber Mud or Bamboo-Mud': 'Timber/Bamboo-Mud',\n",
        "        'Not applicable': 'Other',\n",
        "        'Wood or Bamboo Mud': 'Wood/Bamboo-Mud',\n",
        "        'rcc/rb/rbc': 'RCC/RB/RBC',\n",
        "        'Wood-Plank': 'Wood-Plank',\n",
        "        'Timber-Planck': 'Timber-Plank',\n",
        "        'Lumber-plank': 'Wood-Plank',\n",
        "        'Reinforced brick concrete/rcc/rbc': 'RCC/RB/RBC',\n",
        "        'reinforced cement concrete/rb/rbc': 'RCC/RB/RBC'\n",
        "    }\n",
        "\n",
        "    # Replace similar values with their group\n",
        "    if value in value_map:\n",
        "        return value_map[value]\n",
        "    else:\n",
        "        return value\n",
        "\n",
        "def convert_status(x):\n",
        "    # Create a dictionary to map similar values to their group\n",
        "    value_map = {\n",
        "        'Private Use': 'Private',\n",
        "        'Private': 'Private',\n",
        "        'Prvt': 'Private',\n",
        "        'Privste': 'Private',\n",
        "        'Public Space': 'Public',\n",
        "        'Public': 'Public',\n",
        "        'Unknown': 'Unknown',\n",
        "        'Public Use': 'Public',\n",
        "        'Institutionals': 'Institutional',\n",
        "        'Unspecified': 'Unknown',\n",
        "        'Institutional Use': 'Institutional',\n",
        "        'Other': 'Other',\n",
        "        'Institutional': 'Institutional'\n",
        "    }\n",
        "\n",
        "    # Replace similar values with their group\n",
        "    if x in value_map:\n",
        "        return value_map[x]\n",
        "    else:\n",
        "        return x\n",
        "\n",
        "def convert_residing(x):\n",
        "    if x == 'None':\n",
        "        return 0\n",
        "    elif type(x) == str:\n",
        "        return int(float(x))\n",
        "    else:\n",
        "        return x"
      ]
    },
    {
      "cell_type": "code",
      "execution_count": null,
      "metadata": {
        "id": "sZTnEFADwpjP",
        "colab": {
          "base_uri": "https://localhost:8080/",
          "height": 438
        },
        "outputId": "e47b31ed-044b-435d-bf82-395908ee3673"
      },
      "outputs": [
        {
          "output_type": "execute_result",
          "data": {
            "text/plain": [
              "   floors_before_eq (total)  old_building  plinth_area (ft^2)  \\\n",
              "0                       2.0           1.0               256.0   \n",
              "1                       3.0           3.0               985.0   \n",
              "2                       2.0           7.0                 NaN   \n",
              "3                       2.0          18.0               185.0   \n",
              "4                       2.0          22.0               290.0   \n",
              "\n",
              "   height_before_eq (ft) land_surface_condition       type_of_foundation  \\\n",
              "0                   22.0                   Flat            Bamboo/Timber   \n",
              "1                   18.0                   Flat  Clay mortar-Stone/Brick   \n",
              "2                   14.0                   Flat   Mud mortar-Stone/Brick   \n",
              "3                   15.0                   Flat  Clay mortar-Stone/Brick   \n",
              "4                   17.0                   Flat  Clay mortar-Stone/Brick   \n",
              "\n",
              "                   type_of_roof type_of_ground_floor type_of_other_floor  \\\n",
              "0      Bamboo/Timber Light roof                 Clay   Timber/Bamboo-Mud   \n",
              "1  Wood/Bamboo Light/Heavy roof                 Clay   Timber/Bamboo-Mud   \n",
              "2                           NaN                 Clay     Wood/Bamboo-Mud   \n",
              "3  Wood/Bamboo Light/Heavy roof                 Clay   Timber/Bamboo-Mud   \n",
              "4      Bamboo/Timber Light roof                 Clay   Timber/Bamboo-Mud   \n",
              "\n",
              "       position  ... type_of_reinforcement_concrete residential_type  \\\n",
              "0  Not attached  ...                            0.0  Non-residential   \n",
              "1  Not attached  ...                            0.0  Non-residential   \n",
              "2  Not attached  ...                            0.0  Non-residential   \n",
              "3  Not attached  ...                            0.0  Non-residential   \n",
              "4  Not attached  ...                            0.0  Non-residential   \n",
              "\n",
              "  no_family_residing  public_place_type  industrial_use_type  \\\n",
              "0                1.0         Non-public       Non-industrial   \n",
              "1                1.0         Non-public       Non-industrial   \n",
              "2                1.0         Non-public       Non-industrial   \n",
              "3                1.0         Non-public       Non-industrial   \n",
              "4                1.0         Non-public       Non-industrial   \n",
              "\n",
              "  govermental_use_type  flexible_superstructure wall_binding wall_material  \\\n",
              "0      Non-govermental              unavailable          0.0           0.0   \n",
              "1      Non-govermental              unavailable          5.0           2.0   \n",
              "2      Non-govermental              unavailable          5.0           2.0   \n",
              "3      Non-govermental              unavailable          5.0           2.0   \n",
              "4      Non-govermental              unavailable          5.0           2.0   \n",
              "\n",
              "  damage_grade  \n",
              "0          1.0  \n",
              "1          5.0  \n",
              "2          5.0  \n",
              "3          4.0  \n",
              "4          1.0  \n",
              "\n",
              "[5 rows x 24 columns]"
            ],
            "text/html": [
              "\n",
              "  <div id=\"df-401e6a8f-bcdc-439b-b731-f4f966b64b00\">\n",
              "    <div class=\"colab-df-container\">\n",
              "      <div>\n",
              "<style scoped>\n",
              "    .dataframe tbody tr th:only-of-type {\n",
              "        vertical-align: middle;\n",
              "    }\n",
              "\n",
              "    .dataframe tbody tr th {\n",
              "        vertical-align: top;\n",
              "    }\n",
              "\n",
              "    .dataframe thead th {\n",
              "        text-align: right;\n",
              "    }\n",
              "</style>\n",
              "<table border=\"1\" class=\"dataframe\">\n",
              "  <thead>\n",
              "    <tr style=\"text-align: right;\">\n",
              "      <th></th>\n",
              "      <th>floors_before_eq (total)</th>\n",
              "      <th>old_building</th>\n",
              "      <th>plinth_area (ft^2)</th>\n",
              "      <th>height_before_eq (ft)</th>\n",
              "      <th>land_surface_condition</th>\n",
              "      <th>type_of_foundation</th>\n",
              "      <th>type_of_roof</th>\n",
              "      <th>type_of_ground_floor</th>\n",
              "      <th>type_of_other_floor</th>\n",
              "      <th>position</th>\n",
              "      <th>...</th>\n",
              "      <th>type_of_reinforcement_concrete</th>\n",
              "      <th>residential_type</th>\n",
              "      <th>no_family_residing</th>\n",
              "      <th>public_place_type</th>\n",
              "      <th>industrial_use_type</th>\n",
              "      <th>govermental_use_type</th>\n",
              "      <th>flexible_superstructure</th>\n",
              "      <th>wall_binding</th>\n",
              "      <th>wall_material</th>\n",
              "      <th>damage_grade</th>\n",
              "    </tr>\n",
              "  </thead>\n",
              "  <tbody>\n",
              "    <tr>\n",
              "      <th>0</th>\n",
              "      <td>2.0</td>\n",
              "      <td>1.0</td>\n",
              "      <td>256.0</td>\n",
              "      <td>22.0</td>\n",
              "      <td>Flat</td>\n",
              "      <td>Bamboo/Timber</td>\n",
              "      <td>Bamboo/Timber Light roof</td>\n",
              "      <td>Clay</td>\n",
              "      <td>Timber/Bamboo-Mud</td>\n",
              "      <td>Not attached</td>\n",
              "      <td>...</td>\n",
              "      <td>0.0</td>\n",
              "      <td>Non-residential</td>\n",
              "      <td>1.0</td>\n",
              "      <td>Non-public</td>\n",
              "      <td>Non-industrial</td>\n",
              "      <td>Non-govermental</td>\n",
              "      <td>unavailable</td>\n",
              "      <td>0.0</td>\n",
              "      <td>0.0</td>\n",
              "      <td>1.0</td>\n",
              "    </tr>\n",
              "    <tr>\n",
              "      <th>1</th>\n",
              "      <td>3.0</td>\n",
              "      <td>3.0</td>\n",
              "      <td>985.0</td>\n",
              "      <td>18.0</td>\n",
              "      <td>Flat</td>\n",
              "      <td>Clay mortar-Stone/Brick</td>\n",
              "      <td>Wood/Bamboo Light/Heavy roof</td>\n",
              "      <td>Clay</td>\n",
              "      <td>Timber/Bamboo-Mud</td>\n",
              "      <td>Not attached</td>\n",
              "      <td>...</td>\n",
              "      <td>0.0</td>\n",
              "      <td>Non-residential</td>\n",
              "      <td>1.0</td>\n",
              "      <td>Non-public</td>\n",
              "      <td>Non-industrial</td>\n",
              "      <td>Non-govermental</td>\n",
              "      <td>unavailable</td>\n",
              "      <td>5.0</td>\n",
              "      <td>2.0</td>\n",
              "      <td>5.0</td>\n",
              "    </tr>\n",
              "    <tr>\n",
              "      <th>2</th>\n",
              "      <td>2.0</td>\n",
              "      <td>7.0</td>\n",
              "      <td>NaN</td>\n",
              "      <td>14.0</td>\n",
              "      <td>Flat</td>\n",
              "      <td>Mud mortar-Stone/Brick</td>\n",
              "      <td>NaN</td>\n",
              "      <td>Clay</td>\n",
              "      <td>Wood/Bamboo-Mud</td>\n",
              "      <td>Not attached</td>\n",
              "      <td>...</td>\n",
              "      <td>0.0</td>\n",
              "      <td>Non-residential</td>\n",
              "      <td>1.0</td>\n",
              "      <td>Non-public</td>\n",
              "      <td>Non-industrial</td>\n",
              "      <td>Non-govermental</td>\n",
              "      <td>unavailable</td>\n",
              "      <td>5.0</td>\n",
              "      <td>2.0</td>\n",
              "      <td>5.0</td>\n",
              "    </tr>\n",
              "    <tr>\n",
              "      <th>3</th>\n",
              "      <td>2.0</td>\n",
              "      <td>18.0</td>\n",
              "      <td>185.0</td>\n",
              "      <td>15.0</td>\n",
              "      <td>Flat</td>\n",
              "      <td>Clay mortar-Stone/Brick</td>\n",
              "      <td>Wood/Bamboo Light/Heavy roof</td>\n",
              "      <td>Clay</td>\n",
              "      <td>Timber/Bamboo-Mud</td>\n",
              "      <td>Not attached</td>\n",
              "      <td>...</td>\n",
              "      <td>0.0</td>\n",
              "      <td>Non-residential</td>\n",
              "      <td>1.0</td>\n",
              "      <td>Non-public</td>\n",
              "      <td>Non-industrial</td>\n",
              "      <td>Non-govermental</td>\n",
              "      <td>unavailable</td>\n",
              "      <td>5.0</td>\n",
              "      <td>2.0</td>\n",
              "      <td>4.0</td>\n",
              "    </tr>\n",
              "    <tr>\n",
              "      <th>4</th>\n",
              "      <td>2.0</td>\n",
              "      <td>22.0</td>\n",
              "      <td>290.0</td>\n",
              "      <td>17.0</td>\n",
              "      <td>Flat</td>\n",
              "      <td>Clay mortar-Stone/Brick</td>\n",
              "      <td>Bamboo/Timber Light roof</td>\n",
              "      <td>Clay</td>\n",
              "      <td>Timber/Bamboo-Mud</td>\n",
              "      <td>Not attached</td>\n",
              "      <td>...</td>\n",
              "      <td>0.0</td>\n",
              "      <td>Non-residential</td>\n",
              "      <td>1.0</td>\n",
              "      <td>Non-public</td>\n",
              "      <td>Non-industrial</td>\n",
              "      <td>Non-govermental</td>\n",
              "      <td>unavailable</td>\n",
              "      <td>5.0</td>\n",
              "      <td>2.0</td>\n",
              "      <td>1.0</td>\n",
              "    </tr>\n",
              "  </tbody>\n",
              "</table>\n",
              "<p>5 rows × 24 columns</p>\n",
              "</div>\n",
              "      <button class=\"colab-df-convert\" onclick=\"convertToInteractive('df-401e6a8f-bcdc-439b-b731-f4f966b64b00')\"\n",
              "              title=\"Convert this dataframe to an interactive table.\"\n",
              "              style=\"display:none;\">\n",
              "        \n",
              "  <svg xmlns=\"http://www.w3.org/2000/svg\" height=\"24px\"viewBox=\"0 0 24 24\"\n",
              "       width=\"24px\">\n",
              "    <path d=\"M0 0h24v24H0V0z\" fill=\"none\"/>\n",
              "    <path d=\"M18.56 5.44l.94 2.06.94-2.06 2.06-.94-2.06-.94-.94-2.06-.94 2.06-2.06.94zm-11 1L8.5 8.5l.94-2.06 2.06-.94-2.06-.94L8.5 2.5l-.94 2.06-2.06.94zm10 10l.94 2.06.94-2.06 2.06-.94-2.06-.94-.94-2.06-.94 2.06-2.06.94z\"/><path d=\"M17.41 7.96l-1.37-1.37c-.4-.4-.92-.59-1.43-.59-.52 0-1.04.2-1.43.59L10.3 9.45l-7.72 7.72c-.78.78-.78 2.05 0 2.83L4 21.41c.39.39.9.59 1.41.59.51 0 1.02-.2 1.41-.59l7.78-7.78 2.81-2.81c.8-.78.8-2.07 0-2.86zM5.41 20L4 18.59l7.72-7.72 1.47 1.35L5.41 20z\"/>\n",
              "  </svg>\n",
              "      </button>\n",
              "      \n",
              "  <style>\n",
              "    .colab-df-container {\n",
              "      display:flex;\n",
              "      flex-wrap:wrap;\n",
              "      gap: 12px;\n",
              "    }\n",
              "\n",
              "    .colab-df-convert {\n",
              "      background-color: #E8F0FE;\n",
              "      border: none;\n",
              "      border-radius: 50%;\n",
              "      cursor: pointer;\n",
              "      display: none;\n",
              "      fill: #1967D2;\n",
              "      height: 32px;\n",
              "      padding: 0 0 0 0;\n",
              "      width: 32px;\n",
              "    }\n",
              "\n",
              "    .colab-df-convert:hover {\n",
              "      background-color: #E2EBFA;\n",
              "      box-shadow: 0px 1px 2px rgba(60, 64, 67, 0.3), 0px 1px 3px 1px rgba(60, 64, 67, 0.15);\n",
              "      fill: #174EA6;\n",
              "    }\n",
              "\n",
              "    [theme=dark] .colab-df-convert {\n",
              "      background-color: #3B4455;\n",
              "      fill: #D2E3FC;\n",
              "    }\n",
              "\n",
              "    [theme=dark] .colab-df-convert:hover {\n",
              "      background-color: #434B5C;\n",
              "      box-shadow: 0px 1px 3px 1px rgba(0, 0, 0, 0.15);\n",
              "      filter: drop-shadow(0px 1px 2px rgba(0, 0, 0, 0.3));\n",
              "      fill: #FFFFFF;\n",
              "    }\n",
              "  </style>\n",
              "\n",
              "      <script>\n",
              "        const buttonEl =\n",
              "          document.querySelector('#df-401e6a8f-bcdc-439b-b731-f4f966b64b00 button.colab-df-convert');\n",
              "        buttonEl.style.display =\n",
              "          google.colab.kernel.accessAllowed ? 'block' : 'none';\n",
              "\n",
              "        async function convertToInteractive(key) {\n",
              "          const element = document.querySelector('#df-401e6a8f-bcdc-439b-b731-f4f966b64b00');\n",
              "          const dataTable =\n",
              "            await google.colab.kernel.invokeFunction('convertToInteractive',\n",
              "                                                     [key], {});\n",
              "          if (!dataTable) return;\n",
              "\n",
              "          const docLinkHtml = 'Like what you see? Visit the ' +\n",
              "            '<a target=\"_blank\" href=https://colab.research.google.com/notebooks/data_table.ipynb>data table notebook</a>'\n",
              "            + ' to learn more about interactive tables.';\n",
              "          element.innerHTML = '';\n",
              "          dataTable['output_type'] = 'display_data';\n",
              "          await google.colab.output.renderOutput(dataTable, element);\n",
              "          const docLink = document.createElement('div');\n",
              "          docLink.innerHTML = docLinkHtml;\n",
              "          element.appendChild(docLink);\n",
              "        }\n",
              "      </script>\n",
              "    </div>\n",
              "  </div>\n",
              "  "
            ]
          },
          "metadata": {},
          "execution_count": 21
        }
      ],
      "source": [
        "train_clean = train_df.copy()\n",
        "\n",
        "train_clean['floors_before_eq (total)'] = train_df['floors_before_eq (total)'].apply(convert_floors)\n",
        "train_clean['plinth_area (ft^2)'] = train_df['plinth_area (ft^2)'].apply(convert_plinth_area)\n",
        "train_clean['type_of_foundation'] = train_df['type_of_foundation'].apply(convert_foundation)\n",
        "train_clean['type_of_roof'] = train_df['type_of_roof'].apply(convert_roof)\n",
        "train_clean['type_of_ground_floor'] = train_df['type_of_ground_floor'].apply(convert_gfloor)\n",
        "train_clean['type_of_other_floor'] = train_df['type_of_other_floor'].apply(convert_ofloor)\n",
        "train_clean['legal_ownership_status'] = train_df['legal_ownership_status'].apply(convert_status)\n",
        "train_clean['no_family_residing'] = train_df['no_family_residing'].apply(convert_residing)\n",
        "\n",
        "train_clean.head()"
      ]
    },
    {
      "cell_type": "code",
      "execution_count": null,
      "metadata": {
        "id": "Js36nAd3wpjQ"
      },
      "outputs": [],
      "source": [
        "numerik = train_clean.select_dtypes(include=['int64', 'float64'])\n",
        "kategorik = train_clean.select_dtypes(include=['object'])"
      ]
    },
    {
      "cell_type": "code",
      "execution_count": null,
      "metadata": {
        "id": "ZUd5aWFywpjQ",
        "colab": {
          "base_uri": "https://localhost:8080/"
        },
        "outputId": "6202fbe1-879c-49c5-cd15-4ab8e6d1ff6b"
      },
      "outputs": [
        {
          "output_type": "stream",
          "name": "stdout",
          "text": [
            "Index(['floors_before_eq (total)', 'old_building', 'plinth_area (ft^2)',\n",
            "       'height_before_eq (ft)', 'has_secondary_use',\n",
            "       'type_of_reinforcement_concrete', 'no_family_residing', 'wall_binding',\n",
            "       'wall_material', 'damage_grade'],\n",
            "      dtype='object')\n",
            "10\n"
          ]
        }
      ],
      "source": [
        "numerik_columns = numerik.columns\n",
        "print(numerik.columns)\n",
        "print(len(numerik.columns))"
      ]
    },
    {
      "cell_type": "code",
      "execution_count": null,
      "metadata": {
        "id": "jlvrOCI_wpjQ",
        "colab": {
          "base_uri": "https://localhost:8080/"
        },
        "outputId": "4c747393-6daa-4f72-ae45-c41a3dff88c1"
      },
      "outputs": [
        {
          "output_type": "stream",
          "name": "stdout",
          "text": [
            "Index(['land_surface_condition', 'type_of_foundation', 'type_of_roof',\n",
            "       'type_of_ground_floor', 'type_of_other_floor', 'position',\n",
            "       'building_plan_configuration', 'technical_solution_proposed',\n",
            "       'legal_ownership_status', 'residential_type', 'public_place_type',\n",
            "       'industrial_use_type', 'govermental_use_type',\n",
            "       'flexible_superstructure'],\n",
            "      dtype='object')\n",
            "14\n"
          ]
        }
      ],
      "source": [
        "kategorik_columns = kategorik.columns\n",
        "print(kategorik.columns)\n",
        "print(len(kategorik.columns))"
      ]
    },
    {
      "cell_type": "code",
      "execution_count": null,
      "metadata": {
        "id": "0FXqDi7nwpjQ"
      },
      "outputs": [],
      "source": [
        "# fig, axes = plt.subplots(4, 3, figsize=(12, 14))\n",
        "# fig.suptitle('Numerik Data Distribution\\n\\n')\n",
        "\n",
        "# sns.boxplot(train_clean, x=numerik_columns[0], ax=axes[0,0], color='r')\n",
        "# axes[0,0].set_title(numerik_columns[0])\n",
        "\n",
        "# sns.boxplot(train_clean, x=numerik_columns[1], ax=axes[0,1], color='y')\n",
        "# axes[0,1].set_title(numerik_columns[1])\n",
        "\n",
        "# sns.boxplot(train_clean, x=numerik_columns[2], ax=axes[0,2], color='g')\n",
        "# axes[0,2].set_title(numerik_columns[2])\n",
        "\n",
        "# sns.boxplot(train_clean, x=numerik_columns[3], ax=axes[1,0], color='b')\n",
        "# axes[1,0].set_title(numerik_columns[3])\n",
        "\n",
        "# sns.boxplot(train_clean, x=numerik_columns[4], ax=axes[1,1], color='k')\n",
        "# axes[1,1].set_title(numerik_columns[4])\n",
        "\n",
        "# sns.boxplot(train_clean, x=numerik_columns[5], ax=axes[1,2], color='c')\n",
        "# axes[1,2].set_title(numerik_columns[5])\n",
        "\n",
        "# sns.boxplot(train_clean, x=numerik_columns[6], ax=axes[2,0], color='m')\n",
        "# axes[2,1].set_title(numerik_columns[6])\n",
        "\n",
        "# sns.boxplot(train_clean, x=numerik_columns[7], ax=axes[2,1], color='m')\n",
        "# axes[2,1].set_title(numerik_columns[7])\n",
        "\n",
        "# sns.boxplot(train_clean, x=numerik_columns[8], ax=axes[2,2], color='m')\n",
        "# axes[2,2].set_title(numerik_columns[8])\n",
        "\n",
        "# sns.boxplot(train_clean, x=numerik_columns[9], ax=axes[3,1], color='m')\n",
        "# axes[3,1].set_title(numerik_columns[9])\n",
        "\n",
        "\n",
        "# fig.delaxes(axes[3,0])\n",
        "# fig.delaxes(axes[3,2])\n",
        "\n",
        "# plt.tight_layout()\n",
        "# plt.show()"
      ]
    },
    {
      "cell_type": "code",
      "execution_count": null,
      "metadata": {
        "id": "jvUyhM9HwpjR"
      },
      "outputs": [],
      "source": [
        "# fig, axes = plt.subplots(4, 3, figsize=(12, 14))\n",
        "# fig.suptitle('Numerik Data Distribution\\n\\n')\n",
        "\n",
        "# sns.histplot(train_clean, x=numerik_columns[0], kde=True, ax=axes[0,0], color='r')\n",
        "# axes[0,0].set_title(numerik_columns[0])\n",
        "\n",
        "# sns.histplot(train_clean, x=numerik_columns[1], kde=True, ax=axes[0,1], color='y')\n",
        "# axes[0,1].set_title(numerik_columns[1])\n",
        "\n",
        "# sns.histplot(train_clean, x=numerik_columns[2], kde=True, ax=axes[0,2], color='g')\n",
        "# axes[0,2].set_title(numerik_columns[2])\n",
        "\n",
        "# sns.histplot(train_clean, x=numerik_columns[3], kde=True, ax=axes[1,0], color='b')\n",
        "# axes[1,0].set_title(numerik_columns[3])\n",
        "\n",
        "# sns.histplot(train_clean, x=numerik_columns[4], kde=True, ax=axes[1,1], color='k')\n",
        "# axes[1,1].set_title(numerik_columns[4])\n",
        "\n",
        "# sns.histplot(train_clean, x=numerik_columns[5], kde=True, ax=axes[1,2], color='c')\n",
        "# axes[1,2].set_title(numerik_columns[5])\n",
        "\n",
        "# sns.histplot(train_clean, x=numerik_columns[6], kde=True, ax=axes[2,0], color='m')\n",
        "# axes[2,1].set_title(numerik_columns[6])\n",
        "\n",
        "# sns.histplot(train_clean, x=numerik_columns[7], kde=True, ax=axes[2,1], color='m')\n",
        "# axes[2,1].set_title(numerik_columns[7])\n",
        "\n",
        "# sns.histplot(train_clean, x=numerik_columns[8], kde=True, ax=axes[2,2], color='m')\n",
        "# axes[2,2].set_title(numerik_columns[8])\n",
        "\n",
        "# sns.histplot(train_clean, x=numerik_columns[9], kde=True, ax=axes[3,1], color='m')\n",
        "# axes[3,1].set_title(numerik_columns[9])\n",
        "\n",
        "\n",
        "# fig.delaxes(axes[3,0])\n",
        "# fig.delaxes(axes[3,2])\n",
        "\n",
        "# plt.tight_layout()\n",
        "# plt.show()"
      ]
    },
    {
      "cell_type": "code",
      "execution_count": null,
      "metadata": {
        "id": "zxCKLwYCwpjR",
        "colab": {
          "base_uri": "https://localhost:8080/",
          "height": 423
        },
        "outputId": "24b89ad6-a503-46dc-f23c-5c7434500bab"
      },
      "outputs": [
        {
          "output_type": "execute_result",
          "data": {
            "text/plain": [
              "        type_of_reinforcement_concrete  wall_binding  wall_material  \\\n",
              "0                                  0.0           0.0            0.0   \n",
              "1                                  0.0           5.0            2.0   \n",
              "2                                  0.0           5.0            2.0   \n",
              "3                                  0.0           5.0            2.0   \n",
              "4                                  0.0           5.0            2.0   \n",
              "...                                ...           ...            ...   \n",
              "722810                             0.0           1.0            0.0   \n",
              "722811                             0.0           5.0            2.0   \n",
              "722812                             0.0           5.0            1.0   \n",
              "722813                             0.0           5.0            2.0   \n",
              "722814                             0.0           5.0            2.0   \n",
              "\n",
              "        damage_grade  \n",
              "0                1.0  \n",
              "1                5.0  \n",
              "2                5.0  \n",
              "3                4.0  \n",
              "4                1.0  \n",
              "...              ...  \n",
              "722810           4.0  \n",
              "722811           5.0  \n",
              "722812           5.0  \n",
              "722813           5.0  \n",
              "722814           5.0  \n",
              "\n",
              "[722815 rows x 4 columns]"
            ],
            "text/html": [
              "\n",
              "  <div id=\"df-5c59a310-b13f-4c14-ac3a-3743eb9f366e\">\n",
              "    <div class=\"colab-df-container\">\n",
              "      <div>\n",
              "<style scoped>\n",
              "    .dataframe tbody tr th:only-of-type {\n",
              "        vertical-align: middle;\n",
              "    }\n",
              "\n",
              "    .dataframe tbody tr th {\n",
              "        vertical-align: top;\n",
              "    }\n",
              "\n",
              "    .dataframe thead th {\n",
              "        text-align: right;\n",
              "    }\n",
              "</style>\n",
              "<table border=\"1\" class=\"dataframe\">\n",
              "  <thead>\n",
              "    <tr style=\"text-align: right;\">\n",
              "      <th></th>\n",
              "      <th>type_of_reinforcement_concrete</th>\n",
              "      <th>wall_binding</th>\n",
              "      <th>wall_material</th>\n",
              "      <th>damage_grade</th>\n",
              "    </tr>\n",
              "  </thead>\n",
              "  <tbody>\n",
              "    <tr>\n",
              "      <th>0</th>\n",
              "      <td>0.0</td>\n",
              "      <td>0.0</td>\n",
              "      <td>0.0</td>\n",
              "      <td>1.0</td>\n",
              "    </tr>\n",
              "    <tr>\n",
              "      <th>1</th>\n",
              "      <td>0.0</td>\n",
              "      <td>5.0</td>\n",
              "      <td>2.0</td>\n",
              "      <td>5.0</td>\n",
              "    </tr>\n",
              "    <tr>\n",
              "      <th>2</th>\n",
              "      <td>0.0</td>\n",
              "      <td>5.0</td>\n",
              "      <td>2.0</td>\n",
              "      <td>5.0</td>\n",
              "    </tr>\n",
              "    <tr>\n",
              "      <th>3</th>\n",
              "      <td>0.0</td>\n",
              "      <td>5.0</td>\n",
              "      <td>2.0</td>\n",
              "      <td>4.0</td>\n",
              "    </tr>\n",
              "    <tr>\n",
              "      <th>4</th>\n",
              "      <td>0.0</td>\n",
              "      <td>5.0</td>\n",
              "      <td>2.0</td>\n",
              "      <td>1.0</td>\n",
              "    </tr>\n",
              "    <tr>\n",
              "      <th>...</th>\n",
              "      <td>...</td>\n",
              "      <td>...</td>\n",
              "      <td>...</td>\n",
              "      <td>...</td>\n",
              "    </tr>\n",
              "    <tr>\n",
              "      <th>722810</th>\n",
              "      <td>0.0</td>\n",
              "      <td>1.0</td>\n",
              "      <td>0.0</td>\n",
              "      <td>4.0</td>\n",
              "    </tr>\n",
              "    <tr>\n",
              "      <th>722811</th>\n",
              "      <td>0.0</td>\n",
              "      <td>5.0</td>\n",
              "      <td>2.0</td>\n",
              "      <td>5.0</td>\n",
              "    </tr>\n",
              "    <tr>\n",
              "      <th>722812</th>\n",
              "      <td>0.0</td>\n",
              "      <td>5.0</td>\n",
              "      <td>1.0</td>\n",
              "      <td>5.0</td>\n",
              "    </tr>\n",
              "    <tr>\n",
              "      <th>722813</th>\n",
              "      <td>0.0</td>\n",
              "      <td>5.0</td>\n",
              "      <td>2.0</td>\n",
              "      <td>5.0</td>\n",
              "    </tr>\n",
              "    <tr>\n",
              "      <th>722814</th>\n",
              "      <td>0.0</td>\n",
              "      <td>5.0</td>\n",
              "      <td>2.0</td>\n",
              "      <td>5.0</td>\n",
              "    </tr>\n",
              "  </tbody>\n",
              "</table>\n",
              "<p>722815 rows × 4 columns</p>\n",
              "</div>\n",
              "      <button class=\"colab-df-convert\" onclick=\"convertToInteractive('df-5c59a310-b13f-4c14-ac3a-3743eb9f366e')\"\n",
              "              title=\"Convert this dataframe to an interactive table.\"\n",
              "              style=\"display:none;\">\n",
              "        \n",
              "  <svg xmlns=\"http://www.w3.org/2000/svg\" height=\"24px\"viewBox=\"0 0 24 24\"\n",
              "       width=\"24px\">\n",
              "    <path d=\"M0 0h24v24H0V0z\" fill=\"none\"/>\n",
              "    <path d=\"M18.56 5.44l.94 2.06.94-2.06 2.06-.94-2.06-.94-.94-2.06-.94 2.06-2.06.94zm-11 1L8.5 8.5l.94-2.06 2.06-.94-2.06-.94L8.5 2.5l-.94 2.06-2.06.94zm10 10l.94 2.06.94-2.06 2.06-.94-2.06-.94-.94-2.06-.94 2.06-2.06.94z\"/><path d=\"M17.41 7.96l-1.37-1.37c-.4-.4-.92-.59-1.43-.59-.52 0-1.04.2-1.43.59L10.3 9.45l-7.72 7.72c-.78.78-.78 2.05 0 2.83L4 21.41c.39.39.9.59 1.41.59.51 0 1.02-.2 1.41-.59l7.78-7.78 2.81-2.81c.8-.78.8-2.07 0-2.86zM5.41 20L4 18.59l7.72-7.72 1.47 1.35L5.41 20z\"/>\n",
              "  </svg>\n",
              "      </button>\n",
              "      \n",
              "  <style>\n",
              "    .colab-df-container {\n",
              "      display:flex;\n",
              "      flex-wrap:wrap;\n",
              "      gap: 12px;\n",
              "    }\n",
              "\n",
              "    .colab-df-convert {\n",
              "      background-color: #E8F0FE;\n",
              "      border: none;\n",
              "      border-radius: 50%;\n",
              "      cursor: pointer;\n",
              "      display: none;\n",
              "      fill: #1967D2;\n",
              "      height: 32px;\n",
              "      padding: 0 0 0 0;\n",
              "      width: 32px;\n",
              "    }\n",
              "\n",
              "    .colab-df-convert:hover {\n",
              "      background-color: #E2EBFA;\n",
              "      box-shadow: 0px 1px 2px rgba(60, 64, 67, 0.3), 0px 1px 3px 1px rgba(60, 64, 67, 0.15);\n",
              "      fill: #174EA6;\n",
              "    }\n",
              "\n",
              "    [theme=dark] .colab-df-convert {\n",
              "      background-color: #3B4455;\n",
              "      fill: #D2E3FC;\n",
              "    }\n",
              "\n",
              "    [theme=dark] .colab-df-convert:hover {\n",
              "      background-color: #434B5C;\n",
              "      box-shadow: 0px 1px 3px 1px rgba(0, 0, 0, 0.15);\n",
              "      filter: drop-shadow(0px 1px 2px rgba(0, 0, 0, 0.3));\n",
              "      fill: #FFFFFF;\n",
              "    }\n",
              "  </style>\n",
              "\n",
              "      <script>\n",
              "        const buttonEl =\n",
              "          document.querySelector('#df-5c59a310-b13f-4c14-ac3a-3743eb9f366e button.colab-df-convert');\n",
              "        buttonEl.style.display =\n",
              "          google.colab.kernel.accessAllowed ? 'block' : 'none';\n",
              "\n",
              "        async function convertToInteractive(key) {\n",
              "          const element = document.querySelector('#df-5c59a310-b13f-4c14-ac3a-3743eb9f366e');\n",
              "          const dataTable =\n",
              "            await google.colab.kernel.invokeFunction('convertToInteractive',\n",
              "                                                     [key], {});\n",
              "          if (!dataTable) return;\n",
              "\n",
              "          const docLinkHtml = 'Like what you see? Visit the ' +\n",
              "            '<a target=\"_blank\" href=https://colab.research.google.com/notebooks/data_table.ipynb>data table notebook</a>'\n",
              "            + ' to learn more about interactive tables.';\n",
              "          element.innerHTML = '';\n",
              "          dataTable['output_type'] = 'display_data';\n",
              "          await google.colab.output.renderOutput(dataTable, element);\n",
              "          const docLink = document.createElement('div');\n",
              "          docLink.innerHTML = docLinkHtml;\n",
              "          element.appendChild(docLink);\n",
              "        }\n",
              "      </script>\n",
              "    </div>\n",
              "  </div>\n",
              "  "
            ]
          },
          "metadata": {},
          "execution_count": 27
        }
      ],
      "source": [
        "train_clean[['type_of_reinforcement_concrete', 'wall_binding', 'wall_material', 'damage_grade']]"
      ]
    },
    {
      "cell_type": "code",
      "execution_count": null,
      "metadata": {
        "id": "0YxRzLMfwpjR",
        "colab": {
          "base_uri": "https://localhost:8080/",
          "height": 748
        },
        "outputId": "13388b04-5d2d-471e-873d-9a0ce64f6a0d"
      },
      "outputs": [
        {
          "output_type": "execute_result",
          "data": {
            "text/plain": [
              "Text(0.5, 1.0, '\\nKorelasi Data Numerik\\n')"
            ]
          },
          "metadata": {},
          "execution_count": 28
        },
        {
          "output_type": "display_data",
          "data": {
            "text/plain": [
              "<Figure size 640x480 with 2 Axes>"
            ],
            "image/png": "[encoded data removed]"
          },
          "metadata": {}
        }
      ],
      "source": [
        "sns.heatmap(\n",
        "    numerik.corr(),\n",
        "    annot=True,\n",
        "    fmt='.2f',\n",
        "    annot_kws={'fontsize': 10}\n",
        ")\n",
        "\n",
        "plt.title('\\nKorelasi Data Numerik\\n')\n",
        "# sns.set(font_scale=3)\n",
        "# plt.subplots_adjust(top=0.92, bottom=0.08, left=0.12, right=0.95)\n"
      ]
    },
    {
      "cell_type": "markdown",
      "metadata": {
        "id": "YeuSzY9ZwpjR"
      },
      "source": [
        "## Target Analysis"
      ]
    },
    {
      "cell_type": "code",
      "execution_count": null,
      "metadata": {
        "id": "JQgcA4OHwpjR",
        "colab": {
          "base_uri": "https://localhost:8080/"
        },
        "outputId": "28acd5f2-3635-442e-9786-fd35d625f3e8"
      },
      "outputs": [
        {
          "output_type": "execute_result",
          "data": {
            "text/plain": [
              "5.0    261631\n",
              "4.0    174337\n",
              "3.0    129242\n",
              "2.0     83011\n",
              "1.0     74594\n",
              "Name: damage_grade, dtype: int64"
            ]
          },
          "metadata": {},
          "execution_count": 29
        }
      ],
      "source": [
        "train_clean['damage_grade'].value_counts()"
      ]
    },
    {
      "cell_type": "code",
      "execution_count": null,
      "metadata": {
        "id": "nPwFVeCywpjS",
        "colab": {
          "base_uri": "https://localhost:8080/",
          "height": 476
        },
        "outputId": "126e9b59-dad3-4a89-f90a-8e704eeb229c"
      },
      "outputs": [
        {
          "output_type": "execute_result",
          "data": {
            "text/plain": [
              "<Axes: xlabel='damage_grade', ylabel='count'>"
            ]
          },
          "metadata": {},
          "execution_count": 30
        },
        {
          "output_type": "display_data",
          "data": {
            "text/plain": [
              "<Figure size 640x480 with 1 Axes>"
            ],
            "image/png": "[encoded data removed]"
          },
          "metadata": {}
        }
      ],
      "source": [
        "sns.countplot(train_clean, x='damage_grade')"
      ]
    },
    {
      "cell_type": "code",
      "execution_count": null,
      "metadata": {
        "id": "hqn_OJIwRrvp"
      },
      "outputs": [],
      "source": [
        "# sns.jointplot(x='wall_binding',y='damage_grade',data=train_clean,kind='reg')"
      ]
    },
    {
      "cell_type": "markdown",
      "metadata": {
        "id": "0fTYXwg1YsEd"
      },
      "source": [
        "# Preprocessing"
      ]
    },
    {
      "cell_type": "code",
      "execution_count": null,
      "metadata": {
        "id": "9iBmppbswpjS"
      },
      "outputs": [],
      "source": [
        "from sklearn.pipeline import Pipeline, make_pipeline\n",
        "from sklearn.compose import ColumnTransformer\n",
        "from sklearn import set_config\n",
        "from sklearn.base import BaseEstimator, TransformerMixin\n",
        "from sklearn.impute import SimpleImputer\n",
        "from sklearn.ensemble import IsolationForest\n",
        "from sklearn.preprocessing import FunctionTransformer, LabelEncoder, OneHotEncoder, OrdinalEncoder, StandardScaler, MinMaxScaler"
      ]
    },
    {
      "cell_type": "code",
      "execution_count": null,
      "metadata": {
        "id": "G-3ZawsuZQqc"
      },
      "outputs": [],
      "source": [
        "def convert_plinth_area(x):\n",
        "    if x == 'More than 1000 ft^2':\n",
        "        return 1000\n",
        "    elif type(x) == str:\n",
        "        if 'ft' in x:\n",
        "            return int(x.split(' ')[0])\n",
        "    elif type(x) == int:\n",
        "        return x\n",
        "    else:\n",
        "        return np.nan\n",
        "\n",
        "def convert_floors(x):\n",
        "    if x in ['1st Story', 'floor one', 'Has 1 floor', 'one story', '1', 'Floor 1', 'floor 1st',\n",
        "           'one', 'Just 1 floor',]:\n",
        "        return 1\n",
        "    elif x in ['floor two', 'Two Floor', 'two', ' just 2 floor', 'There is 2 Floor/Story',\n",
        "             'Floor two', 'Floor 2', '2', 'two story', 'floor second', '2 floor', ]:\n",
        "        return 2\n",
        "    elif x in ['Floor 3', 'Three floor', 'floor third', '3.00', ' has 3 Floor', 'three Story',\n",
        "             'Floor-three', 'Three', ]:\n",
        "        return 3\n",
        "    elif x in ['four Floor', ' has Four fl', 'Fl four', '4', 'Floor 4', 'floor four', 'Four Story',\n",
        "             'Four', ]:\n",
        "        return 4\n",
        "    elif x in ['fifth', 'Fl Five', '5', 'Floor Fifth', 'five Floor', ' Has Five fl', 'Has Five fl']:\n",
        "        return 5\n",
        "    elif x in ['6']:\n",
        "        return 6\n",
        "    elif x in ['7']:\n",
        "        return 7\n",
        "    elif x in ['8']:\n",
        "        return 8\n",
        "    elif x in ['9']:\n",
        "        return 9\n",
        "    else:\n",
        "        return x\n",
        "\n",
        "def convert_foundation(x):\n",
        "    value_map = {\n",
        "        'Bamboo or Timber': 'Bamboo/Timber',\n",
        "        'Bamboo/TImber': 'Bamboo/Timber',\n",
        "        'Clay Sand Mixed mortar-Stone/Brick': 'Clay mortar-Stone/Brick',\n",
        "        'Cement-Stone or Cement-Brick': 'Cement-Stone/Brick',\n",
        "        'RC': 'Reinforced Concrete',\n",
        "        'Other': 'Others'\n",
        "    }\n",
        "\n",
        "    if x in value_map:\n",
        "        return value_map[x]\n",
        "    else:\n",
        "        return x\n",
        "\n",
        "def convert_roof(x):\n",
        "    # Create a dictionary to map similar values to their group\n",
        "    value_map = {\n",
        "        'Bamboo/Timber Light roof': 'Bamboo/Timber Light roof',\n",
        "        'Wood Light Roof or Bamboo Heavy Roof': 'Wood/Bamboo Light/Heavy roof',\n",
        "        'Wood Light Roof or Bamboo Light Roof': 'Wood/Bamboo Light/Heavy roof',\n",
        "        'Bamboo or Timber Light roof': 'Bamboo/Timber Light roof',\n",
        "        'Bamboo/TImber-Light Roof': 'Bamboo/Timber Light roof',\n",
        "        'Reinforced Brick Slab/rcc/rbc': 'Reinforced Brick Slab/rcc/rbc',\n",
        "        'Bamboo/Timber Heavy roof': 'Bamboo/Timber Heavy roof',\n",
        "        'reinforced cement concrete/rb/rbc': 'Reinforced cement concrete/rb/rbc',\n",
        "        'Bamboo or Timber Heavy roof': 'Bamboo/Timber Heavy roof',\n",
        "        'Bamboo/TImber-Heavy Roof': 'Bamboo/Timber Heavy roof',\n",
        "        'rcc/rb/rbc': 'Reinforced cement concrete/rb/rbc',\n",
        "        'Reinforced brick concrete/rcc/rbc': 'Reinforced cement concrete/rb/rbc'\n",
        "    }\n",
        "\n",
        "    # Replace similar values with their group\n",
        "    if x in value_map:\n",
        "        return value_map[x]\n",
        "    else:\n",
        "        return x\n",
        "\n",
        "def convert_gfloor(value):\n",
        "    # Create a dictionary to map similar values to their group\n",
        "    value_map = {\n",
        "        'Clay': 'Clay',\n",
        "        'Mud': 'Mud',\n",
        "        'Brick or Stone': 'Brick/Stone',\n",
        "        'Reinforced Concrete': 'Reinforced Concrete',\n",
        "        'mud': 'Mud',\n",
        "        'reinforced concrete': 'Reinforced Concrete',\n",
        "        'RC': 'Reinforced Concrete',\n",
        "        'soil, water, loam Mixed': 'Soil/Loam/Water Mixed',\n",
        "        'brick/stone': 'Brick/Stone',\n",
        "        'Other': 'Other',\n",
        "        'Lumber': 'Lumber',\n",
        "        'Brick/Stone': 'Brick/Stone',\n",
        "        'TImber': 'Timber',\n",
        "        'Timber': 'Timber',\n",
        "        'Wood': 'Lumber' # Grouping Wood and Lumber together\n",
        "    }\n",
        "\n",
        "    # Replace similar values with their group\n",
        "    if value in value_map:\n",
        "        return value_map[value]\n",
        "    else:\n",
        "        return value\n",
        "\n",
        "def convert_ofloor(value):\n",
        "    # Create a dictionary to map similar values to their group\n",
        "    value_map = {\n",
        "        'TImber/Bamboo-Mud': 'Timber/Bamboo-Mud',\n",
        "        'Wood-Mud or Bamboo Mud': 'Wood/Bamboo-Mud',\n",
        "        'Timber Mud or Bamboo-Mud': 'Timber/Bamboo-Mud',\n",
        "        'Not applicable': 'Other',\n",
        "        'Wood or Bamboo Mud': 'Wood/Bamboo-Mud',\n",
        "        'rcc/rb/rbc': 'RCC/RB/RBC',\n",
        "        'Wood-Plank': 'Wood-Plank',\n",
        "        'Timber-Planck': 'Timber-Plank',\n",
        "        'Lumber-plank': 'Wood-Plank',\n",
        "        'Reinforced brick concrete/rcc/rbc': 'RCC/RB/RBC',\n",
        "        'reinforced cement concrete/rb/rbc': 'RCC/RB/RBC'\n",
        "    }\n",
        "\n",
        "    # Replace similar values with their group\n",
        "    if value in value_map:\n",
        "        return value_map[value]\n",
        "    else:\n",
        "        return value\n",
        "\n",
        "def convert_status(x):\n",
        "    # Create a dictionary to map similar values to their group\n",
        "    value_map = {\n",
        "        'Private Use': 'Private',\n",
        "        'Private': 'Private',\n",
        "        'Prvt': 'Private',\n",
        "        'Privste': 'Private',\n",
        "        'Public Space': 'Public',\n",
        "        'Public': 'Public',\n",
        "        'Unknown': 'Unknown',\n",
        "        'Public Use': 'Public',\n",
        "        'Institutionals': 'Institutional',\n",
        "        'Unspecified': 'Unknown',\n",
        "        'Institutional Use': 'Institutional',\n",
        "        'Other': 'Other',\n",
        "        'Institutional': 'Institutional'\n",
        "    }\n",
        "\n",
        "    # Replace similar values with their group\n",
        "    if x in value_map:\n",
        "        return value_map[x]\n",
        "    else:\n",
        "        return x\n",
        "\n",
        "def convert_residing(x):\n",
        "    if x == 'None':\n",
        "        return 0\n",
        "    elif type(x) == str:\n",
        "        return int(float(x))\n",
        "    else:\n",
        "        return x"
      ]
    },
    {
      "cell_type": "code",
      "execution_count": null,
      "metadata": {
        "id": "-h-tnNa3WIcI",
        "colab": {
          "base_uri": "https://localhost:8080/",
          "height": 275
        },
        "outputId": "2c2f2600-d0d2-46b3-f029-fac31fc8c972"
      },
      "outputs": [
        {
          "output_type": "execute_result",
          "data": {
            "text/plain": [
              "   floors_before_eq (total)  old_building  plinth_area (ft^2)  \\\n",
              "0                       2.0           1.0               256.0   \n",
              "1                       3.0           3.0               985.0   \n",
              "\n",
              "   height_before_eq (ft) land_surface_condition       type_of_foundation  \\\n",
              "0                   22.0                   Flat            Bamboo/Timber   \n",
              "1                   18.0                   Flat  Clay mortar-Stone/Brick   \n",
              "\n",
              "                   type_of_roof type_of_ground_floor type_of_other_floor  \\\n",
              "0      Bamboo/Timber Light roof                 Clay   Timber/Bamboo-Mud   \n",
              "1  Wood/Bamboo Light/Heavy roof                 Clay   Timber/Bamboo-Mud   \n",
              "\n",
              "       position  ... type_of_reinforcement_concrete residential_type  \\\n",
              "0  Not attached  ...                            0.0  Non-residential   \n",
              "1  Not attached  ...                            0.0  Non-residential   \n",
              "\n",
              "  no_family_residing  public_place_type  industrial_use_type  \\\n",
              "0                1.0         Non-public       Non-industrial   \n",
              "1                1.0         Non-public       Non-industrial   \n",
              "\n",
              "  govermental_use_type  flexible_superstructure wall_binding wall_material  \\\n",
              "0      Non-govermental              unavailable          0.0           0.0   \n",
              "1      Non-govermental              unavailable          5.0           2.0   \n",
              "\n",
              "  damage_grade  \n",
              "0          1.0  \n",
              "1          5.0  \n",
              "\n",
              "[2 rows x 24 columns]"
            ],
            "text/html": [
              "\n",
              "  <div id=\"df-88fa362d-997f-4a2a-98a7-34ed7f4e64e7\">\n",
              "    <div class=\"colab-df-container\">\n",
              "      <div>\n",
              "<style scoped>\n",
              "    .dataframe tbody tr th:only-of-type {\n",
              "        vertical-align: middle;\n",
              "    }\n",
              "\n",
              "    .dataframe tbody tr th {\n",
              "        vertical-align: top;\n",
              "    }\n",
              "\n",
              "    .dataframe thead th {\n",
              "        text-align: right;\n",
              "    }\n",
              "</style>\n",
              "<table border=\"1\" class=\"dataframe\">\n",
              "  <thead>\n",
              "    <tr style=\"text-align: right;\">\n",
              "      <th></th>\n",
              "      <th>floors_before_eq (total)</th>\n",
              "      <th>old_building</th>\n",
              "      <th>plinth_area (ft^2)</th>\n",
              "      <th>height_before_eq (ft)</th>\n",
              "      <th>land_surface_condition</th>\n",
              "      <th>type_of_foundation</th>\n",
              "      <th>type_of_roof</th>\n",
              "      <th>type_of_ground_floor</th>\n",
              "      <th>type_of_other_floor</th>\n",
              "      <th>position</th>\n",
              "      <th>...</th>\n",
              "      <th>type_of_reinforcement_concrete</th>\n",
              "      <th>residential_type</th>\n",
              "      <th>no_family_residing</th>\n",
              "      <th>public_place_type</th>\n",
              "      <th>industrial_use_type</th>\n",
              "      <th>govermental_use_type</th>\n",
              "      <th>flexible_superstructure</th>\n",
              "      <th>wall_binding</th>\n",
              "      <th>wall_material</th>\n",
              "      <th>damage_grade</th>\n",
              "    </tr>\n",
              "  </thead>\n",
              "  <tbody>\n",
              "    <tr>\n",
              "      <th>0</th>\n",
              "      <td>2.0</td>\n",
              "      <td>1.0</td>\n",
              "      <td>256.0</td>\n",
              "      <td>22.0</td>\n",
              "      <td>Flat</td>\n",
              "      <td>Bamboo/Timber</td>\n",
              "      <td>Bamboo/Timber Light roof</td>\n",
              "      <td>Clay</td>\n",
              "      <td>Timber/Bamboo-Mud</td>\n",
              "      <td>Not attached</td>\n",
              "      <td>...</td>\n",
              "      <td>0.0</td>\n",
              "      <td>Non-residential</td>\n",
              "      <td>1.0</td>\n",
              "      <td>Non-public</td>\n",
              "      <td>Non-industrial</td>\n",
              "      <td>Non-govermental</td>\n",
              "      <td>unavailable</td>\n",
              "      <td>0.0</td>\n",
              "      <td>0.0</td>\n",
              "      <td>1.0</td>\n",
              "    </tr>\n",
              "    <tr>\n",
              "      <th>1</th>\n",
              "      <td>3.0</td>\n",
              "      <td>3.0</td>\n",
              "      <td>985.0</td>\n",
              "      <td>18.0</td>\n",
              "      <td>Flat</td>\n",
              "      <td>Clay mortar-Stone/Brick</td>\n",
              "      <td>Wood/Bamboo Light/Heavy roof</td>\n",
              "      <td>Clay</td>\n",
              "      <td>Timber/Bamboo-Mud</td>\n",
              "      <td>Not attached</td>\n",
              "      <td>...</td>\n",
              "      <td>0.0</td>\n",
              "      <td>Non-residential</td>\n",
              "      <td>1.0</td>\n",
              "      <td>Non-public</td>\n",
              "      <td>Non-industrial</td>\n",
              "      <td>Non-govermental</td>\n",
              "      <td>unavailable</td>\n",
              "      <td>5.0</td>\n",
              "      <td>2.0</td>\n",
              "      <td>5.0</td>\n",
              "    </tr>\n",
              "  </tbody>\n",
              "</table>\n",
              "<p>2 rows × 24 columns</p>\n",
              "</div>\n",
              "      <button class=\"colab-df-convert\" onclick=\"convertToInteractive('df-88fa362d-997f-4a2a-98a7-34ed7f4e64e7')\"\n",
              "              title=\"Convert this dataframe to an interactive table.\"\n",
              "              style=\"display:none;\">\n",
              "        \n",
              "  <svg xmlns=\"http://www.w3.org/2000/svg\" height=\"24px\"viewBox=\"0 0 24 24\"\n",
              "       width=\"24px\">\n",
              "    <path d=\"M0 0h24v24H0V0z\" fill=\"none\"/>\n",
              "    <path d=\"M18.56 5.44l.94 2.06.94-2.06 2.06-.94-2.06-.94-.94-2.06-.94 2.06-2.06.94zm-11 1L8.5 8.5l.94-2.06 2.06-.94-2.06-.94L8.5 2.5l-.94 2.06-2.06.94zm10 10l.94 2.06.94-2.06 2.06-.94-2.06-.94-.94-2.06-.94 2.06-2.06.94z\"/><path d=\"M17.41 7.96l-1.37-1.37c-.4-.4-.92-.59-1.43-.59-.52 0-1.04.2-1.43.59L10.3 9.45l-7.72 7.72c-.78.78-.78 2.05 0 2.83L4 21.41c.39.39.9.59 1.41.59.51 0 1.02-.2 1.41-.59l7.78-7.78 2.81-2.81c.8-.78.8-2.07 0-2.86zM5.41 20L4 18.59l7.72-7.72 1.47 1.35L5.41 20z\"/>\n",
              "  </svg>\n",
              "      </button>\n",
              "      \n",
              "  <style>\n",
              "    .colab-df-container {\n",
              "      display:flex;\n",
              "      flex-wrap:wrap;\n",
              "      gap: 12px;\n",
              "    }\n",
              "\n",
              "    .colab-df-convert {\n",
              "      background-color: #E8F0FE;\n",
              "      border: none;\n",
              "      border-radius: 50%;\n",
              "      cursor: pointer;\n",
              "      display: none;\n",
              "      fill: #1967D2;\n",
              "      height: 32px;\n",
              "      padding: 0 0 0 0;\n",
              "      width: 32px;\n",
              "    }\n",
              "\n",
              "    .colab-df-convert:hover {\n",
              "      background-color: #E2EBFA;\n",
              "      box-shadow: 0px 1px 2px rgba(60, 64, 67, 0.3), 0px 1px 3px 1px rgba(60, 64, 67, 0.15);\n",
              "      fill: #174EA6;\n",
              "    }\n",
              "\n",
              "    [theme=dark] .colab-df-convert {\n",
              "      background-color: #3B4455;\n",
              "      fill: #D2E3FC;\n",
              "    }\n",
              "\n",
              "    [theme=dark] .colab-df-convert:hover {\n",
              "      background-color: #434B5C;\n",
              "      box-shadow: 0px 1px 3px 1px rgba(0, 0, 0, 0.15);\n",
              "      filter: drop-shadow(0px 1px 2px rgba(0, 0, 0, 0.3));\n",
              "      fill: #FFFFFF;\n",
              "    }\n",
              "  </style>\n",
              "\n",
              "      <script>\n",
              "        const buttonEl =\n",
              "          document.querySelector('#df-88fa362d-997f-4a2a-98a7-34ed7f4e64e7 button.colab-df-convert');\n",
              "        buttonEl.style.display =\n",
              "          google.colab.kernel.accessAllowed ? 'block' : 'none';\n",
              "\n",
              "        async function convertToInteractive(key) {\n",
              "          const element = document.querySelector('#df-88fa362d-997f-4a2a-98a7-34ed7f4e64e7');\n",
              "          const dataTable =\n",
              "            await google.colab.kernel.invokeFunction('convertToInteractive',\n",
              "                                                     [key], {});\n",
              "          if (!dataTable) return;\n",
              "\n",
              "          const docLinkHtml = 'Like what you see? Visit the ' +\n",
              "            '<a target=\"_blank\" href=https://colab.research.google.com/notebooks/data_table.ipynb>data table notebook</a>'\n",
              "            + ' to learn more about interactive tables.';\n",
              "          element.innerHTML = '';\n",
              "          dataTable['output_type'] = 'display_data';\n",
              "          await google.colab.output.renderOutput(dataTable, element);\n",
              "          const docLink = document.createElement('div');\n",
              "          docLink.innerHTML = docLinkHtml;\n",
              "          element.appendChild(docLink);\n",
              "        }\n",
              "      </script>\n",
              "    </div>\n",
              "  </div>\n",
              "  "
            ]
          },
          "metadata": {},
          "execution_count": 34
        }
      ],
      "source": [
        "train_model = train_df.copy()\n",
        "\n",
        "train_model['floors_before_eq (total)'] = train_df['floors_before_eq (total)'].apply(convert_floors)\n",
        "train_model['plinth_area (ft^2)'] = train_df['plinth_area (ft^2)'].apply(convert_plinth_area)\n",
        "train_model['type_of_foundation'] = train_df['type_of_foundation'].apply(convert_foundation)\n",
        "train_model['type_of_roof'] = train_df['type_of_roof'].apply(convert_roof)\n",
        "train_model['type_of_ground_floor'] = train_df['type_of_ground_floor'].apply(convert_gfloor)\n",
        "train_model['type_of_other_floor'] = train_df['type_of_other_floor'].apply(convert_ofloor)\n",
        "train_model['legal_ownership_status'] = train_df['legal_ownership_status'].apply(convert_status)\n",
        "train_model['no_family_residing'] = train_df['no_family_residing'].apply(convert_residing)\n",
        "\n",
        "train_model.head(2)"
      ]
    },
    {
      "cell_type": "markdown",
      "metadata": {
        "id": "1EPqb-A10imV"
      },
      "source": [
        "### duplicate"
      ]
    },
    {
      "cell_type": "code",
      "execution_count": null,
      "metadata": {
        "id": "rVCUBxBx0fSh",
        "colab": {
          "base_uri": "https://localhost:8080/"
        },
        "outputId": "19ffded8-f1f7-43d5-ea24-e36a6a295184"
      },
      "outputs": [
        {
          "output_type": "stream",
          "name": "stdout",
          "text": [
            "335076\n",
            "(722815, 24)\n",
            "0\n",
            "(387739, 24)\n"
          ]
        }
      ],
      "source": [
        "print(train_df.duplicated().sum())\n",
        "print(train_df.shape)\n",
        "\n",
        "train_df_ndup = train_df.drop_duplicates(inplace=False)\n",
        "\n",
        "print(train_df_ndup.duplicated().sum())\n",
        "print(train_df_ndup.shape)"
      ]
    },
    {
      "cell_type": "markdown",
      "metadata": {
        "id": "WuVC1oxZ0k7a"
      },
      "source": [
        "### missing value"
      ]
    },
    {
      "cell_type": "code",
      "execution_count": null,
      "metadata": {
        "id": "6iZd8P8kwpjS",
        "colab": {
          "base_uri": "https://localhost:8080/"
        },
        "outputId": "e029157a-5f89-430e-b236-4f60905df976"
      },
      "outputs": [
        {
          "output_type": "execute_result",
          "data": {
            "text/plain": [
              "(46799, 24)"
            ]
          },
          "metadata": {},
          "execution_count": 36
        }
      ],
      "source": [
        "train_no_nan = train_df_ndup.dropna(inplace=False, axis=0)\n",
        "train_no_nan.shape"
      ]
    },
    {
      "cell_type": "code",
      "execution_count": null,
      "metadata": {
        "id": "O--69ezMdSCk",
        "colab": {
          "base_uri": "https://localhost:8080/",
          "height": 275
        },
        "outputId": "32f9ffa5-9095-4620-cb6a-82007d9949a1"
      },
      "outputs": [
        {
          "output_type": "execute_result",
          "data": {
            "text/plain": [
              "    floors_before_eq (total)  old_building  plinth_area (ft^2)  \\\n",
              "21                       1.0          22.0               300.0   \n",
              "27                       3.0          22.0               360.0   \n",
              "\n",
              "    height_before_eq (ft) land_surface_condition       type_of_foundation  \\\n",
              "21                   10.0         Moderate slope  Clay mortar-Stone/Brick   \n",
              "27                   18.0                   Flat  Clay mortar-Stone/Brick   \n",
              "\n",
              "                    type_of_roof type_of_ground_floor type_of_other_floor  \\\n",
              "21      Bamboo/Timber Light roof                  Mud               Other   \n",
              "27  Wood/Bamboo Light/Heavy roof                 Clay   Timber/Bamboo-Mud   \n",
              "\n",
              "        position  ... type_of_reinforcement_concrete residential_type  \\\n",
              "21  Not attached  ...                            0.0  Non-residential   \n",
              "27  Not attached  ...                            0.0  Non-residential   \n",
              "\n",
              "   no_family_residing  public_place_type  industrial_use_type  \\\n",
              "21                0.0         Non-public       Non-industrial   \n",
              "27                1.0         Non-public       Non-industrial   \n",
              "\n",
              "   govermental_use_type  flexible_superstructure wall_binding wall_material  \\\n",
              "21      Non-govermental              unavailable          5.0           2.0   \n",
              "27      Non-govermental              unavailable          5.0           2.0   \n",
              "\n",
              "   damage_grade  \n",
              "21          5.0  \n",
              "27          4.0  \n",
              "\n",
              "[2 rows x 24 columns]"
            ],
            "text/html": [
              "\n",
              "  <div id=\"df-31ae046d-0f3d-4f10-8b2c-c7fdd2d26b90\">\n",
              "    <div class=\"colab-df-container\">\n",
              "      <div>\n",
              "<style scoped>\n",
              "    .dataframe tbody tr th:only-of-type {\n",
              "        vertical-align: middle;\n",
              "    }\n",
              "\n",
              "    .dataframe tbody tr th {\n",
              "        vertical-align: top;\n",
              "    }\n",
              "\n",
              "    .dataframe thead th {\n",
              "        text-align: right;\n",
              "    }\n",
              "</style>\n",
              "<table border=\"1\" class=\"dataframe\">\n",
              "  <thead>\n",
              "    <tr style=\"text-align: right;\">\n",
              "      <th></th>\n",
              "      <th>floors_before_eq (total)</th>\n",
              "      <th>old_building</th>\n",
              "      <th>plinth_area (ft^2)</th>\n",
              "      <th>height_before_eq (ft)</th>\n",
              "      <th>land_surface_condition</th>\n",
              "      <th>type_of_foundation</th>\n",
              "      <th>type_of_roof</th>\n",
              "      <th>type_of_ground_floor</th>\n",
              "      <th>type_of_other_floor</th>\n",
              "      <th>position</th>\n",
              "      <th>...</th>\n",
              "      <th>type_of_reinforcement_concrete</th>\n",
              "      <th>residential_type</th>\n",
              "      <th>no_family_residing</th>\n",
              "      <th>public_place_type</th>\n",
              "      <th>industrial_use_type</th>\n",
              "      <th>govermental_use_type</th>\n",
              "      <th>flexible_superstructure</th>\n",
              "      <th>wall_binding</th>\n",
              "      <th>wall_material</th>\n",
              "      <th>damage_grade</th>\n",
              "    </tr>\n",
              "  </thead>\n",
              "  <tbody>\n",
              "    <tr>\n",
              "      <th>21</th>\n",
              "      <td>1.0</td>\n",
              "      <td>22.0</td>\n",
              "      <td>300.0</td>\n",
              "      <td>10.0</td>\n",
              "      <td>Moderate slope</td>\n",
              "      <td>Clay mortar-Stone/Brick</td>\n",
              "      <td>Bamboo/Timber Light roof</td>\n",
              "      <td>Mud</td>\n",
              "      <td>Other</td>\n",
              "      <td>Not attached</td>\n",
              "      <td>...</td>\n",
              "      <td>0.0</td>\n",
              "      <td>Non-residential</td>\n",
              "      <td>0.0</td>\n",
              "      <td>Non-public</td>\n",
              "      <td>Non-industrial</td>\n",
              "      <td>Non-govermental</td>\n",
              "      <td>unavailable</td>\n",
              "      <td>5.0</td>\n",
              "      <td>2.0</td>\n",
              "      <td>5.0</td>\n",
              "    </tr>\n",
              "    <tr>\n",
              "      <th>27</th>\n",
              "      <td>3.0</td>\n",
              "      <td>22.0</td>\n",
              "      <td>360.0</td>\n",
              "      <td>18.0</td>\n",
              "      <td>Flat</td>\n",
              "      <td>Clay mortar-Stone/Brick</td>\n",
              "      <td>Wood/Bamboo Light/Heavy roof</td>\n",
              "      <td>Clay</td>\n",
              "      <td>Timber/Bamboo-Mud</td>\n",
              "      <td>Not attached</td>\n",
              "      <td>...</td>\n",
              "      <td>0.0</td>\n",
              "      <td>Non-residential</td>\n",
              "      <td>1.0</td>\n",
              "      <td>Non-public</td>\n",
              "      <td>Non-industrial</td>\n",
              "      <td>Non-govermental</td>\n",
              "      <td>unavailable</td>\n",
              "      <td>5.0</td>\n",
              "      <td>2.0</td>\n",
              "      <td>4.0</td>\n",
              "    </tr>\n",
              "  </tbody>\n",
              "</table>\n",
              "<p>2 rows × 24 columns</p>\n",
              "</div>\n",
              "      <button class=\"colab-df-convert\" onclick=\"convertToInteractive('df-31ae046d-0f3d-4f10-8b2c-c7fdd2d26b90')\"\n",
              "              title=\"Convert this dataframe to an interactive table.\"\n",
              "              style=\"display:none;\">\n",
              "        \n",
              "  <svg xmlns=\"http://www.w3.org/2000/svg\" height=\"24px\"viewBox=\"0 0 24 24\"\n",
              "       width=\"24px\">\n",
              "    <path d=\"M0 0h24v24H0V0z\" fill=\"none\"/>\n",
              "    <path d=\"M18.56 5.44l.94 2.06.94-2.06 2.06-.94-2.06-.94-.94-2.06-.94 2.06-2.06.94zm-11 1L8.5 8.5l.94-2.06 2.06-.94-2.06-.94L8.5 2.5l-.94 2.06-2.06.94zm10 10l.94 2.06.94-2.06 2.06-.94-2.06-.94-.94-2.06-.94 2.06-2.06.94z\"/><path d=\"M17.41 7.96l-1.37-1.37c-.4-.4-.92-.59-1.43-.59-.52 0-1.04.2-1.43.59L10.3 9.45l-7.72 7.72c-.78.78-.78 2.05 0 2.83L4 21.41c.39.39.9.59 1.41.59.51 0 1.02-.2 1.41-.59l7.78-7.78 2.81-2.81c.8-.78.8-2.07 0-2.86zM5.41 20L4 18.59l7.72-7.72 1.47 1.35L5.41 20z\"/>\n",
              "  </svg>\n",
              "      </button>\n",
              "      \n",
              "  <style>\n",
              "    .colab-df-container {\n",
              "      display:flex;\n",
              "      flex-wrap:wrap;\n",
              "      gap: 12px;\n",
              "    }\n",
              "\n",
              "    .colab-df-convert {\n",
              "      background-color: #E8F0FE;\n",
              "      border: none;\n",
              "      border-radius: 50%;\n",
              "      cursor: pointer;\n",
              "      display: none;\n",
              "      fill: #1967D2;\n",
              "      height: 32px;\n",
              "      padding: 0 0 0 0;\n",
              "      width: 32px;\n",
              "    }\n",
              "\n",
              "    .colab-df-convert:hover {\n",
              "      background-color: #E2EBFA;\n",
              "      box-shadow: 0px 1px 2px rgba(60, 64, 67, 0.3), 0px 1px 3px 1px rgba(60, 64, 67, 0.15);\n",
              "      fill: #174EA6;\n",
              "    }\n",
              "\n",
              "    [theme=dark] .colab-df-convert {\n",
              "      background-color: #3B4455;\n",
              "      fill: #D2E3FC;\n",
              "    }\n",
              "\n",
              "    [theme=dark] .colab-df-convert:hover {\n",
              "      background-color: #434B5C;\n",
              "      box-shadow: 0px 1px 3px 1px rgba(0, 0, 0, 0.15);\n",
              "      filter: drop-shadow(0px 1px 2px rgba(0, 0, 0, 0.3));\n",
              "      fill: #FFFFFF;\n",
              "    }\n",
              "  </style>\n",
              "\n",
              "      <script>\n",
              "        const buttonEl =\n",
              "          document.querySelector('#df-31ae046d-0f3d-4f10-8b2c-c7fdd2d26b90 button.colab-df-convert');\n",
              "        buttonEl.style.display =\n",
              "          google.colab.kernel.accessAllowed ? 'block' : 'none';\n",
              "\n",
              "        async function convertToInteractive(key) {\n",
              "          const element = document.querySelector('#df-31ae046d-0f3d-4f10-8b2c-c7fdd2d26b90');\n",
              "          const dataTable =\n",
              "            await google.colab.kernel.invokeFunction('convertToInteractive',\n",
              "                                                     [key], {});\n",
              "          if (!dataTable) return;\n",
              "\n",
              "          const docLinkHtml = 'Like what you see? Visit the ' +\n",
              "            '<a target=\"_blank\" href=https://colab.research.google.com/notebooks/data_table.ipynb>data table notebook</a>'\n",
              "            + ' to learn more about interactive tables.';\n",
              "          element.innerHTML = '';\n",
              "          dataTable['output_type'] = 'display_data';\n",
              "          await google.colab.output.renderOutput(dataTable, element);\n",
              "          const docLink = document.createElement('div');\n",
              "          docLink.innerHTML = docLinkHtml;\n",
              "          element.appendChild(docLink);\n",
              "        }\n",
              "      </script>\n",
              "    </div>\n",
              "  </div>\n",
              "  "
            ]
          },
          "metadata": {},
          "execution_count": 37
        }
      ],
      "source": [
        "train_clean = train_no_nan.copy()\n",
        "\n",
        "train_clean['floors_before_eq (total)'] = train_df['floors_before_eq (total)'].apply(convert_floors)\n",
        "train_clean['plinth_area (ft^2)'] = train_df['plinth_area (ft^2)'].apply(convert_plinth_area)\n",
        "train_clean['type_of_foundation'] = train_df['type_of_foundation'].apply(convert_foundation)\n",
        "train_clean['type_of_roof'] = train_df['type_of_roof'].apply(convert_roof)\n",
        "train_clean['type_of_ground_floor'] = train_df['type_of_ground_floor'].apply(convert_gfloor)\n",
        "train_clean['type_of_other_floor'] = train_df['type_of_other_floor'].apply(convert_ofloor)\n",
        "train_clean['legal_ownership_status'] = train_df['legal_ownership_status'].apply(convert_status)\n",
        "train_clean['no_family_residing'] = train_df['no_family_residing'].apply(convert_residing)\n",
        "\n",
        "train_clean.head(2)"
      ]
    },
    {
      "cell_type": "code",
      "execution_count": null,
      "metadata": {
        "id": "X1NyyjAceOlt",
        "colab": {
          "base_uri": "https://localhost:8080/"
        },
        "outputId": "2b792a93-3309-4257-f362-791aa238f4cf"
      },
      "outputs": [
        {
          "output_type": "stream",
          "name": "stdout",
          "text": [
            "[1. 3. 2. 4. 6. 5. 7.]\n",
            "[0. 1.]\n",
            "[0. 2. 1. 3.]\n",
            "[0. 1. 2. 3. 4. 5. 6. 8. 7.]\n",
            "[5. 0. 2. 1. 7. 3.]\n",
            "[2. 0. 1. 3.]\n",
            "[5. 4. 2. 3. 1.]\n"
          ]
        }
      ],
      "source": [
        "print(train_clean['floors_before_eq (total)'].unique())\n",
        "print(train_clean['has_secondary_use'].unique())\n",
        "print(train_clean['type_of_reinforcement_concrete'].unique())\n",
        "print(train_clean['no_family_residing'].unique())\n",
        "print(train_clean['wall_binding'].unique())\n",
        "print(train_clean['wall_material'].unique())\n",
        "print(train_clean['damage_grade'].unique())"
      ]
    },
    {
      "cell_type": "code",
      "execution_count": null,
      "metadata": {
        "id": "TSwpgroKkKEr",
        "colab": {
          "base_uri": "https://localhost:8080/"
        },
        "outputId": "67ad4bf0-e126-4354-d865-c7cb2f530f75"
      },
      "outputs": [
        {
          "output_type": "execute_result",
          "data": {
            "text/plain": [
              "Index(['has_secondary_use', 'type_of_reinforcement_concrete',\n",
              "       'no_family_residing', 'wall_binding', 'wall_material'],\n",
              "      dtype='object')"
            ]
          },
          "metadata": {},
          "execution_count": 39
        }
      ],
      "source": [
        "numeric_to_categoric = ['has_secondary_use',\n",
        "                        'type_of_reinforcement_concrete',\n",
        "                        'no_family_residing',\n",
        "                        'wall_binding',\n",
        "                        'wall_material'\n",
        "                        ]\n",
        "drop_num = ['damage_grade'] + numeric_to_categoric\n",
        "\n",
        "pd.Index(numeric_to_categoric)"
      ]
    },
    {
      "cell_type": "code",
      "execution_count": null,
      "metadata": {
        "id": "DVgrIId6wpjS",
        "colab": {
          "base_uri": "https://localhost:8080/"
        },
        "outputId": "ba01a94f-0c9a-44d8-98c5-75a19be79b84"
      },
      "outputs": [
        {
          "output_type": "stream",
          "name": "stdout",
          "text": [
            "Index(['floors_before_eq (total)', 'old_building', 'plinth_area (ft^2)',\n",
            "       'height_before_eq (ft)'],\n",
            "      dtype='object')\n",
            "4\n",
            "Index(['building_plan_configuration', 'flexible_superstructure',\n",
            "       'govermental_use_type', 'has_secondary_use', 'industrial_use_type',\n",
            "       'land_surface_condition', 'legal_ownership_status',\n",
            "       'no_family_residing', 'position', 'public_place_type',\n",
            "       'residential_type', 'technical_solution_proposed', 'type_of_foundation',\n",
            "       'type_of_ground_floor', 'type_of_other_floor',\n",
            "       'type_of_reinforcement_concrete', 'type_of_roof', 'wall_binding',\n",
            "       'wall_material'],\n",
            "      dtype='object')\n",
            "19\n"
          ]
        },
        {
          "output_type": "stream",
          "name": "stderr",
          "text": [
            "<ipython-input-40-24fc4fb1d6ca>:8: FutureWarning: Index.__or__ operating as a set operation is deprecated, in the future this will be a logical operation matching Series.__or__.  Use index.union(other) instead.\n",
            "  categoric_columns = categoric_data.columns | pd.Index(numeric_to_categoric)\n"
          ]
        }
      ],
      "source": [
        "numeric_data = train_clean.select_dtypes(include=['int64', 'float64']).drop(drop_num, axis=1)\n",
        "categoric_data = train_clean.select_dtypes(include=['object'])\n",
        "\n",
        "numeric_columns = numeric_data.columns\n",
        "print(numeric_columns)\n",
        "print(len(numeric_columns))\n",
        "\n",
        "categoric_columns = categoric_data.columns | pd.Index(numeric_to_categoric)\n",
        "print(categoric_columns)\n",
        "print(len(categoric_columns))"
      ]
    },
    {
      "cell_type": "code",
      "execution_count": null,
      "metadata": {
        "id": "NehyrT7DxbOI"
      },
      "outputs": [],
      "source": [
        "high_cardinal = pd.Index([col for col in categoric_columns if train_clean[col].nunique() > 5])\n",
        "low_cardinal = pd.Index([col for col in categoric_columns if col not in high_cardinal])"
      ]
    },
    {
      "cell_type": "code",
      "execution_count": null,
      "metadata": {
        "id": "LtLBlf1-wpjS"
      },
      "outputs": [],
      "source": [
        "class IsolationForestTransformer(BaseEstimator, TransformerMixin):\n",
        "    def __init__(self, contamination=0.05, random_state=42):\n",
        "        self.contamination = contamination\n",
        "        self.random_state = random_state\n",
        "        self.model = IsolationForest(contamination=self.contamination)\n",
        "\n",
        "    def fit(self, X, y=None):\n",
        "        self.model.fit(X)\n",
        "        return self\n",
        "\n",
        "    def transform(self, X):\n",
        "        mask = self.model.predict(X) != -1\n",
        "        return X[mask]\n",
        "\n",
        "def handle_outliers(X):\n",
        "    Q1 = np.quantile(X, 0.25, axis=0)\n",
        "    Q3 = np.quantile(X, 0.75, axis=0)\n",
        "    IQR = Q3 - Q1\n",
        "    lower_bound = Q1 - 1.5 * IQR\n",
        "    upper_bound = Q3 + 1.5 * IQR\n",
        "    X_clipped = np.clip(X, lower_bound, upper_bound)\n",
        "    return X_clipped"
      ]
    },
    {
      "cell_type": "markdown",
      "metadata": {
        "id": "99B0XShu2F2s"
      },
      "source": [
        "### outliers"
      ]
    },
    {
      "cell_type": "code",
      "execution_count": null,
      "metadata": {
        "id": "Zo-MVy3v2B82",
        "colab": {
          "base_uri": "https://localhost:8080/",
          "height": 705
        },
        "outputId": "58e4fdd5-4b13-499f-8afa-19e227bf5655"
      },
      "outputs": [
        {
          "output_type": "display_data",
          "data": {
            "text/plain": [
              "<Figure size 600x700 with 4 Axes>"
            ],
            "image/png": "[encoded data removed]"
          },
          "metadata": {}
        }
      ],
      "source": [
        "fig, axes = plt.subplots(2, 2, figsize=(6, 7))\n",
        "fig.suptitle('Numerik Data Distribution\\n\\n')\n",
        "\n",
        "sns.boxplot(train_clean, x=numeric_columns[0], ax=axes[0,0], color='r')\n",
        "sns.boxplot(train_clean, x=numeric_columns[1], ax=axes[0,1], color='y')\n",
        "sns.boxplot(train_clean, x=numeric_columns[2], ax=axes[1,0], color='g')\n",
        "sns.boxplot(train_clean, x=numeric_columns[3], ax=axes[1,1], color='c')\n",
        "\n",
        "# fig.delaxes(axes[3,0])\n",
        "# fig.delaxes(axes[3,2])\n",
        "\n",
        "plt.tight_layout()\n",
        "plt.show()"
      ]
    },
    {
      "cell_type": "code",
      "execution_count": null,
      "metadata": {
        "id": "LYrqM05-4Wo6"
      },
      "outputs": [],
      "source": [
        "def IsolFor(data):\n",
        "  # Membuat model Isolation Forest\n",
        "  iso = IsolationForest(contamination=0.05)\n",
        "\n",
        "  data = data[numeric_columns]\n",
        "  # Fitting model dengan data\n",
        "  iso.fit(data)\n",
        "\n",
        "  # Menentukan outlier\n",
        "  outliers = iso.predict(data) == -1\n",
        "  data_no_outliers = data[~outliers]\n",
        "  return data_no_outliers"
      ]
    },
    {
      "cell_type": "code",
      "execution_count": null,
      "metadata": {
        "id": "Vs_2ZalL7Ofy",
        "colab": {
          "base_uri": "https://localhost:8080/"
        },
        "outputId": "ed8ce9e2-8194-4dd8-a4d4-77fd0d1fefff"
      },
      "outputs": [
        {
          "output_type": "stream",
          "name": "stderr",
          "text": [
            "/usr/local/lib/python3.10/dist-packages/sklearn/base.py:439: UserWarning: X does not have valid feature names, but IsolationForest was fitted with feature names\n",
            "  warnings.warn(\n"
          ]
        },
        {
          "output_type": "stream",
          "name": "stdout",
          "text": [
            "44459\n"
          ]
        },
        {
          "output_type": "stream",
          "name": "stderr",
          "text": [
            "/usr/local/lib/python3.10/dist-packages/sklearn/base.py:439: UserWarning: X does not have valid feature names, but IsolationForest was fitted with feature names\n",
            "  warnings.warn(\n"
          ]
        },
        {
          "output_type": "stream",
          "name": "stdout",
          "text": [
            "42236\n"
          ]
        }
      ],
      "source": [
        "train_no_out = IsolFor(train_clean)\n",
        "\n",
        "print(len(train_no_out))\n",
        "print(len(IsolFor(train_no_out)))"
      ]
    },
    {
      "cell_type": "code",
      "execution_count": null,
      "metadata": {
        "id": "x3Snc7x1_pcU",
        "colab": {
          "base_uri": "https://localhost:8080/"
        },
        "outputId": "2fc4e2cd-23d1-43f9-cc9b-e8404796300c"
      },
      "outputs": [
        {
          "output_type": "execute_result",
          "data": {
            "text/plain": [
              "((46799, 24), (44459, 4))"
            ]
          },
          "metadata": {},
          "execution_count": 46
        }
      ],
      "source": [
        "train_clean.shape, train_no_out.shape"
      ]
    },
    {
      "cell_type": "code",
      "execution_count": null,
      "metadata": {
        "id": "olQNgNZbCWvI",
        "colab": {
          "base_uri": "https://localhost:8080/"
        },
        "outputId": "53e0bc4f-d1ef-4efe-8490-02a414cf028a"
      },
      "outputs": [
        {
          "output_type": "execute_result",
          "data": {
            "text/plain": [
              "floors_before_eq (total)          0\n",
              "old_building                      0\n",
              "plinth_area (ft^2)                0\n",
              "height_before_eq (ft)             0\n",
              "land_surface_condition            0\n",
              "type_of_foundation                0\n",
              "type_of_roof                      0\n",
              "type_of_ground_floor              0\n",
              "type_of_other_floor               0\n",
              "position                          0\n",
              "building_plan_configuration       0\n",
              "technical_solution_proposed       0\n",
              "legal_ownership_status            0\n",
              "has_secondary_use                 0\n",
              "type_of_reinforcement_concrete    0\n",
              "residential_type                  0\n",
              "no_family_residing                0\n",
              "public_place_type                 0\n",
              "industrial_use_type               0\n",
              "govermental_use_type              0\n",
              "flexible_superstructure           0\n",
              "wall_binding                      0\n",
              "wall_material                     0\n",
              "damage_grade                      0\n",
              "dtype: int64"
            ]
          },
          "metadata": {},
          "execution_count": 47
        }
      ],
      "source": [
        "train_clean.isna().sum()"
      ]
    },
    {
      "cell_type": "code",
      "execution_count": null,
      "metadata": {
        "id": "9Xjm8owG_sh9",
        "colab": {
          "base_uri": "https://localhost:8080/",
          "height": 275
        },
        "outputId": "09cd17dc-65b4-4a2b-9d37-4e40c7b14b30"
      },
      "outputs": [
        {
          "output_type": "execute_result",
          "data": {
            "text/plain": [
              "    floors_before_eq (total)  old_building  plinth_area (ft^2)  \\\n",
              "21                       1.0          22.0               300.0   \n",
              "27                       3.0          22.0               360.0   \n",
              "\n",
              "    height_before_eq (ft) land_surface_condition       type_of_foundation  \\\n",
              "21                   10.0         Moderate slope  Clay mortar-Stone/Brick   \n",
              "27                   18.0                   Flat  Clay mortar-Stone/Brick   \n",
              "\n",
              "                    type_of_roof type_of_ground_floor type_of_other_floor  \\\n",
              "21      Bamboo/Timber Light roof                  Mud               Other   \n",
              "27  Wood/Bamboo Light/Heavy roof                 Clay   Timber/Bamboo-Mud   \n",
              "\n",
              "        position  ... type_of_reinforcement_concrete residential_type  \\\n",
              "21  Not attached  ...                            0.0  Non-residential   \n",
              "27  Not attached  ...                            0.0  Non-residential   \n",
              "\n",
              "   no_family_residing  public_place_type  industrial_use_type  \\\n",
              "21                0.0         Non-public       Non-industrial   \n",
              "27                1.0         Non-public       Non-industrial   \n",
              "\n",
              "   govermental_use_type  flexible_superstructure wall_binding wall_material  \\\n",
              "21      Non-govermental              unavailable          5.0           2.0   \n",
              "27      Non-govermental              unavailable          5.0           2.0   \n",
              "\n",
              "   damage_grade  \n",
              "21          5.0  \n",
              "27          4.0  \n",
              "\n",
              "[2 rows x 24 columns]"
            ],
            "text/html": [
              "\n",
              "  <div id=\"df-f0fc8934-398c-4a50-a923-2bc5bae46637\">\n",
              "    <div class=\"colab-df-container\">\n",
              "      <div>\n",
              "<style scoped>\n",
              "    .dataframe tbody tr th:only-of-type {\n",
              "        vertical-align: middle;\n",
              "    }\n",
              "\n",
              "    .dataframe tbody tr th {\n",
              "        vertical-align: top;\n",
              "    }\n",
              "\n",
              "    .dataframe thead th {\n",
              "        text-align: right;\n",
              "    }\n",
              "</style>\n",
              "<table border=\"1\" class=\"dataframe\">\n",
              "  <thead>\n",
              "    <tr style=\"text-align: right;\">\n",
              "      <th></th>\n",
              "      <th>floors_before_eq (total)</th>\n",
              "      <th>old_building</th>\n",
              "      <th>plinth_area (ft^2)</th>\n",
              "      <th>height_before_eq (ft)</th>\n",
              "      <th>land_surface_condition</th>\n",
              "      <th>type_of_foundation</th>\n",
              "      <th>type_of_roof</th>\n",
              "      <th>type_of_ground_floor</th>\n",
              "      <th>type_of_other_floor</th>\n",
              "      <th>position</th>\n",
              "      <th>...</th>\n",
              "      <th>type_of_reinforcement_concrete</th>\n",
              "      <th>residential_type</th>\n",
              "      <th>no_family_residing</th>\n",
              "      <th>public_place_type</th>\n",
              "      <th>industrial_use_type</th>\n",
              "      <th>govermental_use_type</th>\n",
              "      <th>flexible_superstructure</th>\n",
              "      <th>wall_binding</th>\n",
              "      <th>wall_material</th>\n",
              "      <th>damage_grade</th>\n",
              "    </tr>\n",
              "  </thead>\n",
              "  <tbody>\n",
              "    <tr>\n",
              "      <th>21</th>\n",
              "      <td>1.0</td>\n",
              "      <td>22.0</td>\n",
              "      <td>300.0</td>\n",
              "      <td>10.0</td>\n",
              "      <td>Moderate slope</td>\n",
              "      <td>Clay mortar-Stone/Brick</td>\n",
              "      <td>Bamboo/Timber Light roof</td>\n",
              "      <td>Mud</td>\n",
              "      <td>Other</td>\n",
              "      <td>Not attached</td>\n",
              "      <td>...</td>\n",
              "      <td>0.0</td>\n",
              "      <td>Non-residential</td>\n",
              "      <td>0.0</td>\n",
              "      <td>Non-public</td>\n",
              "      <td>Non-industrial</td>\n",
              "      <td>Non-govermental</td>\n",
              "      <td>unavailable</td>\n",
              "      <td>5.0</td>\n",
              "      <td>2.0</td>\n",
              "      <td>5.0</td>\n",
              "    </tr>\n",
              "    <tr>\n",
              "      <th>27</th>\n",
              "      <td>3.0</td>\n",
              "      <td>22.0</td>\n",
              "      <td>360.0</td>\n",
              "      <td>18.0</td>\n",
              "      <td>Flat</td>\n",
              "      <td>Clay mortar-Stone/Brick</td>\n",
              "      <td>Wood/Bamboo Light/Heavy roof</td>\n",
              "      <td>Clay</td>\n",
              "      <td>Timber/Bamboo-Mud</td>\n",
              "      <td>Not attached</td>\n",
              "      <td>...</td>\n",
              "      <td>0.0</td>\n",
              "      <td>Non-residential</td>\n",
              "      <td>1.0</td>\n",
              "      <td>Non-public</td>\n",
              "      <td>Non-industrial</td>\n",
              "      <td>Non-govermental</td>\n",
              "      <td>unavailable</td>\n",
              "      <td>5.0</td>\n",
              "      <td>2.0</td>\n",
              "      <td>4.0</td>\n",
              "    </tr>\n",
              "  </tbody>\n",
              "</table>\n",
              "<p>2 rows × 24 columns</p>\n",
              "</div>\n",
              "      <button class=\"colab-df-convert\" onclick=\"convertToInteractive('df-f0fc8934-398c-4a50-a923-2bc5bae46637')\"\n",
              "              title=\"Convert this dataframe to an interactive table.\"\n",
              "              style=\"display:none;\">\n",
              "        \n",
              "  <svg xmlns=\"http://www.w3.org/2000/svg\" height=\"24px\"viewBox=\"0 0 24 24\"\n",
              "       width=\"24px\">\n",
              "    <path d=\"M0 0h24v24H0V0z\" fill=\"none\"/>\n",
              "    <path d=\"M18.56 5.44l.94 2.06.94-2.06 2.06-.94-2.06-.94-.94-2.06-.94 2.06-2.06.94zm-11 1L8.5 8.5l.94-2.06 2.06-.94-2.06-.94L8.5 2.5l-.94 2.06-2.06.94zm10 10l.94 2.06.94-2.06 2.06-.94-2.06-.94-.94-2.06-.94 2.06-2.06.94z\"/><path d=\"M17.41 7.96l-1.37-1.37c-.4-.4-.92-.59-1.43-.59-.52 0-1.04.2-1.43.59L10.3 9.45l-7.72 7.72c-.78.78-.78 2.05 0 2.83L4 21.41c.39.39.9.59 1.41.59.51 0 1.02-.2 1.41-.59l7.78-7.78 2.81-2.81c.8-.78.8-2.07 0-2.86zM5.41 20L4 18.59l7.72-7.72 1.47 1.35L5.41 20z\"/>\n",
              "  </svg>\n",
              "      </button>\n",
              "      \n",
              "  <style>\n",
              "    .colab-df-container {\n",
              "      display:flex;\n",
              "      flex-wrap:wrap;\n",
              "      gap: 12px;\n",
              "    }\n",
              "\n",
              "    .colab-df-convert {\n",
              "      background-color: #E8F0FE;\n",
              "      border: none;\n",
              "      border-radius: 50%;\n",
              "      cursor: pointer;\n",
              "      display: none;\n",
              "      fill: #1967D2;\n",
              "      height: 32px;\n",
              "      padding: 0 0 0 0;\n",
              "      width: 32px;\n",
              "    }\n",
              "\n",
              "    .colab-df-convert:hover {\n",
              "      background-color: #E2EBFA;\n",
              "      box-shadow: 0px 1px 2px rgba(60, 64, 67, 0.3), 0px 1px 3px 1px rgba(60, 64, 67, 0.15);\n",
              "      fill: #174EA6;\n",
              "    }\n",
              "\n",
              "    [theme=dark] .colab-df-convert {\n",
              "      background-color: #3B4455;\n",
              "      fill: #D2E3FC;\n",
              "    }\n",
              "\n",
              "    [theme=dark] .colab-df-convert:hover {\n",
              "      background-color: #434B5C;\n",
              "      box-shadow: 0px 1px 3px 1px rgba(0, 0, 0, 0.15);\n",
              "      filter: drop-shadow(0px 1px 2px rgba(0, 0, 0, 0.3));\n",
              "      fill: #FFFFFF;\n",
              "    }\n",
              "  </style>\n",
              "\n",
              "      <script>\n",
              "        const buttonEl =\n",
              "          document.querySelector('#df-f0fc8934-398c-4a50-a923-2bc5bae46637 button.colab-df-convert');\n",
              "        buttonEl.style.display =\n",
              "          google.colab.kernel.accessAllowed ? 'block' : 'none';\n",
              "\n",
              "        async function convertToInteractive(key) {\n",
              "          const element = document.querySelector('#df-f0fc8934-398c-4a50-a923-2bc5bae46637');\n",
              "          const dataTable =\n",
              "            await google.colab.kernel.invokeFunction('convertToInteractive',\n",
              "                                                     [key], {});\n",
              "          if (!dataTable) return;\n",
              "\n",
              "          const docLinkHtml = 'Like what you see? Visit the ' +\n",
              "            '<a target=\"_blank\" href=https://colab.research.google.com/notebooks/data_table.ipynb>data table notebook</a>'\n",
              "            + ' to learn more about interactive tables.';\n",
              "          element.innerHTML = '';\n",
              "          dataTable['output_type'] = 'display_data';\n",
              "          await google.colab.output.renderOutput(dataTable, element);\n",
              "          const docLink = document.createElement('div');\n",
              "          docLink.innerHTML = docLinkHtml;\n",
              "          element.appendChild(docLink);\n",
              "        }\n",
              "      </script>\n",
              "    </div>\n",
              "  </div>\n",
              "  "
            ]
          },
          "metadata": {},
          "execution_count": 48
        }
      ],
      "source": [
        "train_clean.drop(columns=numeric_columns, inplace=True)\n",
        "train_clean = pd.concat([train_no_out, train_clean], axis=1)\n",
        "train_clean.dropna(inplace=True)\n",
        "train_clean.head(2)"
      ]
    },
    {
      "cell_type": "code",
      "execution_count": null,
      "metadata": {
        "id": "VJIwA-df8mlN",
        "colab": {
          "base_uri": "https://localhost:8080/",
          "height": 705
        },
        "outputId": "14f1842d-7455-42ad-ebc6-6b13f89f65c1"
      },
      "outputs": [
        {
          "output_type": "display_data",
          "data": {
            "text/plain": [
              "<Figure size 600x700 with 4 Axes>"
            ],
            "image/png": "[encoded data removed]"
          },
          "metadata": {}
        }
      ],
      "source": [
        "fig, axes = plt.subplots(2, 2, figsize=(6, 7))\n",
        "fig.suptitle('Numerik Data Distribution\\n\\n')\n",
        "\n",
        "sns.boxplot(train_clean, x=numeric_columns[0], ax=axes[0,0], color='r')\n",
        "sns.boxplot(train_clean, x=numeric_columns[1], ax=axes[0,1], color='y')\n",
        "sns.boxplot(train_clean, x=numeric_columns[2], ax=axes[1,0], color='g')\n",
        "sns.boxplot(train_clean, x=numeric_columns[3], ax=axes[1,1], color='c')\n",
        "\n",
        "# fig.delaxes(axes[3,0])\n",
        "# fig.delaxes(axes[3,2])\n",
        "\n",
        "plt.tight_layout()\n",
        "plt.show()"
      ]
    },
    {
      "cell_type": "markdown",
      "metadata": {
        "id": "N69rrimIX2Co"
      },
      "source": [
        "# Feature Engineering"
      ]
    },
    {
      "cell_type": "code",
      "execution_count": null,
      "metadata": {
        "id": "kD_BXqHxX3_H",
        "colab": {
          "base_uri": "https://localhost:8080/"
        },
        "outputId": "0083296c-e866-4f77-9147-7527fd551e39"
      },
      "outputs": [
        {
          "output_type": "stream",
          "name": "stdout",
          "text": [
            "[ 2.  3. nan  1.  5.  4.  6.  8.  9.  7.]\n",
            "[ 0. nan  1.]\n",
            "[ 0. nan  2.  1.  3.]\n",
            "[ 1. nan  0.  2.  3.  4.  7.  5.  6.  9.  8. 11.]\n",
            "[ 0.  5. nan  2.  1.  7.  3.]\n",
            "[ 0.  2. nan  1.  3.]\n",
            "[1. 5. 4. 2. 3.]\n"
          ]
        }
      ],
      "source": [
        "train_model = train_df.copy()\n",
        "\n",
        "train_model['floors_before_eq (total)'] = train_df['floors_before_eq (total)'].apply(convert_floors)\n",
        "train_model['plinth_area (ft^2)'] = train_df['plinth_area (ft^2)'].apply(convert_plinth_area)\n",
        "train_model['type_of_foundation'] = train_df['type_of_foundation'].apply(convert_foundation)\n",
        "train_model['type_of_roof'] = train_df['type_of_roof'].apply(convert_roof)\n",
        "train_model['type_of_ground_floor'] = train_df['type_of_ground_floor'].apply(convert_gfloor)\n",
        "train_model['type_of_other_floor'] = train_df['type_of_other_floor'].apply(convert_ofloor)\n",
        "train_model['legal_ownership_status'] = train_df['legal_ownership_status'].apply(convert_status)\n",
        "train_model['no_family_residing'] = train_df['no_family_residing'].apply(convert_residing)\n",
        "\n",
        "print(train_model['floors_before_eq (total)'].unique())\n",
        "print(train_model['has_secondary_use'].unique())\n",
        "print(train_model['type_of_reinforcement_concrete'].unique())\n",
        "print(train_model['no_family_residing'].unique())\n",
        "print(train_model['wall_binding'].unique())\n",
        "print(train_model['wall_material'].unique())\n",
        "print(train_model['damage_grade'].unique())"
      ]
    },
    {
      "cell_type": "code",
      "execution_count": null,
      "metadata": {
        "id": "Qqe7_ftn_Nk8",
        "colab": {
          "base_uri": "https://localhost:8080/"
        },
        "outputId": "25337143-f9b6-4edb-d270-5857c4d30dc4"
      },
      "outputs": [
        {
          "output_type": "execute_result",
          "data": {
            "text/plain": [
              "Index(['has_secondary_use', 'type_of_reinforcement_concrete',\n",
              "       'no_family_residing', 'wall_binding', 'wall_material'],\n",
              "      dtype='object')"
            ]
          },
          "metadata": {},
          "execution_count": 72
        }
      ],
      "source": [
        "numeric_to_categoric = ['has_secondary_use',\n",
        "                        'type_of_reinforcement_concrete',\n",
        "                        'no_family_residing',\n",
        "                        'wall_binding',\n",
        "                        'wall_material'\n",
        "                        ]\n",
        "drop_num = ['damage_grade'] + numeric_to_categoric\n",
        "\n",
        "pd.Index(numeric_to_categoric)"
      ]
    },
    {
      "cell_type": "code",
      "execution_count": null,
      "metadata": {
        "id": "6Zs9avEgYVxE",
        "colab": {
          "base_uri": "https://localhost:8080/"
        },
        "outputId": "794405a5-10ba-489e-c2d6-8df9e3ee0769"
      },
      "outputs": [
        {
          "output_type": "stream",
          "name": "stderr",
          "text": [
            "<ipython-input-73-788031b4d0ba>:8: FutureWarning: Index.__or__ operating as a set operation is deprecated, in the future this will be a logical operation matching Series.__or__.  Use index.union(other) instead.\n",
            "  categoric_columns = categoric_data.columns | pd.Index(numeric_to_categoric)\n"
          ]
        },
        {
          "output_type": "stream",
          "name": "stdout",
          "text": [
            "Numeric Columns:\n",
            "['floors_before_eq (total)', 'old_building', 'plinth_area (ft^2)', 'height_before_eq (ft)']\n",
            "\n",
            "High Card Columns:\n",
            "['building_plan_configuration', 'industrial_use_type', 'no_family_residing', 'public_place_type', 'residential_type', 'type_of_foundation', 'type_of_ground_floor', 'type_of_other_floor', 'wall_binding']\n",
            "\n",
            "Low Cardinal Columns:\n",
            "['flexible_superstructure', 'govermental_use_type', 'has_secondary_use', 'land_surface_condition', 'legal_ownership_status', 'position', 'technical_solution_proposed', 'type_of_reinforcement_concrete', 'type_of_roof', 'wall_material']\n"
          ]
        }
      ],
      "source": [
        "numeric_data = train_model.select_dtypes(include=['int64', 'float64']).drop(drop_num, axis=1)\n",
        "categoric_data = train_model.select_dtypes(include=['object'])\n",
        "\n",
        "numeric_columns = numeric_data.columns\n",
        "# print(numeric_columns)\n",
        "# print(len(numeric_columns))\n",
        "\n",
        "categoric_columns = categoric_data.columns | pd.Index(numeric_to_categoric)\n",
        "# print(categoric_columns)\n",
        "# print(len(categoric_columns))\n",
        "\n",
        "high_cardinal = pd.Index([col for col in categoric_columns if train_model[col].nunique() > 5])\n",
        "low_cardinal = pd.Index([col for col in categoric_columns if col not in high_cardinal])\n",
        "# print(high_cardinal)\n",
        "# print(low_cardinal)\n",
        "\n",
        "\n",
        "print('Numeric Columns:')\n",
        "print(list(numeric_columns))\n",
        "print('\\nHigh Card Columns:')\n",
        "print(list(high_cardinal))\n",
        "print('\\nLow Cardinal Columns:')\n",
        "print(list(low_cardinal))"
      ]
    },
    {
      "cell_type": "code",
      "source": [
        "sns.countplot(x='damage_grade', data=train_model, palette='rainbow')"
      ],
      "metadata": {
        "id": "W7wRpzwx16HA",
        "colab": {
          "base_uri": "https://localhost:8080/",
          "height": 476
        },
        "outputId": "8476b4e4-290c-4afe-9636-4fb6648c5124"
      },
      "execution_count": null,
      "outputs": [
        {
          "output_type": "execute_result",
          "data": {
            "text/plain": [
              "<Axes: xlabel='damage_grade', ylabel='count'>"
            ]
          },
          "metadata": {},
          "execution_count": 74
        },
        {
          "output_type": "display_data",
          "data": {
            "text/plain": [
              "<Figure size 640x480 with 1 Axes>"
            ],
            "image/png": "[encoded data removed]"
          },
          "metadata": {}
        }
      ]
    },
    {
      "cell_type": "code",
      "source": [
        "train_model.damage_grade.value_counts()"
      ],
      "metadata": {
        "id": "_wQBJ8Zv2ACB",
        "colab": {
          "base_uri": "https://localhost:8080/"
        },
        "outputId": "d379f9f2-2503-4c38-f1a4-e356cb53aca1"
      },
      "execution_count": null,
      "outputs": [
        {
          "output_type": "execute_result",
          "data": {
            "text/plain": [
              "5.0    261631\n",
              "4.0    174337\n",
              "3.0    129242\n",
              "2.0     83011\n",
              "1.0     74594\n",
              "Name: damage_grade, dtype: int64"
            ]
          },
          "metadata": {},
          "execution_count": 75
        }
      ]
    },
    {
      "cell_type": "code",
      "source": [
        "# from sklearn.utils import resample\n",
        "\n",
        "# class1 = resample(train_model[train_model['damage_grade'] == 1.0],\n",
        "#                                  replace=True,\n",
        "#                                  n_samples=74594,\n",
        "#                                  random_state=42)\n",
        "\n",
        "# class2 = resample(train_model[train_model['damage_grade'] == 2.0],\n",
        "#                                  replace=True,\n",
        "#                                  n_samples=83011,\n",
        "#                                  random_state=42)\n",
        "\n",
        "# class3 = resample(train_model[train_model['damage_grade'] == 3.0],\n",
        "#                                  replace=True,\n",
        "#                                  n_samples=129242,\n",
        "#                                  random_state=42)\n",
        "\n",
        "# class4 = resample(train_model[train_model['damage_grade'] == 4.0],\n",
        "#                                  replace=True,\n",
        "#                                  n_samples=174337,\n",
        "#                                  random_state=42)\n",
        "\n",
        "# class5 = resample(train_model[train_model['damage_grade'] == 5.0],\n",
        "#                                  replace=True,\n",
        "#                                  n_samples=129242,\n",
        "#                                  random_state=42)\n",
        "\n",
        "\n",
        "# # Gabung ulang\n",
        "# train_model = pd.concat([class1, class2, class3, class4, class5])\n",
        "\n",
        "# train_model.damage_grade.value_counts()"
      ],
      "metadata": {
        "id": "qHVuBl6P2TBg"
      },
      "execution_count": null,
      "outputs": []
    },
    {
      "cell_type": "code",
      "source": [
        "# sns.countplot(x='damage_grade', data=train_model, palette='rainbow')"
      ],
      "metadata": {
        "id": "U9bDo7k_6Q3L"
      },
      "execution_count": null,
      "outputs": []
    },
    {
      "cell_type": "markdown",
      "metadata": {
        "id": "7ShwKJTrY47k"
      },
      "source": [
        "# Preprocessor Pipeline"
      ]
    },
    {
      "cell_type": "code",
      "execution_count": null,
      "metadata": {
        "id": "X0Uz4jbtuFma",
        "colab": {
          "base_uri": "https://localhost:8080/"
        },
        "outputId": "c8635a4e-981c-4822-da93-b923c2999430"
      },
      "outputs": [
        {
          "output_type": "stream",
          "name": "stdout",
          "text": [
            "Looking in indexes: https://pypi.org/simple, https://us-python.pkg.dev/colab-wheels/public/simple/\n",
            "Requirement already satisfied: category_encoders in /usr/local/lib/python3.10/dist-packages (2.6.1)\n",
            "Requirement already satisfied: numpy>=1.14.0 in /usr/local/lib/python3.10/dist-packages (from category_encoders) (1.22.4)\n",
            "Requirement already satisfied: scikit-learn>=0.20.0 in /usr/local/lib/python3.10/dist-packages (from category_encoders) (1.2.2)\n",
            "Requirement already satisfied: scipy>=1.0.0 in /usr/local/lib/python3.10/dist-packages (from category_encoders) (1.10.1)\n",
            "Requirement already satisfied: statsmodels>=0.9.0 in /usr/local/lib/python3.10/dist-packages (from category_encoders) (0.13.5)\n",
            "Requirement already satisfied: pandas>=1.0.5 in /usr/local/lib/python3.10/dist-packages (from category_encoders) (1.5.3)\n",
            "Requirement already satisfied: patsy>=0.5.1 in /usr/local/lib/python3.10/dist-packages (from category_encoders) (0.5.3)\n",
            "Requirement already satisfied: python-dateutil>=2.8.1 in /usr/local/lib/python3.10/dist-packages (from pandas>=1.0.5->category_encoders) (2.8.2)\n",
            "Requirement already satisfied: pytz>=2020.1 in /usr/local/lib/python3.10/dist-packages (from pandas>=1.0.5->category_encoders) (2022.7.1)\n",
            "Requirement already satisfied: six in /usr/local/lib/python3.10/dist-packages (from patsy>=0.5.1->category_encoders) (1.16.0)\n",
            "Requirement already satisfied: joblib>=1.1.1 in /usr/local/lib/python3.10/dist-packages (from scikit-learn>=0.20.0->category_encoders) (1.2.0)\n",
            "Requirement already satisfied: threadpoolctl>=2.0.0 in /usr/local/lib/python3.10/dist-packages (from scikit-learn>=0.20.0->category_encoders) (3.1.0)\n",
            "Requirement already satisfied: packaging>=21.3 in /usr/local/lib/python3.10/dist-packages (from statsmodels>=0.9.0->category_encoders) (23.1)\n"
          ]
        }
      ],
      "source": [
        "!pip install category_encoders"
      ]
    },
    {
      "cell_type": "code",
      "execution_count": null,
      "metadata": {
        "id": "ESAiuFNjVjFm"
      },
      "outputs": [],
      "source": [
        "from sklearn.pipeline import Pipeline, make_pipeline\n",
        "from sklearn.compose import ColumnTransformer\n",
        "from sklearn import set_config\n",
        "from sklearn.base import BaseEstimator, TransformerMixin\n",
        "from sklearn.impute import SimpleImputer\n",
        "from sklearn.ensemble import IsolationForest\n",
        "from sklearn.preprocessing import FunctionTransformer, LabelEncoder, OneHotEncoder, OrdinalEncoder, StandardScaler, MinMaxScaler, RobustScaler\n",
        "from category_encoders.target_encoder import TargetEncoder\n",
        "from category_encoders import CatBoostEncoder"
      ]
    },
    {
      "cell_type": "markdown",
      "metadata": {
        "id": "248brU3xPf29"
      },
      "source": [
        "## Function"
      ]
    },
    {
      "cell_type": "code",
      "execution_count": null,
      "metadata": {
        "id": "SvUWBedTPg5I"
      },
      "outputs": [],
      "source": [
        "def duplicate(df):\n",
        "  return df.drop_duplicates(inplace=False)\n",
        "\n",
        "def missing_value(df):\n",
        "  return df.dropna(inplace=False, axis=0)\n",
        "\n",
        "def IsolFor(df):\n",
        "  # Membuat model Isolation Forest\n",
        "  iso = IsolationForest(contamination=0.05)\n",
        "\n",
        "  # Fitting model dengan data\n",
        "  df_numeric = df[numeric_columns]\n",
        "  iso.fit(df_numeric)\n",
        "\n",
        "  # Menentukan outlier\n",
        "  outliers = iso.predict(df_numeric) == -1\n",
        "  df_no_outliers = df_numeric[~outliers]\n",
        "\n",
        "  # Menggabungkan data kembali\n",
        "  df2 = df.copy()\n",
        "  df2.drop(columns=numeric_columns, inplace=True)\n",
        "  df2 = pd.concat([df_no_outliers, df2], axis=1)\n",
        "  df2.dropna(inplace=True)\n",
        "  return df2"
      ]
    },
    {
      "cell_type": "code",
      "execution_count": null,
      "metadata": {
        "id": "Cp2eswcmW9g3",
        "colab": {
          "base_uri": "https://localhost:8080/"
        },
        "outputId": "f5211ba2-ab49-4d89-8950-9101df75c13c"
      },
      "outputs": [
        {
          "output_type": "stream",
          "name": "stdout",
          "text": [
            "(722815, 24)\n"
          ]
        },
        {
          "output_type": "stream",
          "name": "stderr",
          "text": [
            "/usr/local/lib/python3.10/dist-packages/sklearn/base.py:439: UserWarning: X does not have valid feature names, but IsolationForest was fitted with feature names\n",
            "  warnings.warn(\n"
          ]
        },
        {
          "output_type": "stream",
          "name": "stdout",
          "text": [
            "(44290, 24)\n"
          ]
        }
      ],
      "source": [
        "print(train_model.shape)\n",
        "print(IsolFor(missing_value(duplicate(train_model))).shape)"
      ]
    },
    {
      "cell_type": "markdown",
      "metadata": {
        "id": "7WxxSpOZVsi1"
      },
      "source": [
        "## Pipeline"
      ]
    },
    {
      "cell_type": "code",
      "execution_count": null,
      "metadata": {
        "id": "U3BzZpf8x8bO"
      },
      "outputs": [],
      "source": [
        "set_config(display='diagram')"
      ]
    },
    {
      "cell_type": "code",
      "source": [
        "duplicate_droper = FunctionTransformer(duplicate)\n",
        "handling_missing_value = FunctionTransformer(missing_value)\n",
        "outlier_isolator = FunctionTransformer(IsolFor)\n",
        "\n",
        "standard_scaler = StandardScaler()\n",
        "minmax_scaler = MinMaxScaler()\n",
        "mean_imputer = SimpleImputer(strategy='mean')\n",
        "median_imputer = SimpleImputer(strategy='median')\n",
        "mode_imputer = SimpleImputer(strategy='most_frequent')\n",
        "constant_imputer = SimpleImputer(strategy='constant', fill_value=-1, add_indicator=True)\n",
        "onehot_oncoder = OneHotEncoder(handle_unknown='ignore')\n",
        "ordinal_encoder = OrdinalEncoder(handle_unknown='use_encoded_value', unknown_value=-1)\n",
        "label_encoder = LabelEncoder()\n",
        "catboost_encoder = CatBoostEncoder()"
      ],
      "metadata": {
        "id": "tS11KAIWvoMY"
      },
      "execution_count": null,
      "outputs": []
    },
    {
      "cell_type": "code",
      "source": [
        "# numerical_pipeline = Pipeline([\n",
        "#     ('imputer', median_imputer),\n",
        "# ])\n",
        "\n",
        "# low_card_pipeline = Pipeline([\n",
        "#     ('imputer', mode_imputer),\n",
        "# ])\n",
        "\n",
        "# high_card_pipeline = Pipeline([\n",
        "#     ('imputer', mode_imputer),\n",
        "# ])\n",
        "\n",
        "# imputed_data = ColumnTransformer([\n",
        "#     ('numeric', numerical_pipeline, numeric_columns),\n",
        "#     ('low_cardinal', low_card_pipeline, low_cardinal),\n",
        "#     ('high_cardinal', high_card_pipeline, high_cardinal),\n",
        "# ])\n",
        "\n",
        "# imputed_data"
      ],
      "metadata": {
        "id": "IcZsdXKTxRja"
      },
      "execution_count": null,
      "outputs": []
    },
    {
      "cell_type": "code",
      "execution_count": null,
      "metadata": {
        "id": "VXlLv8c4PI0x",
        "colab": {
          "base_uri": "https://localhost:8080/",
          "height": 162
        },
        "outputId": "bec5cd6a-9de5-48c0-8fca-0b28fdc1bcd1"
      },
      "outputs": [
        {
          "output_type": "execute_result",
          "data": {
            "text/plain": [
              "Pipeline(steps=[('duplicate_droper',\n",
              "                 FunctionTransformer(func=<function duplicate at 0x7f8afcb3e200>)),\n",
              "                ('handling_missing_value',\n",
              "                 FunctionTransformer(func=<function missing_value at 0x7f8afcb3e7a0>)),\n",
              "                ('outlier_isolator',\n",
              "                 FunctionTransformer(func=<function IsolFor at 0x7f8afcb3dea0>))])"
            ],
            "text/html": [
              "<style>#sk-container-id-3 {color: black;background-color: white;}#sk-container-id-3 pre{padding: 0;}#sk-container-id-3 div.sk-toggleable {background-color: white;}#sk-container-id-3 label.sk-toggleable__label {cursor: pointer;display: block;width: 100%;margin-bottom: 0;padding: 0.3em;box-sizing: border-box;text-align: center;}#sk-container-id-3 label.sk-toggleable__label-arrow:before {content: \"▸\";float: left;margin-right: 0.25em;color: #696969;}#sk-container-id-3 label.sk-toggleable__label-arrow:hover:before {color: black;}#sk-container-id-3 div.sk-estimator:hover label.sk-toggleable__label-arrow:before {color: black;}#sk-container-id-3 div.sk-toggleable__content {max-height: 0;max-width: 0;overflow: hidden;text-align: left;background-color: #f0f8ff;}#sk-container-id-3 div.sk-toggleable__content pre {margin: 0.2em;color: black;border-radius: 0.25em;background-color: #f0f8ff;}#sk-container-id-3 input.sk-toggleable__control:checked~div.sk-toggleable__content {max-height: 200px;max-width: 100%;overflow: auto;}#sk-container-id-3 input.sk-toggleable__control:checked~label.sk-toggleable__label-arrow:before {content: \"▾\";}#sk-container-id-3 div.sk-estimator input.sk-toggleable__control:checked~label.sk-toggleable__label {background-color: #d4ebff;}#sk-container-id-3 div.sk-label input.sk-toggleable__control:checked~label.sk-toggleable__label {background-color: #d4ebff;}#sk-container-id-3 input.sk-hidden--visually {border: 0;clip: rect(1px 1px 1px 1px);clip: rect(1px, 1px, 1px, 1px);height: 1px;margin: -1px;overflow: hidden;padding: 0;position: absolute;width: 1px;}#sk-container-id-3 div.sk-estimator {font-family: monospace;background-color: #f0f8ff;border: 1px dotted black;border-radius: 0.25em;box-sizing: border-box;margin-bottom: 0.5em;}#sk-container-id-3 div.sk-estimator:hover {background-color: #d4ebff;}#sk-container-id-3 div.sk-parallel-item::after {content: \"\";width: 100%;border-bottom: 1px solid gray;flex-grow: 1;}#sk-container-id-3 div.sk-label:hover label.sk-toggleable__label {background-color: #d4ebff;}#sk-container-id-3 div.sk-serial::before {content: \"\";position: absolute;border-left: 1px solid gray;box-sizing: border-box;top: 0;bottom: 0;left: 50%;z-index: 0;}#sk-container-id-3 div.sk-serial {display: flex;flex-direction: column;align-items: center;background-color: white;padding-right: 0.2em;padding-left: 0.2em;position: relative;}#sk-container-id-3 div.sk-item {position: relative;z-index: 1;}#sk-container-id-3 div.sk-parallel {display: flex;align-items: stretch;justify-content: center;background-color: white;position: relative;}#sk-container-id-3 div.sk-item::before, #sk-container-id-3 div.sk-parallel-item::before {content: \"\";position: absolute;border-left: 1px solid gray;box-sizing: border-box;top: 0;bottom: 0;left: 50%;z-index: -1;}#sk-container-id-3 div.sk-parallel-item {display: flex;flex-direction: column;z-index: 1;position: relative;background-color: white;}#sk-container-id-3 div.sk-parallel-item:first-child::after {align-self: flex-end;width: 50%;}#sk-container-id-3 div.sk-parallel-item:last-child::after {align-self: flex-start;width: 50%;}#sk-container-id-3 div.sk-parallel-item:only-child::after {width: 0;}#sk-container-id-3 div.sk-dashed-wrapped {border: 1px dashed gray;margin: 0 0.4em 0.5em 0.4em;box-sizing: border-box;padding-bottom: 0.4em;background-color: white;}#sk-container-id-3 div.sk-label label {font-family: monospace;font-weight: bold;display: inline-block;line-height: 1.2em;}#sk-container-id-3 div.sk-label-container {text-align: center;}#sk-container-id-3 div.sk-container {/* jupyter's `normalize.less` sets `[hidden] { display: none; }` but bootstrap.min.css set `[hidden] { display: none !important; }` so we also need the `!important` here to be able to override the default hidden behavior on the sphinx rendered scikit-learn.org. See: https://github.com/scikit-learn/scikit-learn/issues/21755 */display: inline-block !important;position: relative;}#sk-container-id-3 div.sk-text-repr-fallback {display: none;}</style><div id=\"sk-container-id-3\" class=\"sk-top-container\"><div class=\"sk-text-repr-fallback\"><pre>Pipeline(steps=[(&#x27;duplicate_droper&#x27;,\n",
              "                 FunctionTransformer(func=&lt;function duplicate at 0x7f8afcb3e200&gt;)),\n",
              "                (&#x27;handling_missing_value&#x27;,\n",
              "                 FunctionTransformer(func=&lt;function missing_value at 0x7f8afcb3e7a0&gt;)),\n",
              "                (&#x27;outlier_isolator&#x27;,\n",
              "                 FunctionTransformer(func=&lt;function IsolFor at 0x7f8afcb3dea0&gt;))])</pre><b>In a Jupyter environment, please rerun this cell to show the HTML representation or trust the notebook. <br />On GitHub, the HTML representation is unable to render, please try loading this page with nbviewer.org.</b></div><div class=\"sk-container\" hidden><div class=\"sk-item sk-dashed-wrapped\"><div class=\"sk-label-container\"><div class=\"sk-label sk-toggleable\"><input class=\"sk-toggleable__control sk-hidden--visually\" id=\"sk-estimator-id-12\" type=\"checkbox\" ><label for=\"sk-estimator-id-12\" class=\"sk-toggleable__label sk-toggleable__label-arrow\">Pipeline</label><div class=\"sk-toggleable__content\"><pre>Pipeline(steps=[(&#x27;duplicate_droper&#x27;,\n",
              "                 FunctionTransformer(func=&lt;function duplicate at 0x7f8afcb3e200&gt;)),\n",
              "                (&#x27;handling_missing_value&#x27;,\n",
              "                 FunctionTransformer(func=&lt;function missing_value at 0x7f8afcb3e7a0&gt;)),\n",
              "                (&#x27;outlier_isolator&#x27;,\n",
              "                 FunctionTransformer(func=&lt;function IsolFor at 0x7f8afcb3dea0&gt;))])</pre></div></div></div><div class=\"sk-serial\"><div class=\"sk-item\"><div class=\"sk-estimator sk-toggleable\"><input class=\"sk-toggleable__control sk-hidden--visually\" id=\"sk-estimator-id-13\" type=\"checkbox\" ><label for=\"sk-estimator-id-13\" class=\"sk-toggleable__label sk-toggleable__label-arrow\">FunctionTransformer</label><div class=\"sk-toggleable__content\"><pre>FunctionTransformer(func=&lt;function duplicate at 0x7f8afcb3e200&gt;)</pre></div></div></div><div class=\"sk-item\"><div class=\"sk-estimator sk-toggleable\"><input class=\"sk-toggleable__control sk-hidden--visually\" id=\"sk-estimator-id-14\" type=\"checkbox\" ><label for=\"sk-estimator-id-14\" class=\"sk-toggleable__label sk-toggleable__label-arrow\">FunctionTransformer</label><div class=\"sk-toggleable__content\"><pre>FunctionTransformer(func=&lt;function missing_value at 0x7f8afcb3e7a0&gt;)</pre></div></div></div><div class=\"sk-item\"><div class=\"sk-estimator sk-toggleable\"><input class=\"sk-toggleable__control sk-hidden--visually\" id=\"sk-estimator-id-15\" type=\"checkbox\" ><label for=\"sk-estimator-id-15\" class=\"sk-toggleable__label sk-toggleable__label-arrow\">FunctionTransformer</label><div class=\"sk-toggleable__content\"><pre>FunctionTransformer(func=&lt;function IsolFor at 0x7f8afcb3dea0&gt;)</pre></div></div></div></div></div></div></div>"
            ]
          },
          "metadata": {},
          "execution_count": 85
        }
      ],
      "source": [
        "data_cleaner = Pipeline([\n",
        "    ('duplicate_droper', FunctionTransformer(duplicate)),\n",
        "    ('handling_missing_value', FunctionTransformer(missing_value)),\n",
        "    ('outlier_isolator', FunctionTransformer(IsolFor)),\n",
        "])\n",
        "\n",
        "data_cleaner"
      ]
    },
    {
      "cell_type": "code",
      "source": [
        "# fixed_data = Pipeline([\n",
        "#     ('imputed_data', imputed_data),\n",
        "#     ('data_cleaner', data_cleaner),\n",
        "# ])\n",
        "\n",
        "# fixed_data"
      ],
      "metadata": {
        "id": "NYmLi6GWx9dq"
      },
      "execution_count": null,
      "outputs": []
    },
    {
      "cell_type": "code",
      "execution_count": null,
      "metadata": {
        "id": "wOZGM1MQwpjS",
        "colab": {
          "base_uri": "https://localhost:8080/",
          "height": 118
        },
        "outputId": "5b14a45a-1ba7-4650-cda8-c85901e41cd4"
      },
      "outputs": [
        {
          "output_type": "execute_result",
          "data": {
            "text/plain": [
              "ColumnTransformer(transformers=[('numeric',\n",
              "                                 Pipeline(steps=[('scaler', MinMaxScaler())]),\n",
              "                                 Index(['floors_before_eq (total)', 'old_building', 'plinth_area (ft^2)',\n",
              "       'height_before_eq (ft)'],\n",
              "      dtype='object')),\n",
              "                                ('low_cardinal',\n",
              "                                 Pipeline(steps=[('low_cardinal',\n",
              "                                                  OneHotEncoder(handle_unknown='ignore'))]),\n",
              "                                 Index(['flexible_superstructure', 'govermental_use_type', 'has_sec...\n",
              "      dtype='object')),\n",
              "                                ('high_cardinal',\n",
              "                                 Pipeline(steps=[('high_cardinal',\n",
              "                                                  OrdinalEncoder(handle_unknown='use_encoded_value',\n",
              "                                                                 unknown_value=-1))]),\n",
              "                                 Index(['building_plan_configuration', 'industrial_use_type',\n",
              "       'no_family_residing', 'public_place_type', 'residential_type',\n",
              "       'type_of_foundation', 'type_of_ground_floor', 'type_of_other_floor',\n",
              "       'wall_binding'],\n",
              "      dtype='object'))])"
            ],
            "text/html": [
              "<style>#sk-container-id-4 {color: black;background-color: white;}#sk-container-id-4 pre{padding: 0;}#sk-container-id-4 div.sk-toggleable {background-color: white;}#sk-container-id-4 label.sk-toggleable__label {cursor: pointer;display: block;width: 100%;margin-bottom: 0;padding: 0.3em;box-sizing: border-box;text-align: center;}#sk-container-id-4 label.sk-toggleable__label-arrow:before {content: \"▸\";float: left;margin-right: 0.25em;color: #696969;}#sk-container-id-4 label.sk-toggleable__label-arrow:hover:before {color: black;}#sk-container-id-4 div.sk-estimator:hover label.sk-toggleable__label-arrow:before {color: black;}#sk-container-id-4 div.sk-toggleable__content {max-height: 0;max-width: 0;overflow: hidden;text-align: left;background-color: #f0f8ff;}#sk-container-id-4 div.sk-toggleable__content pre {margin: 0.2em;color: black;border-radius: 0.25em;background-color: #f0f8ff;}#sk-container-id-4 input.sk-toggleable__control:checked~div.sk-toggleable__content {max-height: 200px;max-width: 100%;overflow: auto;}#sk-container-id-4 input.sk-toggleable__control:checked~label.sk-toggleable__label-arrow:before {content: \"▾\";}#sk-container-id-4 div.sk-estimator input.sk-toggleable__control:checked~label.sk-toggleable__label {background-color: #d4ebff;}#sk-container-id-4 div.sk-label input.sk-toggleable__control:checked~label.sk-toggleable__label {background-color: #d4ebff;}#sk-container-id-4 input.sk-hidden--visually {border: 0;clip: rect(1px 1px 1px 1px);clip: rect(1px, 1px, 1px, 1px);height: 1px;margin: -1px;overflow: hidden;padding: 0;position: absolute;width: 1px;}#sk-container-id-4 div.sk-estimator {font-family: monospace;background-color: #f0f8ff;border: 1px dotted black;border-radius: 0.25em;box-sizing: border-box;margin-bottom: 0.5em;}#sk-container-id-4 div.sk-estimator:hover {background-color: #d4ebff;}#sk-container-id-4 div.sk-parallel-item::after {content: \"\";width: 100%;border-bottom: 1px solid gray;flex-grow: 1;}#sk-container-id-4 div.sk-label:hover label.sk-toggleable__label {background-color: #d4ebff;}#sk-container-id-4 div.sk-serial::before {content: \"\";position: absolute;border-left: 1px solid gray;box-sizing: border-box;top: 0;bottom: 0;left: 50%;z-index: 0;}#sk-container-id-4 div.sk-serial {display: flex;flex-direction: column;align-items: center;background-color: white;padding-right: 0.2em;padding-left: 0.2em;position: relative;}#sk-container-id-4 div.sk-item {position: relative;z-index: 1;}#sk-container-id-4 div.sk-parallel {display: flex;align-items: stretch;justify-content: center;background-color: white;position: relative;}#sk-container-id-4 div.sk-item::before, #sk-container-id-4 div.sk-parallel-item::before {content: \"\";position: absolute;border-left: 1px solid gray;box-sizing: border-box;top: 0;bottom: 0;left: 50%;z-index: -1;}#sk-container-id-4 div.sk-parallel-item {display: flex;flex-direction: column;z-index: 1;position: relative;background-color: white;}#sk-container-id-4 div.sk-parallel-item:first-child::after {align-self: flex-end;width: 50%;}#sk-container-id-4 div.sk-parallel-item:last-child::after {align-self: flex-start;width: 50%;}#sk-container-id-4 div.sk-parallel-item:only-child::after {width: 0;}#sk-container-id-4 div.sk-dashed-wrapped {border: 1px dashed gray;margin: 0 0.4em 0.5em 0.4em;box-sizing: border-box;padding-bottom: 0.4em;background-color: white;}#sk-container-id-4 div.sk-label label {font-family: monospace;font-weight: bold;display: inline-block;line-height: 1.2em;}#sk-container-id-4 div.sk-label-container {text-align: center;}#sk-container-id-4 div.sk-container {/* jupyter's `normalize.less` sets `[hidden] { display: none; }` but bootstrap.min.css set `[hidden] { display: none !important; }` so we also need the `!important` here to be able to override the default hidden behavior on the sphinx rendered scikit-learn.org. See: https://github.com/scikit-learn/scikit-learn/issues/21755 */display: inline-block !important;position: relative;}#sk-container-id-4 div.sk-text-repr-fallback {display: none;}</style><div id=\"sk-container-id-4\" class=\"sk-top-container\"><div class=\"sk-text-repr-fallback\"><pre>ColumnTransformer(transformers=[(&#x27;numeric&#x27;,\n",
              "                                 Pipeline(steps=[(&#x27;scaler&#x27;, MinMaxScaler())]),\n",
              "                                 Index([&#x27;floors_before_eq (total)&#x27;, &#x27;old_building&#x27;, &#x27;plinth_area (ft^2)&#x27;,\n",
              "       &#x27;height_before_eq (ft)&#x27;],\n",
              "      dtype=&#x27;object&#x27;)),\n",
              "                                (&#x27;low_cardinal&#x27;,\n",
              "                                 Pipeline(steps=[(&#x27;low_cardinal&#x27;,\n",
              "                                                  OneHotEncoder(handle_unknown=&#x27;ignore&#x27;))]),\n",
              "                                 Index([&#x27;flexible_superstructure&#x27;, &#x27;govermental_use_type&#x27;, &#x27;has_sec...\n",
              "      dtype=&#x27;object&#x27;)),\n",
              "                                (&#x27;high_cardinal&#x27;,\n",
              "                                 Pipeline(steps=[(&#x27;high_cardinal&#x27;,\n",
              "                                                  OrdinalEncoder(handle_unknown=&#x27;use_encoded_value&#x27;,\n",
              "                                                                 unknown_value=-1))]),\n",
              "                                 Index([&#x27;building_plan_configuration&#x27;, &#x27;industrial_use_type&#x27;,\n",
              "       &#x27;no_family_residing&#x27;, &#x27;public_place_type&#x27;, &#x27;residential_type&#x27;,\n",
              "       &#x27;type_of_foundation&#x27;, &#x27;type_of_ground_floor&#x27;, &#x27;type_of_other_floor&#x27;,\n",
              "       &#x27;wall_binding&#x27;],\n",
              "      dtype=&#x27;object&#x27;))])</pre><b>In a Jupyter environment, please rerun this cell to show the HTML representation or trust the notebook. <br />On GitHub, the HTML representation is unable to render, please try loading this page with nbviewer.org.</b></div><div class=\"sk-container\" hidden><div class=\"sk-item sk-dashed-wrapped\"><div class=\"sk-label-container\"><div class=\"sk-label sk-toggleable\"><input class=\"sk-toggleable__control sk-hidden--visually\" id=\"sk-estimator-id-16\" type=\"checkbox\" ><label for=\"sk-estimator-id-16\" class=\"sk-toggleable__label sk-toggleable__label-arrow\">ColumnTransformer</label><div class=\"sk-toggleable__content\"><pre>ColumnTransformer(transformers=[(&#x27;numeric&#x27;,\n",
              "                                 Pipeline(steps=[(&#x27;scaler&#x27;, MinMaxScaler())]),\n",
              "                                 Index([&#x27;floors_before_eq (total)&#x27;, &#x27;old_building&#x27;, &#x27;plinth_area (ft^2)&#x27;,\n",
              "       &#x27;height_before_eq (ft)&#x27;],\n",
              "      dtype=&#x27;object&#x27;)),\n",
              "                                (&#x27;low_cardinal&#x27;,\n",
              "                                 Pipeline(steps=[(&#x27;low_cardinal&#x27;,\n",
              "                                                  OneHotEncoder(handle_unknown=&#x27;ignore&#x27;))]),\n",
              "                                 Index([&#x27;flexible_superstructure&#x27;, &#x27;govermental_use_type&#x27;, &#x27;has_sec...\n",
              "      dtype=&#x27;object&#x27;)),\n",
              "                                (&#x27;high_cardinal&#x27;,\n",
              "                                 Pipeline(steps=[(&#x27;high_cardinal&#x27;,\n",
              "                                                  OrdinalEncoder(handle_unknown=&#x27;use_encoded_value&#x27;,\n",
              "                                                                 unknown_value=-1))]),\n",
              "                                 Index([&#x27;building_plan_configuration&#x27;, &#x27;industrial_use_type&#x27;,\n",
              "       &#x27;no_family_residing&#x27;, &#x27;public_place_type&#x27;, &#x27;residential_type&#x27;,\n",
              "       &#x27;type_of_foundation&#x27;, &#x27;type_of_ground_floor&#x27;, &#x27;type_of_other_floor&#x27;,\n",
              "       &#x27;wall_binding&#x27;],\n",
              "      dtype=&#x27;object&#x27;))])</pre></div></div></div><div class=\"sk-parallel\"><div class=\"sk-parallel-item\"><div class=\"sk-item\"><div class=\"sk-label-container\"><div class=\"sk-label sk-toggleable\"><input class=\"sk-toggleable__control sk-hidden--visually\" id=\"sk-estimator-id-17\" type=\"checkbox\" ><label for=\"sk-estimator-id-17\" class=\"sk-toggleable__label sk-toggleable__label-arrow\">numeric</label><div class=\"sk-toggleable__content\"><pre>Index([&#x27;floors_before_eq (total)&#x27;, &#x27;old_building&#x27;, &#x27;plinth_area (ft^2)&#x27;,\n",
              "       &#x27;height_before_eq (ft)&#x27;],\n",
              "      dtype=&#x27;object&#x27;)</pre></div></div></div><div class=\"sk-serial\"><div class=\"sk-item\"><div class=\"sk-serial\"><div class=\"sk-item\"><div class=\"sk-estimator sk-toggleable\"><input class=\"sk-toggleable__control sk-hidden--visually\" id=\"sk-estimator-id-18\" type=\"checkbox\" ><label for=\"sk-estimator-id-18\" class=\"sk-toggleable__label sk-toggleable__label-arrow\">MinMaxScaler</label><div class=\"sk-toggleable__content\"><pre>MinMaxScaler()</pre></div></div></div></div></div></div></div></div><div class=\"sk-parallel-item\"><div class=\"sk-item\"><div class=\"sk-label-container\"><div class=\"sk-label sk-toggleable\"><input class=\"sk-toggleable__control sk-hidden--visually\" id=\"sk-estimator-id-19\" type=\"checkbox\" ><label for=\"sk-estimator-id-19\" class=\"sk-toggleable__label sk-toggleable__label-arrow\">low_cardinal</label><div class=\"sk-toggleable__content\"><pre>Index([&#x27;flexible_superstructure&#x27;, &#x27;govermental_use_type&#x27;, &#x27;has_secondary_use&#x27;,\n",
              "       &#x27;land_surface_condition&#x27;, &#x27;legal_ownership_status&#x27;, &#x27;position&#x27;,\n",
              "       &#x27;technical_solution_proposed&#x27;, &#x27;type_of_reinforcement_concrete&#x27;,\n",
              "       &#x27;type_of_roof&#x27;, &#x27;wall_material&#x27;],\n",
              "      dtype=&#x27;object&#x27;)</pre></div></div></div><div class=\"sk-serial\"><div class=\"sk-item\"><div class=\"sk-serial\"><div class=\"sk-item\"><div class=\"sk-estimator sk-toggleable\"><input class=\"sk-toggleable__control sk-hidden--visually\" id=\"sk-estimator-id-20\" type=\"checkbox\" ><label for=\"sk-estimator-id-20\" class=\"sk-toggleable__label sk-toggleable__label-arrow\">OneHotEncoder</label><div class=\"sk-toggleable__content\"><pre>OneHotEncoder(handle_unknown=&#x27;ignore&#x27;)</pre></div></div></div></div></div></div></div></div><div class=\"sk-parallel-item\"><div class=\"sk-item\"><div class=\"sk-label-container\"><div class=\"sk-label sk-toggleable\"><input class=\"sk-toggleable__control sk-hidden--visually\" id=\"sk-estimator-id-21\" type=\"checkbox\" ><label for=\"sk-estimator-id-21\" class=\"sk-toggleable__label sk-toggleable__label-arrow\">high_cardinal</label><div class=\"sk-toggleable__content\"><pre>Index([&#x27;building_plan_configuration&#x27;, &#x27;industrial_use_type&#x27;,\n",
              "       &#x27;no_family_residing&#x27;, &#x27;public_place_type&#x27;, &#x27;residential_type&#x27;,\n",
              "       &#x27;type_of_foundation&#x27;, &#x27;type_of_ground_floor&#x27;, &#x27;type_of_other_floor&#x27;,\n",
              "       &#x27;wall_binding&#x27;],\n",
              "      dtype=&#x27;object&#x27;)</pre></div></div></div><div class=\"sk-serial\"><div class=\"sk-item\"><div class=\"sk-serial\"><div class=\"sk-item\"><div class=\"sk-estimator sk-toggleable\"><input class=\"sk-toggleable__control sk-hidden--visually\" id=\"sk-estimator-id-22\" type=\"checkbox\" ><label for=\"sk-estimator-id-22\" class=\"sk-toggleable__label sk-toggleable__label-arrow\">OrdinalEncoder</label><div class=\"sk-toggleable__content\"><pre>OrdinalEncoder(handle_unknown=&#x27;use_encoded_value&#x27;, unknown_value=-1)</pre></div></div></div></div></div></div></div></div></div></div></div></div>"
            ]
          },
          "metadata": {},
          "execution_count": 87
        }
      ],
      "source": [
        "numerical_pipeline = Pipeline([\n",
        "    # ('imputer', median_imputer),\n",
        "    ('scaler', minmax_scaler),\n",
        "])\n",
        "\n",
        "low_card_pipeline = Pipeline([\n",
        "    # ('imputer', mode_imputer),\n",
        "    ('low_cardinal', onehot_oncoder),\n",
        "])\n",
        "\n",
        "high_card_pipeline = Pipeline([\n",
        "    # ('imputer', mode_imputer),\n",
        "    ('high_cardinal', ordinal_encoder),\n",
        "    # ('high_cardinal', TargetEncoder),\n",
        "    # ('high_cardinal', OrdinalEncoder),\n",
        "])\n",
        "\n",
        "preprocessor = ColumnTransformer([\n",
        "    ('numeric', numerical_pipeline, numeric_columns),\n",
        "    ('low_cardinal', low_card_pipeline, low_cardinal),\n",
        "    ('high_cardinal', high_card_pipeline, high_cardinal),\n",
        "])\n",
        "\n",
        "preprocessor"
      ]
    },
    {
      "cell_type": "markdown",
      "metadata": {
        "id": "jb5GX6-RwpjT"
      },
      "source": [
        "# Model Pipeline"
      ]
    },
    {
      "cell_type": "code",
      "execution_count": null,
      "metadata": {
        "id": "owiHR0Db4nfr"
      },
      "outputs": [],
      "source": [
        "from sklearn.model_selection import train_test_split, GridSearchCV\n",
        "from sklearn.neighbors import KNeighborsRegressor, KNeighborsClassifier\n",
        "from sklearn.svm import SVR, SVC\n",
        "from xgboost import XGBRegressor, XGBClassifier, plot_importance\n",
        "from sklearn.neural_network import MLPRegressor, MLPClassifier\n",
        "from sklearn.utils import class_weight\n",
        "# regression metrics\n",
        "from sklearn.metrics import confusion_matrix, accuracy_score, classification_report, roc_auc_score, f1_score\n",
        "# classification metrics\n",
        "from sklearn.metrics import mean_squared_error, mean_absolute_error, r2_score"
      ]
    },
    {
      "cell_type": "code",
      "source": [
        "train_model.info()"
      ],
      "metadata": {
        "colab": {
          "base_uri": "https://localhost:8080/"
        },
        "id": "0j3Egw69BqlD",
        "outputId": "c840a876-89ca-43cc-dba8-4e33280e3ced"
      },
      "execution_count": null,
      "outputs": [
        {
          "output_type": "stream",
          "name": "stdout",
          "text": [
            "<class 'pandas.core.frame.DataFrame'>\n",
            "RangeIndex: 722815 entries, 0 to 722814\n",
            "Data columns (total 24 columns):\n",
            " #   Column                          Non-Null Count   Dtype  \n",
            "---  ------                          --------------   -----  \n",
            " 0   floors_before_eq (total)        390009 non-null  float64\n",
            " 1   old_building                    483611 non-null  float64\n",
            " 2   plinth_area (ft^2)              301607 non-null  float64\n",
            " 3   height_before_eq (ft)           390009 non-null  float64\n",
            " 4   land_surface_condition          421209 non-null  object \n",
            " 5   type_of_foundation              483611 non-null  object \n",
            " 6   type_of_roof                    301607 non-null  object \n",
            " 7   type_of_ground_floor            390009 non-null  object \n",
            " 8   type_of_other_floor             421209 non-null  object \n",
            " 9   position                        410809 non-null  object \n",
            " 10  building_plan_configuration     421209 non-null  object \n",
            " 11  technical_solution_proposed     46801 non-null   object \n",
            " 12  legal_ownership_status          598013 non-null  object \n",
            " 13  has_secondary_use               525211 non-null  float64\n",
            " 14  type_of_reinforcement_concrete  431609 non-null  float64\n",
            " 15  residential_type                452411 non-null  object \n",
            " 16  no_family_residing              577213 non-null  float64\n",
            " 17  public_place_type               722815 non-null  object \n",
            " 18  industrial_use_type             608413 non-null  object \n",
            " 19  govermental_use_type            473211 non-null  object \n",
            " 20  flexible_superstructure         660415 non-null  object \n",
            " 21  wall_binding                    660415 non-null  float64\n",
            " 22  wall_material                   494011 non-null  float64\n",
            " 23  damage_grade                    722815 non-null  float64\n",
            "dtypes: float64(10), object(14)\n",
            "memory usage: 132.4+ MB\n"
          ]
        }
      ]
    },
    {
      "cell_type": "code",
      "source": [
        "# train_model.drop(['old_building', 'height_before_eq (ft)', 'has_secondary_use', 'no_family_residing'], axis=1, inplace=True)"
      ],
      "metadata": {
        "id": "W63TwSLyBsmd"
      },
      "execution_count": null,
      "outputs": []
    },
    {
      "cell_type": "code",
      "execution_count": null,
      "metadata": {
        "id": "JwhMUmRsl4My",
        "colab": {
          "base_uri": "https://localhost:8080/"
        },
        "outputId": "291e17ff-ef63-48de-c53a-b7c8e29a75aa"
      },
      "outputs": [
        {
          "output_type": "stream",
          "name": "stderr",
          "text": [
            "/usr/local/lib/python3.10/dist-packages/sklearn/base.py:439: UserWarning: X does not have valid feature names, but IsolationForest was fitted with feature names\n",
            "  warnings.warn(\n"
          ]
        }
      ],
      "source": [
        "train_model_clean = data_cleaner.fit_transform(train_model)"
      ]
    },
    {
      "cell_type": "code",
      "execution_count": null,
      "metadata": {
        "id": "yPY3F7hDwpjT",
        "colab": {
          "base_uri": "https://localhost:8080/"
        },
        "outputId": "e861e927-3ec2-445a-9534-d886b5bedce2"
      },
      "outputs": [
        {
          "output_type": "execute_result",
          "data": {
            "text/plain": [
              "((35432, 23), (8858, 23), (35432,), (8858,))"
            ]
          },
          "metadata": {},
          "execution_count": 92
        }
      ],
      "source": [
        "X = train_model_clean.drop(['damage_grade'], axis=1)\n",
        "y = train_model_clean['damage_grade']\n",
        "X_train, X_val, y_train, y_val = train_test_split(X, y, test_size=0.2, random_state=42)\n",
        "X_train.shape, X_val.shape, y_train.shape, y_val.shape"
      ]
    },
    {
      "cell_type": "code",
      "execution_count": null,
      "metadata": {
        "id": "X2qB5vm98F22"
      },
      "outputs": [],
      "source": [
        "y_train = LabelEncoder().fit_transform(y_train)\n",
        "y_val = LabelEncoder().fit_transform(y_val)"
      ]
    },
    {
      "cell_type": "markdown",
      "metadata": {
        "id": "P_8G9Rjh1Rm0"
      },
      "source": [
        "## KNN"
      ]
    },
    {
      "cell_type": "code",
      "execution_count": null,
      "metadata": {
        "id": "dNHO3aY_wpjT"
      },
      "outputs": [],
      "source": [
        "# params = {\n",
        "#     'n_neighbors': 5,\n",
        "#     'weights': 'uniform',\n",
        "#     'metric': 'euclidean',\n",
        "#     'algorithm': 'kd_tree',\n",
        "#     'leaf_size': 30,\n",
        "#     'p': 3,\n",
        "#     'n_jobs': -1\n",
        "# }\n",
        "\n",
        "# knn_pipeline = Pipeline([\n",
        "#     ('prep', preprocessor),\n",
        "#     ('estimator', KNeighborsClassifier(**params))\n",
        "# ])\n",
        "\n",
        "# knn_pipeline"
      ]
    },
    {
      "cell_type": "code",
      "execution_count": null,
      "metadata": {
        "id": "QZzTUMU6wpjT"
      },
      "outputs": [],
      "source": [
        "# knn_pipeline.fit(X_train, y_train)\n",
        "\n",
        "# print('Score:', knn_pipeline.score(X_val, y_val))\n",
        "\n",
        "# y_pred = knn_pipeline.predict(X_val)"
      ]
    },
    {
      "cell_type": "code",
      "execution_count": null,
      "metadata": {
        "id": "LVL24d_wDM5S"
      },
      "outputs": [],
      "source": [
        "# print(classification_report(y_val, y_pred))\n",
        "\n",
        "# ax = plt.subplot()\n",
        "\n",
        "# sns.heatmap(\n",
        "#     confusion_matrix(y_val, y_pred),\n",
        "#     annot=True,\n",
        "#     fmt='.0f',\n",
        "#     annot_kws={'fontsize': 10},\n",
        "#     cmap='Blues',\n",
        "#     xticklabels=np.arange(1, 6),\n",
        "#     yticklabels=np.arange(1, 6),\n",
        "#     ax=ax)\n",
        "\n",
        "# ax.set_title('\\nConfusion Matrix (KNN)\\n')\n",
        "# ax.set_xlabel('\\nPredicted labels\\n', color='r')\n",
        "# ax.set_ylabel('\\nTrue labels\\n', color='g')\n",
        "\n",
        "# plt.show()"
      ]
    },
    {
      "cell_type": "code",
      "execution_count": null,
      "metadata": {
        "id": "KJo6MASaD4tU"
      },
      "outputs": [],
      "source": [
        "# param_grid = {\n",
        "#     'estimator__n_neighbors': np.arange(1, 11),\n",
        "#     'estimator__weights': ['uniform', 'distance'],\n",
        "#     'estimator__metric': ['euclidean', 'manhattan', 'minkowski'],\n",
        "#     'estimator__algorithm': ['kd_tree', 'ball_tree'],\n",
        "#     'estimator__leaf_size': [10, 20, 30, 40, 50],\n",
        "#     'estimator__p': [1, 2, 3],\n",
        "#     'estimator__n_jobs': [-1]\n",
        "# }\n",
        "\n",
        "# grid_search = GridSearchCV(knn_pipeline, param_grid, cv=5, verbose=2, n_jobs=-1)\n",
        "# grid_search.fit(X_train, y_train)\n",
        "\n",
        "# print(\"Best parameters: \", grid_search.best_params_)\n",
        "# print(\"Best score: \", grid_search.best_score_)\n",
        "\n",
        "# y_pred = knn_pipeline.predict(X_val)\n",
        "\n",
        "# print(classification_report(y_val, y_pred))\n",
        "\n",
        "# sns.heatmap(\n",
        "#     confusion_matrix(y_val, y_pred),\n",
        "#     annot=True,\n",
        "#     fmt='.2f',\n",
        "#     annot_kws={'fontsize': 10},\n",
        "#     cmap='Blues')"
      ]
    },
    {
      "cell_type": "markdown",
      "metadata": {
        "id": "ZzAr2bEmwLSG"
      },
      "source": [
        "## XGBoost"
      ]
    },
    {
      "cell_type": "code",
      "execution_count": null,
      "metadata": {
        "id": "WyQOOUjMwBcF"
      },
      "outputs": [],
      "source": [
        "# params = {\n",
        "#     'learning_rate':0.1,\n",
        "#     'max_depth':3,\n",
        "#     'n_estimators':100,\n",
        "#     'objective':'multi:softmax',\n",
        "#     'num_class':3,\n",
        "#     'gamma':0,\n",
        "#     'subsample':0.8,\n",
        "#     'colsample_bytree':0.8,\n",
        "#     'seed':42\n",
        "# }\n",
        "\n",
        "# xgb_pipeline = Pipeline([\n",
        "#     ('prep', preprocessor),\n",
        "#     ('estimator', XGBClassifier(**params))\n",
        "# ])\n",
        "\n",
        "# xgb_pipeline"
      ]
    },
    {
      "cell_type": "code",
      "execution_count": null,
      "metadata": {
        "id": "FhtGTxni3Co7"
      },
      "outputs": [],
      "source": [
        "# xgb_pipeline.fit(X_train, y_train)\n",
        "\n",
        "# print('Score:', xgb_pipeline.score(X_val, y_val))\n",
        "\n",
        "# y_pred = xgb_pipeline.predict(X_val)"
      ]
    },
    {
      "cell_type": "code",
      "execution_count": null,
      "metadata": {
        "id": "vlJsv4533ESn"
      },
      "outputs": [],
      "source": [
        "# print(classification_report(y_val, y_pred))\n",
        "\n",
        "# ax = plt.subplot()\n",
        "\n",
        "# sns.heatmap(\n",
        "#     confusion_matrix(y_val, y_pred),\n",
        "#     annot=True,\n",
        "#     fmt='.0f',\n",
        "#     annot_kws={'fontsize': 10},\n",
        "#     cmap='Blues',\n",
        "#     xticklabels=np.arange(1, 6),\n",
        "#     yticklabels=np.arange(1, 6),\n",
        "#     ax=ax)\n",
        "\n",
        "# ax.set_title('\\nConfusion Matrix (XGBoost)\\n')\n",
        "# ax.set_xlabel('\\nPredicted labels\\n', color='r')\n",
        "# ax.set_ylabel('\\nTrue labels\\n', color='g')\n",
        "\n",
        "# plt.show()"
      ]
    },
    {
      "cell_type": "markdown",
      "metadata": {
        "id": "vbqV4rCy_y2A"
      },
      "source": [
        "## SVM"
      ]
    },
    {
      "cell_type": "code",
      "execution_count": null,
      "metadata": {
        "id": "m0ekxXnu_1GT"
      },
      "outputs": [],
      "source": [
        "# params = {\n",
        "#     'C': 1.0,\n",
        "#     'kernel': 'rbf',\n",
        "#     'degree': 3,\n",
        "#     'gamma': 'scale',\n",
        "#     'coef0': 0.0,\n",
        "#     'shrinking': True,\n",
        "#     'probability': False,\n",
        "#     'tol': 1e-3,\n",
        "#     'max_iter': -1\n",
        "# }\n",
        "\n",
        "# svc_estimator = SVC(C= 1.0, kernel= 'rbf', degree= 3, gamma= 'scale', coef0= 0.0, shrinking= True, probability= False, tol= 1e-3, max_iter= -1, verbose=True)\n",
        "\n",
        "# svm_pipeline = Pipeline([\n",
        "#     ('prep', preprocessor),\n",
        "#     ('estimator', svc_estimator)\n",
        "# ])\n",
        "\n",
        "# svm_pipeline"
      ]
    },
    {
      "cell_type": "code",
      "execution_count": null,
      "metadata": {
        "id": "cgRBsf8mCGvD"
      },
      "outputs": [],
      "source": [
        "# svm_pipeline.fit(X_train, y_train)\n",
        "\n",
        "# print('Score:', svm_pipeline.score(X_val, y_val))\n",
        "\n",
        "# y_pred = svm_pipeline.predict(X_val)"
      ]
    },
    {
      "cell_type": "code",
      "execution_count": null,
      "metadata": {
        "id": "k1F3BxDtCKnF"
      },
      "outputs": [],
      "source": [
        "# print(classification_report(y_val, y_pred))\n",
        "\n",
        "# ax = plt.subplot()\n",
        "\n",
        "# sns.heatmap(\n",
        "#     confusion_matrix(y_val, y_pred),\n",
        "#     annot=True,\n",
        "#     fmt='.0f',\n",
        "#     annot_kws={'fontsize': 10},\n",
        "#     cmap='Blues',\n",
        "#     xticklabels=np.arange(1, 6),\n",
        "#     yticklabels=np.arange(1, 6),\n",
        "#     ax=ax)\n",
        "\n",
        "# ax.set_title('\\nConfusion Matrix (SVM)\\n')\n",
        "# ax.set_xlabel('\\nPredicted labels\\n', color='r')\n",
        "# ax.set_ylabel('\\nTrue labels\\n', color='g')\n",
        "\n",
        "# plt.show()"
      ]
    },
    {
      "cell_type": "code",
      "execution_count": null,
      "metadata": {
        "id": "9wuMVaL-Eil1"
      },
      "outputs": [],
      "source": [
        "# svm_param_grid = {\n",
        "#               'estimator__C': [0.1, 1, 10],\n",
        "#               'estimator__kernel': ['linear', 'rbf', 'poly'],\n",
        "#               'estimator__degree': [2, 3, 4],\n",
        "#               'estimator__gamma': ['scale', 'auto']\n",
        "#               }\n",
        "\n",
        "# svm_grid_search = GridSearchCV(svm_pipeline, svm_param_grid, cv=5, verbose=1, n_jobs=-1)"
      ]
    },
    {
      "cell_type": "code",
      "execution_count": null,
      "metadata": {
        "id": "-XYlktdBFVZ3"
      },
      "outputs": [],
      "source": [
        "# svm_grid_search.fit(X_train, y_train)\n",
        "\n",
        "# print('Best parameters:', svm_grid_search.best_params_)\n",
        "# print('Best score:', svm_grid_search.best_score_)"
      ]
    },
    {
      "cell_type": "markdown",
      "metadata": {
        "id": "lDAGPZwq0oPu"
      },
      "source": [
        "# Stacking"
      ]
    },
    {
      "cell_type": "markdown",
      "metadata": {
        "id": "cU7bLt_zd7ZT"
      },
      "source": [
        "## Stacking Ensemble"
      ]
    },
    {
      "cell_type": "code",
      "execution_count": null,
      "metadata": {
        "id": "RLk9tVfv0qh1"
      },
      "outputs": [],
      "source": [
        "from sklearn.ensemble import StackingClassifier"
      ]
    },
    {
      "cell_type": "code",
      "execution_count": null,
      "metadata": {
        "id": "IusAu1DFHL85"
      },
      "outputs": [],
      "source": [
        "# estimators = []\n",
        "\n",
        "# stack = StackingCVClassifier(\n",
        "#     classifiers=estimators,\n",
        "#     meta_classifier=lr_pipeline,\n",
        "#     cv=5,\n",
        "#     random_state=42,\n",
        "#     verbose=1\n",
        "# )"
      ]
    },
    {
      "cell_type": "markdown",
      "metadata": {
        "id": "suhGBrEjeBeO"
      },
      "source": [
        "## Stacking AutoGluon"
      ]
    },
    {
      "cell_type": "code",
      "execution_count": null,
      "metadata": {
        "id": "weg27RpAeAdJ",
        "colab": {
          "base_uri": "https://localhost:8080/",
          "height": 1000
        },
        "outputId": "603261e1-0b10-4f5e-e902-7dca26801683"
      },
      "outputs": [
        {
          "output_type": "stream",
          "name": "stdout",
          "text": [
            "Looking in indexes: https://pypi.org/simple, https://us-python.pkg.dev/colab-wheels/public/simple/\n",
            "Collecting autogluon\n",
            "  Downloading autogluon-0.7.0-py3-none-any.whl (9.7 kB)\n",
            "Collecting autogluon.core[all]==0.7.0 (from autogluon)\n",
            "  Downloading autogluon.core-0.7.0-py3-none-any.whl (218 kB)\n",
            "\u001b[2K     \u001b[90m━━━━━━━━━━━━━━━━━━━━━━━━━━━━━━━━━━━━━━\u001b[0m \u001b[32m218.3/218.3 kB\u001b[0m \u001b[31m18.3 MB/s\u001b[0m eta \u001b[36m0:00:00\u001b[0m\n",
            "\u001b[?25hCollecting autogluon.features==0.7.0 (from autogluon)\n",
            "  Downloading autogluon.features-0.7.0-py3-none-any.whl (60 kB)\n",
            "\u001b[2K     \u001b[90m━━━━━━━━━━━━━━━━━━━━━━━━━━━━━━━━━━━━━━━━\u001b[0m \u001b[32m60.1/60.1 kB\u001b[0m \u001b[31m7.3 MB/s\u001b[0m eta \u001b[36m0:00:00\u001b[0m\n",
            "\u001b[?25hCollecting autogluon.tabular[all]==0.7.0 (from autogluon)\n",
            "  Downloading autogluon.tabular-0.7.0-py3-none-any.whl (292 kB)\n",
            "\u001b[2K     \u001b[90m━━━━━━━━━━━━━━━━━━━━━━━━━━━━━━━━━━━━━━\u001b[0m \u001b[32m292.2/292.2 kB\u001b[0m \u001b[31m18.6 MB/s\u001b[0m eta \u001b[36m0:00:00\u001b[0m\n",
            "\u001b[?25hCollecting autogluon.multimodal==0.7.0 (from autogluon)\n",
            "  Downloading autogluon.multimodal-0.7.0-py3-none-any.whl (331 kB)\n",
            "\u001b[2K     \u001b[90m━━━━━━━━━━━━━━━━━━━━━━━━━━━━━━━━━━━━━━\u001b[0m \u001b[32m331.1/331.1 kB\u001b[0m \u001b[31m33.4 MB/s\u001b[0m eta \u001b[36m0:00:00\u001b[0m\n",
            "\u001b[?25hCollecting autogluon.timeseries[all]==0.7.0 (from autogluon)\n",
            "  Downloading autogluon.timeseries-0.7.0-py3-none-any.whl (108 kB)\n",
            "\u001b[2K     \u001b[90m━━━━━━━━━━━━━━━━━━━━━━━━━━━━━━━━━━━━━━\u001b[0m \u001b[32m108.7/108.7 kB\u001b[0m \u001b[31m14.1 MB/s\u001b[0m eta \u001b[36m0:00:00\u001b[0m\n",
            "\u001b[?25hRequirement already satisfied: numpy<1.27,>=1.21 in /usr/local/lib/python3.10/dist-packages (from autogluon.core[all]==0.7.0->autogluon) (1.22.4)\n",
            "Requirement already satisfied: scipy<1.12,>=1.5.4 in /usr/local/lib/python3.10/dist-packages (from autogluon.core[all]==0.7.0->autogluon) (1.10.1)\n",
            "Requirement already satisfied: scikit-learn<1.3,>=1.0 in /usr/local/lib/python3.10/dist-packages (from autogluon.core[all]==0.7.0->autogluon) (1.2.2)\n",
            "Collecting networkx<3.0,>=2.3 (from autogluon.core[all]==0.7.0->autogluon)\n",
            "  Downloading networkx-2.8.8-py3-none-any.whl (2.0 MB)\n",
            "\u001b[2K     \u001b[90m━━━━━━━━━━━━━━━━━━━━━━━━━━━━━━━━━━━━━━━━\u001b[0m \u001b[32m2.0/2.0 MB\u001b[0m \u001b[31m44.9 MB/s\u001b[0m eta \u001b[36m0:00:00\u001b[0m\n",
            "\u001b[?25hRequirement already satisfied: pandas<1.6,>=1.4.1 in /usr/local/lib/python3.10/dist-packages (from autogluon.core[all]==0.7.0->autogluon) (1.5.3)\n",
            "Requirement already satisfied: tqdm<5,>=4.38 in /usr/local/lib/python3.10/dist-packages (from autogluon.core[all]==0.7.0->autogluon) (4.65.0)\n",
            "Requirement already satisfied: requests in /usr/local/lib/python3.10/dist-packages (from autogluon.core[all]==0.7.0->autogluon) (2.27.1)\n",
            "Requirement already satisfied: matplotlib in /usr/local/lib/python3.10/dist-packages (from autogluon.core[all]==0.7.0->autogluon) (3.7.1)\n",
            "Collecting boto3<2,>=1.10 (from autogluon.core[all]==0.7.0->autogluon)\n",
            "  Downloading boto3-1.26.135-py3-none-any.whl (135 kB)\n",
            "\u001b[2K     \u001b[90m━━━━━━━━━━━━━━━━━━━━━━━━━━━━━━━━━━━━━━\u001b[0m \u001b[32m135.6/135.6 kB\u001b[0m \u001b[31m12.1 MB/s\u001b[0m eta \u001b[36m0:00:00\u001b[0m\n",
            "\u001b[?25hCollecting autogluon.common==0.7.0 (from autogluon.core[all]==0.7.0->autogluon)\n",
            "  Downloading autogluon.common-0.7.0-py3-none-any.whl (45 kB)\n",
            "\u001b[2K     \u001b[90m━━━━━━━━━━━━━━━━━━━━━━━━━━━━━━━━━━━━━━━━\u001b[0m \u001b[32m45.0/45.0 kB\u001b[0m \u001b[31m5.2 MB/s\u001b[0m eta \u001b[36m0:00:00\u001b[0m\n",
            "\u001b[?25hRequirement already satisfied: hyperopt<0.2.8,>=0.2.7 in /usr/local/lib/python3.10/dist-packages (from autogluon.core[all]==0.7.0->autogluon) (0.2.7)\n",
            "Collecting ray[tune]<2.3,>=2.2 (from autogluon.core[all]==0.7.0->autogluon)\n",
            "  Downloading ray-2.2.0-cp310-cp310-manylinux2014_x86_64.whl (57.4 MB)\n",
            "\u001b[2K     \u001b[90m━━━━━━━━━━━━━━━━━━━━━━━━━━━━━━━━━━━━━━━━\u001b[0m \u001b[32m57.4/57.4 MB\u001b[0m \u001b[31m8.8 MB/s\u001b[0m eta \u001b[36m0:00:00\u001b[0m\n",
            "\u001b[?25hCollecting Pillow<9.6,>=9.3 (from autogluon.multimodal==0.7.0->autogluon)\n",
            "  Downloading Pillow-9.5.0-cp310-cp310-manylinux_2_28_x86_64.whl (3.4 MB)\n",
            "\u001b[2K     \u001b[90m━━━━━━━━━━━━━━━━━━━━━━━━━━━━━━━━━━━━━━━━\u001b[0m \u001b[32m3.4/3.4 MB\u001b[0m \u001b[31m31.0 MB/s\u001b[0m eta \u001b[36m0:00:00\u001b[0m\n",
            "\u001b[?25hCollecting jsonschema<4.18,>=4.14 (from autogluon.multimodal==0.7.0->autogluon)\n",
            "  Downloading jsonschema-4.17.3-py3-none-any.whl (90 kB)\n",
            "\u001b[2K     \u001b[90m━━━━━━━━━━━━━━━━━━━━━━━━━━━━━━━━━━━━━━━━\u001b[0m \u001b[32m90.4/90.4 kB\u001b[0m \u001b[31m10.1 MB/s\u001b[0m eta \u001b[36m0:00:00\u001b[0m\n",
            "\u001b[?25hCollecting seqeval<1.3.0,>=1.2.2 (from autogluon.multimodal==0.7.0->autogluon)\n",
            "  Downloading seqeval-1.2.2.tar.gz (43 kB)\n",
            "\u001b[2K     \u001b[90m━━━━━━━━━━━━━━━━━━━━━━━━━━━━━━━━━━━━━━━━\u001b[0m \u001b[32m43.6/43.6 kB\u001b[0m \u001b[31m5.0 MB/s\u001b[0m eta \u001b[36m0:00:00\u001b[0m\n",
            "\u001b[?25h  Preparing metadata (setup.py) ... \u001b[?25l\u001b[?25hdone\n",
            "Collecting evaluate<0.4.0,>=0.2.2 (from autogluon.multimodal==0.7.0->autogluon)\n",
            "  Downloading evaluate-0.3.0-py3-none-any.whl (72 kB)\n",
            "\u001b[2K     \u001b[90m━━━━━━━━━━━━━━━━━━━━━━━━━━━━━━━━━━━━━━━━\u001b[0m \u001b[32m72.9/72.9 kB\u001b[0m \u001b[31m9.7 MB/s\u001b[0m eta \u001b[36m0:00:00\u001b[0m\n",
            "\u001b[?25hCollecting accelerate<0.17,>=0.9 (from autogluon.multimodal==0.7.0->autogluon)\n",
            "  Downloading accelerate-0.16.0-py3-none-any.whl (199 kB)\n",
            "\u001b[2K     \u001b[90m━━━━━━━━━━━━━━━━━━━━━━━━━━━━━━━━━━━━━━\u001b[0m \u001b[32m199.7/199.7 kB\u001b[0m \u001b[31m25.0 MB/s\u001b[0m eta \u001b[36m0:00:00\u001b[0m\n",
            "\u001b[?25hCollecting timm<0.7.0,>=0.6.12 (from autogluon.multimodal==0.7.0->autogluon)\n",
            "  Downloading timm-0.6.13-py3-none-any.whl (549 kB)\n",
            "\u001b[2K     \u001b[90m━━━━━━━━━━━━━━━━━━━━━━━━━━━━━━━━━━━━━━\u001b[0m \u001b[32m549.1/549.1 kB\u001b[0m \u001b[31m59.2 MB/s\u001b[0m eta \u001b[36m0:00:00\u001b[0m\n",
            "\u001b[?25hCollecting torch<1.14,>=1.9 (from autogluon.multimodal==0.7.0->autogluon)\n",
            "  Downloading torch-1.13.1-cp310-cp310-manylinux1_x86_64.whl (887.5 MB)\n",
            "\u001b[2K     \u001b[90m━━━━━━━━━━━━━━━━━━━━━━━━━━━━━━━━━━━━━\u001b[0m \u001b[32m887.5/887.5 MB\u001b[0m \u001b[31m781.7 kB/s\u001b[0m eta \u001b[36m0:00:00\u001b[0m\n",
            "\u001b[?25hCollecting torchvision<0.15.0 (from autogluon.multimodal==0.7.0->autogluon)\n",
            "  Downloading torchvision-0.14.1-cp310-cp310-manylinux1_x86_64.whl (24.2 MB)\n",
            "\u001b[2K     \u001b[90m━━━━━━━━━━━━━━━━━━━━━━━━━━━━━━━━━━━━━━━━\u001b[0m \u001b[32m24.2/24.2 MB\u001b[0m \u001b[31m39.2 MB/s\u001b[0m eta \u001b[36m0:00:00\u001b[0m\n",
            "\u001b[?25hCollecting fairscale<0.4.14,>=0.4.5 (from autogluon.multimodal==0.7.0->autogluon)\n",
            "  Downloading fairscale-0.4.13.tar.gz (266 kB)\n",
            "\u001b[2K     \u001b[90m━━━━━━━━━━━━━━━━━━━━━━━━━━━━━━━━━━━━━━\u001b[0m \u001b[32m266.3/266.3 kB\u001b[0m \u001b[31m26.1 MB/s\u001b[0m eta \u001b[36m0:00:00\u001b[0m\n",
            "\u001b[?25h  Installing build dependencies ... \u001b[?25l\u001b[?25hdone\n",
            "  Getting requirements to build wheel ... \u001b[?25l\u001b[?25hdone\n",
            "  Installing backend dependencies ... \u001b[?25l\u001b[?25hdone\n",
            "  Preparing metadata (pyproject.toml) ... \u001b[?25l\u001b[?25hdone\n",
            "Requirement already satisfied: scikit-image<0.20.0,>=0.19.1 in /usr/local/lib/python3.10/dist-packages (from autogluon.multimodal==0.7.0->autogluon) (0.19.3)\n",
            "Collecting pytorch-lightning<1.10.0,>=1.9.0 (from autogluon.multimodal==0.7.0->autogluon)\n",
            "  Downloading pytorch_lightning-1.9.5-py3-none-any.whl (829 kB)\n",
            "\u001b[2K     \u001b[90m━━━━━━━━━━━━━━━━━━━━━━━━━━━━━━━━━━━━━━\u001b[0m \u001b[32m829.5/829.5 kB\u001b[0m \u001b[31m51.8 MB/s\u001b[0m eta \u001b[36m0:00:00\u001b[0m\n",
            "\u001b[?25hRequirement already satisfied: text-unidecode<1.4,>=1.3 in /usr/local/lib/python3.10/dist-packages (from autogluon.multimodal==0.7.0->autogluon) (1.3)\n",
            "Collecting torchmetrics<0.9.0,>=0.8.0 (from autogluon.multimodal==0.7.0->autogluon)\n",
            "  Downloading torchmetrics-0.8.2-py3-none-any.whl (409 kB)\n",
            "\u001b[2K     \u001b[90m━━━━━━━━━━━━━━━━━━━━━━━━━━━━━━━━━━━━━━\u001b[0m \u001b[32m409.8/409.8 kB\u001b[0m \u001b[31m35.9 MB/s\u001b[0m eta \u001b[36m0:00:00\u001b[0m\n",
            "\u001b[?25hCollecting transformers<4.27.0,>=4.23.0 (from autogluon.multimodal==0.7.0->autogluon)\n",
            "  Downloading transformers-4.26.1-py3-none-any.whl (6.3 MB)\n",
            "\u001b[2K     \u001b[90m━━━━━━━━━━━━━━━━━━━━━━━━━━━━━━━━━━━━━━━━\u001b[0m \u001b[32m6.3/6.3 MB\u001b[0m \u001b[31m107.3 MB/s\u001b[0m eta \u001b[36m0:00:00\u001b[0m\n",
            "\u001b[?25hCollecting nptyping<2.5.0,>=1.4.4 (from autogluon.multimodal==0.7.0->autogluon)\n",
            "  Downloading nptyping-2.4.1-py3-none-any.whl (36 kB)\n",
            "Collecting omegaconf<2.3.0,>=2.1.1 (from autogluon.multimodal==0.7.0->autogluon)\n",
            "  Downloading omegaconf-2.2.3-py3-none-any.whl (79 kB)\n",
            "\u001b[2K     \u001b[90m━━━━━━━━━━━━━━━━━━━━━━━━━━━━━━━━━━━━━━━━\u001b[0m \u001b[32m79.3/79.3 kB\u001b[0m \u001b[31m10.4 MB/s\u001b[0m eta \u001b[36m0:00:00\u001b[0m\n",
            "\u001b[?25hCollecting sentencepiece<0.2.0,>=0.1.95 (from autogluon.multimodal==0.7.0->autogluon)\n",
            "  Downloading sentencepiece-0.1.99-cp310-cp310-manylinux_2_17_x86_64.manylinux2014_x86_64.whl (1.3 MB)\n",
            "\u001b[2K     \u001b[90m━━━━━━━━━━━━━━━━━━━━━━━━━━━━━━━━━━━━━━━━\u001b[0m \u001b[32m1.3/1.3 MB\u001b[0m \u001b[31m18.2 MB/s\u001b[0m eta \u001b[36m0:00:00\u001b[0m\n",
            "\u001b[?25hCollecting pytorch-metric-learning<2.0,>=1.3.0 (from autogluon.multimodal==0.7.0->autogluon)\n",
            "  Downloading pytorch_metric_learning-1.7.3-py3-none-any.whl (112 kB)\n",
            "\u001b[2K     \u001b[90m━━━━━━━━━━━━━━━━━━━━━━━━━━━━━━━━━━━━━━\u001b[0m \u001b[32m112.2/112.2 kB\u001b[0m \u001b[31m15.3 MB/s\u001b[0m eta \u001b[36m0:00:00\u001b[0m\n",
            "\u001b[?25hCollecting nlpaug<1.2.0,>=1.1.10 (from autogluon.multimodal==0.7.0->autogluon)\n",
            "  Downloading nlpaug-1.1.11-py3-none-any.whl (410 kB)\n",
            "\u001b[2K     \u001b[90m━━━━━━━━━━━━━━━━━━━━━━━━━━━━━━━━━━━━━━\u001b[0m \u001b[32m410.5/410.5 kB\u001b[0m \u001b[31m23.2 MB/s\u001b[0m eta \u001b[36m0:00:00\u001b[0m\n",
            "\u001b[?25hRequirement already satisfied: nltk<4.0.0,>=3.4.5 in /usr/local/lib/python3.10/dist-packages (from autogluon.multimodal==0.7.0->autogluon) (3.8.1)\n",
            "Collecting openmim<0.4.0,>0.1.5 (from autogluon.multimodal==0.7.0->autogluon)\n",
            "  Downloading openmim-0.3.7-py2.py3-none-any.whl (51 kB)\n",
            "\u001b[2K     \u001b[90m━━━━━━━━━━━━━━━━━━━━━━━━━━━━━━━━━━━━━━━━\u001b[0m \u001b[32m51.3/51.3 kB\u001b[0m \u001b[31m5.6 MB/s\u001b[0m eta \u001b[36m0:00:00\u001b[0m\n",
            "\u001b[?25hRequirement already satisfied: defusedxml<0.7.2,>=0.7.1 in /usr/local/lib/python3.10/dist-packages (from autogluon.multimodal==0.7.0->autogluon) (0.7.1)\n",
            "Requirement already satisfied: jinja2<3.2,>=3.0.3 in /usr/local/lib/python3.10/dist-packages (from autogluon.multimodal==0.7.0->autogluon) (3.1.2)\n",
            "Requirement already satisfied: tensorboard<3,>=2.9 in /usr/local/lib/python3.10/dist-packages (from autogluon.multimodal==0.7.0->autogluon) (2.12.2)\n",
            "Collecting pytesseract<0.3.11,>=0.3.9 (from autogluon.multimodal==0.7.0->autogluon)\n",
            "  Downloading pytesseract-0.3.10-py3-none-any.whl (14 kB)\n",
            "Collecting catboost<1.2,>=1.0 (from autogluon.tabular[all]==0.7.0->autogluon)\n",
            "  Downloading catboost-1.1.1-cp310-none-manylinux1_x86_64.whl (76.6 MB)\n",
            "\u001b[2K     \u001b[90m━━━━━━━━━━━━━━━━━━━━━━━━━━━━━━━━━━━━━━━━\u001b[0m \u001b[32m76.6/76.6 MB\u001b[0m \u001b[31m11.4 MB/s\u001b[0m eta \u001b[36m0:00:00\u001b[0m\n",
            "\u001b[?25hRequirement already satisfied: lightgbm<3.4,>=3.3 in /usr/local/lib/python3.10/dist-packages (from autogluon.tabular[all]==0.7.0->autogluon) (3.3.5)\n",
            "Requirement already satisfied: xgboost<1.8,>=1.6 in /usr/local/lib/python3.10/dist-packages (from autogluon.tabular[all]==0.7.0->autogluon) (1.7.5)\n",
            "Requirement already satisfied: fastai<2.8,>=2.3.1 in /usr/local/lib/python3.10/dist-packages (from autogluon.tabular[all]==0.7.0->autogluon) (2.7.12)\n",
            "Requirement already satisfied: joblib<2,>=1.1 in /usr/local/lib/python3.10/dist-packages (from autogluon.timeseries[all]==0.7.0->autogluon) (1.2.0)\n",
            "Requirement already satisfied: statsmodels<0.14,>=0.13.0 in /usr/local/lib/python3.10/dist-packages (from autogluon.timeseries[all]==0.7.0->autogluon) (0.13.5)\n",
            "Collecting gluonts<0.13,>=0.12.0 (from autogluon.timeseries[all]==0.7.0->autogluon)\n",
            "  Downloading gluonts-0.12.8-py3-none-any.whl (1.2 MB)\n",
            "\u001b[2K     \u001b[90m━━━━━━━━━━━━━━━━━━━━━━━━━━━━━━━━━━━━━━━━\u001b[0m \u001b[32m1.2/1.2 MB\u001b[0m \u001b[31m86.0 MB/s\u001b[0m eta \u001b[36m0:00:00\u001b[0m\n",
            "\u001b[?25hCollecting statsforecast<1.5,>=1.4.0 (from autogluon.timeseries[all]==0.7.0->autogluon)\n",
            "  Downloading statsforecast-1.4.0-py3-none-any.whl (91 kB)\n",
            "\u001b[2K     \u001b[90m━━━━━━━━━━━━━━━━━━━━━━━━━━━━━━━━━━━━━━━━\u001b[0m \u001b[32m92.0/92.0 kB\u001b[0m \u001b[31m13.7 MB/s\u001b[0m eta \u001b[36m0:00:00\u001b[0m\n",
            "\u001b[?25hCollecting ujson<6,>=5 (from autogluon.timeseries[all]==0.7.0->autogluon)\n",
            "  Downloading ujson-5.7.0-cp310-cp310-manylinux_2_17_x86_64.manylinux2014_x86_64.whl (52 kB)\n",
            "\u001b[2K     \u001b[90m━━━━━━━━━━━━━━━━━━━━━━━━━━━━━━━━━━━━━━━━\u001b[0m \u001b[32m52.8/52.8 kB\u001b[0m \u001b[31m7.8 MB/s\u001b[0m eta \u001b[36m0:00:00\u001b[0m\n",
            "\u001b[?25hCollecting sktime<0.16,>=0.14 (from autogluon.timeseries[all]==0.7.0->autogluon)\n",
            "  Downloading sktime-0.15.1-py3-none-any.whl (16.0 MB)\n",
            "\u001b[2K     \u001b[90m━━━━━━━━━━━━━━━━━━━━━━━━━━━━━━━━━━━━━━━━\u001b[0m \u001b[32m16.0/16.0 MB\u001b[0m \u001b[31m67.7 MB/s\u001b[0m eta \u001b[36m0:00:00\u001b[0m\n",
            "\u001b[?25hCollecting tbats<2,>=1.1 (from autogluon.timeseries[all]==0.7.0->autogluon)\n",
            "  Downloading tbats-1.1.3-py3-none-any.whl (44 kB)\n",
            "\u001b[2K     \u001b[90m━━━━━━━━━━━━━━━━━━━━━━━━━━━━━━━━━━━━━━━━\u001b[0m \u001b[32m44.0/44.0 kB\u001b[0m \u001b[31m6.5 MB/s\u001b[0m eta \u001b[36m0:00:00\u001b[0m\n",
            "\u001b[?25hCollecting pmdarima<1.9,>=1.8.2 (from autogluon.timeseries[all]==0.7.0->autogluon)\n",
            "  Downloading pmdarima-1.8.5-cp310-cp310-manylinux_2_17_x86_64.manylinux2014_x86_64.manylinux_2_24_x86_64.whl (1.4 MB)\n",
            "\u001b[2K     \u001b[90m━━━━━━━━━━━━━━━━━━━━━━━━━━━━━━━━━━━━━━━━\u001b[0m \u001b[32m1.4/1.4 MB\u001b[0m \u001b[31m94.1 MB/s\u001b[0m eta \u001b[36m0:00:00\u001b[0m\n",
            "\u001b[?25hRequirement already satisfied: psutil<6,>=5.7.3 in /usr/local/lib/python3.10/dist-packages (from autogluon.common==0.7.0->autogluon.core[all]==0.7.0->autogluon) (5.9.5)\n",
            "Requirement already satisfied: setuptools in /usr/local/lib/python3.10/dist-packages (from autogluon.common==0.7.0->autogluon.core[all]==0.7.0->autogluon) (67.7.2)\n",
            "Requirement already satisfied: packaging>=20.0 in /usr/local/lib/python3.10/dist-packages (from accelerate<0.17,>=0.9->autogluon.multimodal==0.7.0->autogluon) (23.1)\n",
            "Requirement already satisfied: pyyaml in /usr/local/lib/python3.10/dist-packages (from accelerate<0.17,>=0.9->autogluon.multimodal==0.7.0->autogluon) (6.0)\n",
            "Collecting botocore<1.30.0,>=1.29.135 (from boto3<2,>=1.10->autogluon.core[all]==0.7.0->autogluon)\n",
            "  Downloading botocore-1.29.135-py3-none-any.whl (10.7 MB)\n",
            "\u001b[2K     \u001b[90m━━━━━━━━━━━━━━━━━━━━━━━━━━━━━━━━━━━━━━━━\u001b[0m \u001b[32m10.7/10.7 MB\u001b[0m \u001b[31m94.4 MB/s\u001b[0m eta \u001b[36m0:00:00\u001b[0m\n",
            "\u001b[?25hCollecting jmespath<2.0.0,>=0.7.1 (from boto3<2,>=1.10->autogluon.core[all]==0.7.0->autogluon)\n",
            "  Downloading jmespath-1.0.1-py3-none-any.whl (20 kB)\n",
            "Collecting s3transfer<0.7.0,>=0.6.0 (from boto3<2,>=1.10->autogluon.core[all]==0.7.0->autogluon)\n",
            "  Downloading s3transfer-0.6.1-py3-none-any.whl (79 kB)\n",
            "\u001b[2K     \u001b[90m━━━━━━━━━━━━━━━━━━━━━━━━━━━━━━━━━━━━━━━━\u001b[0m \u001b[32m79.8/79.8 kB\u001b[0m \u001b[31m11.1 MB/s\u001b[0m eta \u001b[36m0:00:00\u001b[0m\n",
            "\u001b[?25hRequirement already satisfied: graphviz in /usr/local/lib/python3.10/dist-packages (from catboost<1.2,>=1.0->autogluon.tabular[all]==0.7.0->autogluon) (0.20.1)\n",
            "Requirement already satisfied: plotly in /usr/local/lib/python3.10/dist-packages (from catboost<1.2,>=1.0->autogluon.tabular[all]==0.7.0->autogluon) (5.13.1)\n",
            "Requirement already satisfied: six in /usr/local/lib/python3.10/dist-packages (from catboost<1.2,>=1.0->autogluon.tabular[all]==0.7.0->autogluon) (1.16.0)\n",
            "Collecting datasets>=2.0.0 (from evaluate<0.4.0,>=0.2.2->autogluon.multimodal==0.7.0->autogluon)\n",
            "  Downloading datasets-2.12.0-py3-none-any.whl (474 kB)\n",
            "\u001b[2K     \u001b[90m━━━━━━━━━━━━━━━━━━━━━━━━━━━━━━━━━━━━━━\u001b[0m \u001b[32m474.6/474.6 kB\u001b[0m \u001b[31m54.8 MB/s\u001b[0m eta \u001b[36m0:00:00\u001b[0m\n",
            "\u001b[?25hCollecting dill (from evaluate<0.4.0,>=0.2.2->autogluon.multimodal==0.7.0->autogluon)\n",
            "  Downloading dill-0.3.6-py3-none-any.whl (110 kB)\n",
            "\u001b[2K     \u001b[90m━━━━━━━━━━━━━━━━━━━━━━━━━━━━━━━━━━━━━━\u001b[0m \u001b[32m110.5/110.5 kB\u001b[0m \u001b[31m16.5 MB/s\u001b[0m eta \u001b[36m0:00:00\u001b[0m\n",
            "\u001b[?25hCollecting xxhash (from evaluate<0.4.0,>=0.2.2->autogluon.multimodal==0.7.0->autogluon)\n",
            "  Downloading xxhash-3.2.0-cp310-cp310-manylinux_2_17_x86_64.manylinux2014_x86_64.whl (212 kB)\n",
            "\u001b[2K     \u001b[90m━━━━━━━━━━━━━━━━━━━━━━━━━━━━━━━━━━━━━━\u001b[0m \u001b[32m212.5/212.5 kB\u001b[0m \u001b[31m27.4 MB/s\u001b[0m eta \u001b[36m0:00:00\u001b[0m\n",
            "\u001b[?25hCollecting multiprocess (from evaluate<0.4.0,>=0.2.2->autogluon.multimodal==0.7.0->autogluon)\n",
            "  Downloading multiprocess-0.70.14-py310-none-any.whl (134 kB)\n",
            "\u001b[2K     \u001b[90m━━━━━━━━━━━━━━━━━━━━━━━━━━━━━━━━━━━━━━\u001b[0m \u001b[32m134.3/134.3 kB\u001b[0m \u001b[31m18.6 MB/s\u001b[0m eta \u001b[36m0:00:00\u001b[0m\n",
            "\u001b[?25hRequirement already satisfied: fsspec[http]>=2021.05.0 in /usr/local/lib/python3.10/dist-packages (from evaluate<0.4.0,>=0.2.2->autogluon.multimodal==0.7.0->autogluon) (2023.4.0)\n",
            "Collecting huggingface-hub>=0.7.0 (from evaluate<0.4.0,>=0.2.2->autogluon.multimodal==0.7.0->autogluon)\n",
            "  Downloading huggingface_hub-0.14.1-py3-none-any.whl (224 kB)\n",
            "\u001b[2K     \u001b[90m━━━━━━━━━━━━━━━━━━━━━━━━━━━━━━━━━━━━━━\u001b[0m \u001b[32m224.5/224.5 kB\u001b[0m \u001b[31m30.5 MB/s\u001b[0m eta \u001b[36m0:00:00\u001b[0m\n",
            "\u001b[?25hCollecting responses<0.19 (from evaluate<0.4.0,>=0.2.2->autogluon.multimodal==0.7.0->autogluon)\n",
            "  Downloading responses-0.18.0-py3-none-any.whl (38 kB)\n",
            "Requirement already satisfied: pip in /usr/local/lib/python3.10/dist-packages (from fastai<2.8,>=2.3.1->autogluon.tabular[all]==0.7.0->autogluon) (23.1.2)\n",
            "Requirement already satisfied: fastdownload<2,>=0.0.5 in /usr/local/lib/python3.10/dist-packages (from fastai<2.8,>=2.3.1->autogluon.tabular[all]==0.7.0->autogluon) (0.0.7)\n",
            "Requirement already satisfied: fastcore<1.6,>=1.5.29 in /usr/local/lib/python3.10/dist-packages (from fastai<2.8,>=2.3.1->autogluon.tabular[all]==0.7.0->autogluon) (1.5.29)\n",
            "Requirement already satisfied: fastprogress>=0.2.4 in /usr/local/lib/python3.10/dist-packages (from fastai<2.8,>=2.3.1->autogluon.tabular[all]==0.7.0->autogluon) (1.0.3)\n",
            "Requirement already satisfied: spacy<4 in /usr/local/lib/python3.10/dist-packages (from fastai<2.8,>=2.3.1->autogluon.tabular[all]==0.7.0->autogluon) (3.5.2)\n",
            "Requirement already satisfied: pydantic~=1.7 in /usr/local/lib/python3.10/dist-packages (from gluonts<0.13,>=0.12.0->autogluon.timeseries[all]==0.7.0->autogluon) (1.10.7)\n",
            "Requirement already satisfied: toolz~=0.10 in /usr/local/lib/python3.10/dist-packages (from gluonts<0.13,>=0.12.0->autogluon.timeseries[all]==0.7.0->autogluon) (0.12.0)\n",
            "Requirement already satisfied: typing-extensions~=4.0 in /usr/local/lib/python3.10/dist-packages (from gluonts<0.13,>=0.12.0->autogluon.timeseries[all]==0.7.0->autogluon) (4.5.0)\n",
            "Requirement already satisfied: future in /usr/local/lib/python3.10/dist-packages (from hyperopt<0.2.8,>=0.2.7->autogluon.core[all]==0.7.0->autogluon) (0.18.3)\n",
            "Requirement already satisfied: cloudpickle in /usr/local/lib/python3.10/dist-packages (from hyperopt<0.2.8,>=0.2.7->autogluon.core[all]==0.7.0->autogluon) (2.2.1)\n",
            "Requirement already satisfied: py4j in /usr/local/lib/python3.10/dist-packages (from hyperopt<0.2.8,>=0.2.7->autogluon.core[all]==0.7.0->autogluon) (0.10.9.7)\n",
            "Requirement already satisfied: MarkupSafe>=2.0 in /usr/local/lib/python3.10/dist-packages (from jinja2<3.2,>=3.0.3->autogluon.multimodal==0.7.0->autogluon) (2.1.2)\n",
            "Requirement already satisfied: attrs>=17.4.0 in /usr/local/lib/python3.10/dist-packages (from jsonschema<4.18,>=4.14->autogluon.multimodal==0.7.0->autogluon) (23.1.0)\n",
            "Requirement already satisfied: pyrsistent!=0.17.0,!=0.17.1,!=0.17.2,>=0.14.0 in /usr/local/lib/python3.10/dist-packages (from jsonschema<4.18,>=4.14->autogluon.multimodal==0.7.0->autogluon) (0.19.3)\n",
            "Requirement already satisfied: wheel in /usr/local/lib/python3.10/dist-packages (from lightgbm<3.4,>=3.3->autogluon.tabular[all]==0.7.0->autogluon) (0.40.0)\n",
            "Requirement already satisfied: gdown>=4.0.0 in /usr/local/lib/python3.10/dist-packages (from nlpaug<1.2.0,>=1.1.10->autogluon.multimodal==0.7.0->autogluon) (4.6.6)\n",
            "Requirement already satisfied: click in /usr/local/lib/python3.10/dist-packages (from nltk<4.0.0,>=3.4.5->autogluon.multimodal==0.7.0->autogluon) (8.1.3)\n",
            "Requirement already satisfied: regex>=2021.8.3 in /usr/local/lib/python3.10/dist-packages (from nltk<4.0.0,>=3.4.5->autogluon.multimodal==0.7.0->autogluon) (2022.10.31)\n",
            "Collecting antlr4-python3-runtime==4.9.* (from omegaconf<2.3.0,>=2.1.1->autogluon.multimodal==0.7.0->autogluon)\n",
            "  Downloading antlr4-python3-runtime-4.9.3.tar.gz (117 kB)\n",
            "\u001b[2K     \u001b[90m━━━━━━━━━━━━━━━━━━━━━━━━━━━━━━━━━━━━━━\u001b[0m \u001b[32m117.0/117.0 kB\u001b[0m \u001b[31m14.4 MB/s\u001b[0m eta \u001b[36m0:00:00\u001b[0m\n",
            "\u001b[?25h  Preparing metadata (setup.py) ... \u001b[?25l\u001b[?25hdone\n",
            "Collecting colorama (from openmim<0.4.0,>0.1.5->autogluon.multimodal==0.7.0->autogluon)\n",
            "  Downloading colorama-0.4.6-py2.py3-none-any.whl (25 kB)\n",
            "Collecting model-index (from openmim<0.4.0,>0.1.5->autogluon.multimodal==0.7.0->autogluon)\n",
            "  Downloading model_index-0.1.11-py3-none-any.whl (34 kB)\n",
            "Requirement already satisfied: rich in /usr/local/lib/python3.10/dist-packages (from openmim<0.4.0,>0.1.5->autogluon.multimodal==0.7.0->autogluon) (13.3.4)\n",
            "Requirement already satisfied: tabulate in /usr/local/lib/python3.10/dist-packages (from openmim<0.4.0,>0.1.5->autogluon.multimodal==0.7.0->autogluon) (0.8.10)\n",
            "Requirement already satisfied: python-dateutil>=2.8.1 in /usr/local/lib/python3.10/dist-packages (from pandas<1.6,>=1.4.1->autogluon.core[all]==0.7.0->autogluon) (2.8.2)\n",
            "Requirement already satisfied: pytz>=2020.1 in /usr/local/lib/python3.10/dist-packages (from pandas<1.6,>=1.4.1->autogluon.core[all]==0.7.0->autogluon) (2022.7.1)\n",
            "Requirement already satisfied: Cython!=0.29.18,>=0.29 in /usr/local/lib/python3.10/dist-packages (from pmdarima<1.9,>=1.8.2->autogluon.timeseries[all]==0.7.0->autogluon) (0.29.34)\n",
            "Requirement already satisfied: urllib3 in /usr/local/lib/python3.10/dist-packages (from pmdarima<1.9,>=1.8.2->autogluon.timeseries[all]==0.7.0->autogluon) (1.26.15)\n",
            "Collecting lightning-utilities>=0.6.0.post0 (from pytorch-lightning<1.10.0,>=1.9.0->autogluon.multimodal==0.7.0->autogluon)\n",
            "  Downloading lightning_utilities-0.8.0-py3-none-any.whl (20 kB)\n",
            "Requirement already satisfied: filelock in /usr/local/lib/python3.10/dist-packages (from ray[tune]<2.3,>=2.2->autogluon.core[all]==0.7.0->autogluon) (3.12.0)\n",
            "Requirement already satisfied: msgpack<2.0.0,>=1.0.0 in /usr/local/lib/python3.10/dist-packages (from ray[tune]<2.3,>=2.2->autogluon.core[all]==0.7.0->autogluon) (1.0.5)\n",
            "Requirement already satisfied: protobuf!=3.19.5,>=3.15.3 in /usr/local/lib/python3.10/dist-packages (from ray[tune]<2.3,>=2.2->autogluon.core[all]==0.7.0->autogluon) (3.20.3)\n",
            "Collecting aiosignal (from ray[tune]<2.3,>=2.2->autogluon.core[all]==0.7.0->autogluon)\n",
            "  Downloading aiosignal-1.3.1-py3-none-any.whl (7.6 kB)\n",
            "Collecting frozenlist (from ray[tune]<2.3,>=2.2->autogluon.core[all]==0.7.0->autogluon)\n",
            "  Downloading frozenlist-1.3.3-cp310-cp310-manylinux_2_5_x86_64.manylinux1_x86_64.manylinux_2_17_x86_64.manylinux2014_x86_64.whl (149 kB)\n",
            "\u001b[2K     \u001b[90m━━━━━━━━━━━━━━━━━━━━━━━━━━━━━━━━━━━━━━\u001b[0m \u001b[32m149.6/149.6 kB\u001b[0m \u001b[31m19.6 MB/s\u001b[0m eta \u001b[36m0:00:00\u001b[0m\n",
            "\u001b[?25hCollecting virtualenv>=20.0.24 (from ray[tune]<2.3,>=2.2->autogluon.core[all]==0.7.0->autogluon)\n",
            "  Downloading virtualenv-20.23.0-py3-none-any.whl (3.3 MB)\n",
            "\u001b[2K     \u001b[90m━━━━━━━━━━━━━━━━━━━━━━━━━━━━━━━━━━━━━━━━\u001b[0m \u001b[32m3.3/3.3 MB\u001b[0m \u001b[31m122.9 MB/s\u001b[0m eta \u001b[36m0:00:00\u001b[0m\n",
            "\u001b[?25hRequirement already satisfied: grpcio>=1.42.0 in /usr/local/lib/python3.10/dist-packages (from ray[tune]<2.3,>=2.2->autogluon.core[all]==0.7.0->autogluon) (1.54.0)\n",
            "Collecting tensorboardX>=1.9 (from ray[tune]<2.3,>=2.2->autogluon.core[all]==0.7.0->autogluon)\n",
            "  Downloading tensorboardX-2.6-py2.py3-none-any.whl (114 kB)\n",
            "\u001b[2K     \u001b[90m━━━━━━━━━━━━━━━━━━━━━━━━━━━━━━━━━━━━━━\u001b[0m \u001b[32m114.5/114.5 kB\u001b[0m \u001b[31m14.9 MB/s\u001b[0m eta \u001b[36m0:00:00\u001b[0m\n",
            "\u001b[?25hRequirement already satisfied: certifi>=2017.4.17 in /usr/local/lib/python3.10/dist-packages (from requests->autogluon.core[all]==0.7.0->autogluon) (2022.12.7)\n",
            "Requirement already satisfied: charset-normalizer~=2.0.0 in /usr/local/lib/python3.10/dist-packages (from requests->autogluon.core[all]==0.7.0->autogluon) (2.0.12)\n",
            "Requirement already satisfied: idna<4,>=2.5 in /usr/local/lib/python3.10/dist-packages (from requests->autogluon.core[all]==0.7.0->autogluon) (3.4)\n",
            "Requirement already satisfied: imageio>=2.4.1 in /usr/local/lib/python3.10/dist-packages (from scikit-image<0.20.0,>=0.19.1->autogluon.multimodal==0.7.0->autogluon) (2.25.1)\n",
            "Requirement already satisfied: tifffile>=2019.7.26 in /usr/local/lib/python3.10/dist-packages (from scikit-image<0.20.0,>=0.19.1->autogluon.multimodal==0.7.0->autogluon) (2023.4.12)\n",
            "Requirement already satisfied: PyWavelets>=1.1.1 in /usr/local/lib/python3.10/dist-packages (from scikit-image<0.20.0,>=0.19.1->autogluon.multimodal==0.7.0->autogluon) (1.4.1)\n",
            "Requirement already satisfied: threadpoolctl>=2.0.0 in /usr/local/lib/python3.10/dist-packages (from scikit-learn<1.3,>=1.0->autogluon.core[all]==0.7.0->autogluon) (3.1.0)\n",
            "Collecting deprecated>=1.2.13 (from sktime<0.16,>=0.14->autogluon.timeseries[all]==0.7.0->autogluon)\n",
            "  Downloading Deprecated-1.2.13-py2.py3-none-any.whl (9.6 kB)\n",
            "Requirement already satisfied: numba>=0.55 in /usr/local/lib/python3.10/dist-packages (from sktime<0.16,>=0.14->autogluon.timeseries[all]==0.7.0->autogluon) (0.56.4)\n",
            "Requirement already satisfied: patsy>=0.5.2 in /usr/local/lib/python3.10/dist-packages (from statsmodels<0.14,>=0.13.0->autogluon.timeseries[all]==0.7.0->autogluon) (0.5.3)\n",
            "Requirement already satisfied: absl-py>=0.4 in /usr/local/lib/python3.10/dist-packages (from tensorboard<3,>=2.9->autogluon.multimodal==0.7.0->autogluon) (1.4.0)\n",
            "Requirement already satisfied: google-auth<3,>=1.6.3 in /usr/local/lib/python3.10/dist-packages (from tensorboard<3,>=2.9->autogluon.multimodal==0.7.0->autogluon) (2.17.3)\n",
            "Requirement already satisfied: google-auth-oauthlib<1.1,>=0.5 in /usr/local/lib/python3.10/dist-packages (from tensorboard<3,>=2.9->autogluon.multimodal==0.7.0->autogluon) (1.0.0)\n",
            "Requirement already satisfied: markdown>=2.6.8 in /usr/local/lib/python3.10/dist-packages (from tensorboard<3,>=2.9->autogluon.multimodal==0.7.0->autogluon) (3.4.3)\n",
            "Requirement already satisfied: tensorboard-data-server<0.8.0,>=0.7.0 in /usr/local/lib/python3.10/dist-packages (from tensorboard<3,>=2.9->autogluon.multimodal==0.7.0->autogluon) (0.7.0)\n",
            "Requirement already satisfied: tensorboard-plugin-wit>=1.6.0 in /usr/local/lib/python3.10/dist-packages (from tensorboard<3,>=2.9->autogluon.multimodal==0.7.0->autogluon) (1.8.1)\n",
            "Requirement already satisfied: werkzeug>=1.0.1 in /usr/local/lib/python3.10/dist-packages (from tensorboard<3,>=2.9->autogluon.multimodal==0.7.0->autogluon) (2.3.0)\n",
            "Collecting nvidia-cuda-runtime-cu11==11.7.99 (from torch<1.14,>=1.9->autogluon.multimodal==0.7.0->autogluon)\n",
            "  Downloading nvidia_cuda_runtime_cu11-11.7.99-py3-none-manylinux1_x86_64.whl (849 kB)\n",
            "\u001b[2K     \u001b[90m━━━━━━━━━━━━━━━━━━━━━━━━━━━━━━━━━━━━━━\u001b[0m \u001b[32m849.3/849.3 kB\u001b[0m \u001b[31m71.4 MB/s\u001b[0m eta \u001b[36m0:00:00\u001b[0m\n",
            "\u001b[?25hCollecting nvidia-cudnn-cu11==8.5.0.96 (from torch<1.14,>=1.9->autogluon.multimodal==0.7.0->autogluon)\n",
            "  Downloading nvidia_cudnn_cu11-8.5.0.96-2-py3-none-manylinux1_x86_64.whl (557.1 MB)\n",
            "\u001b[2K     \u001b[90m━━━━━━━━━━━━━━━━━━━━━━━━━━━━━━━━━━━━━━━\u001b[0m \u001b[32m557.1/557.1 MB\u001b[0m \u001b[31m3.1 MB/s\u001b[0m eta \u001b[36m0:00:00\u001b[0m\n",
            "\u001b[?25hCollecting nvidia-cublas-cu11==11.10.3.66 (from torch<1.14,>=1.9->autogluon.multimodal==0.7.0->autogluon)\n",
            "  Downloading nvidia_cublas_cu11-11.10.3.66-py3-none-manylinux1_x86_64.whl (317.1 MB)\n",
            "\u001b[2K     \u001b[90m━━━━━━━━━━━━━━━━━━━━━━━━━━━━━━━━━━━━━━━\u001b[0m \u001b[32m317.1/317.1 MB\u001b[0m \u001b[31m4.8 MB/s\u001b[0m eta \u001b[36m0:00:00\u001b[0m\n",
            "\u001b[?25hCollecting nvidia-cuda-nvrtc-cu11==11.7.99 (from torch<1.14,>=1.9->autogluon.multimodal==0.7.0->autogluon)\n",
            "  Downloading nvidia_cuda_nvrtc_cu11-11.7.99-2-py3-none-manylinux1_x86_64.whl (21.0 MB)\n",
            "\u001b[2K     \u001b[90m━━━━━━━━━━━━━━━━━━━━━━━━━━━━━━━━━━━━━━━━\u001b[0m \u001b[32m21.0/21.0 MB\u001b[0m \u001b[31m65.5 MB/s\u001b[0m eta \u001b[36m0:00:00\u001b[0m\n",
            "\u001b[?25hCollecting pyDeprecate==0.3.* (from torchmetrics<0.9.0,>=0.8.0->autogluon.multimodal==0.7.0->autogluon)\n",
            "  Downloading pyDeprecate-0.3.2-py3-none-any.whl (10 kB)\n",
            "Collecting tokenizers!=0.11.3,<0.14,>=0.11.1 (from transformers<4.27.0,>=4.23.0->autogluon.multimodal==0.7.0->autogluon)\n",
            "  Downloading tokenizers-0.13.3-cp310-cp310-manylinux_2_17_x86_64.manylinux2014_x86_64.whl (7.8 MB)\n",
            "\u001b[2K     \u001b[90m━━━━━━━━━━━━━━━━━━━━━━━━━━━━━━━━━━━━━━━━\u001b[0m \u001b[32m7.8/7.8 MB\u001b[0m \u001b[31m125.8 MB/s\u001b[0m eta \u001b[36m0:00:00\u001b[0m\n",
            "\u001b[?25hRequirement already satisfied: contourpy>=1.0.1 in /usr/local/lib/python3.10/dist-packages (from matplotlib->autogluon.core[all]==0.7.0->autogluon) (1.0.7)\n",
            "Requirement already satisfied: cycler>=0.10 in /usr/local/lib/python3.10/dist-packages (from matplotlib->autogluon.core[all]==0.7.0->autogluon) (0.11.0)\n",
            "Requirement already satisfied: fonttools>=4.22.0 in /usr/local/lib/python3.10/dist-packages (from matplotlib->autogluon.core[all]==0.7.0->autogluon) (4.39.3)\n",
            "Requirement already satisfied: kiwisolver>=1.0.1 in /usr/local/lib/python3.10/dist-packages (from matplotlib->autogluon.core[all]==0.7.0->autogluon) (1.4.4)\n",
            "Requirement already satisfied: pyparsing>=2.3.1 in /usr/local/lib/python3.10/dist-packages (from matplotlib->autogluon.core[all]==0.7.0->autogluon) (3.0.9)\n",
            "Requirement already satisfied: pyarrow>=8.0.0 in /usr/local/lib/python3.10/dist-packages (from datasets>=2.0.0->evaluate<0.4.0,>=0.2.2->autogluon.multimodal==0.7.0->autogluon) (9.0.0)\n",
            "Collecting aiohttp (from datasets>=2.0.0->evaluate<0.4.0,>=0.2.2->autogluon.multimodal==0.7.0->autogluon)\n",
            "  Downloading aiohttp-3.8.4-cp310-cp310-manylinux_2_17_x86_64.manylinux2014_x86_64.whl (1.0 MB)\n",
            "\u001b[2K     \u001b[90m━━━━━━━━━━━━━━━━━━━━━━━━━━━━━━━━━━━━━━━━\u001b[0m \u001b[32m1.0/1.0 MB\u001b[0m \u001b[31m79.6 MB/s\u001b[0m eta \u001b[36m0:00:00\u001b[0m\n",
            "\u001b[?25hRequirement already satisfied: wrapt<2,>=1.10 in /usr/local/lib/python3.10/dist-packages (from deprecated>=1.2.13->sktime<0.16,>=0.14->autogluon.timeseries[all]==0.7.0->autogluon) (1.14.1)\n",
            "Requirement already satisfied: beautifulsoup4 in /usr/local/lib/python3.10/dist-packages (from gdown>=4.0.0->nlpaug<1.2.0,>=1.1.10->autogluon.multimodal==0.7.0->autogluon) (4.11.2)\n",
            "Requirement already satisfied: cachetools<6.0,>=2.0.0 in /usr/local/lib/python3.10/dist-packages (from google-auth<3,>=1.6.3->tensorboard<3,>=2.9->autogluon.multimodal==0.7.0->autogluon) (5.3.0)\n",
            "Requirement already satisfied: pyasn1-modules>=0.2.1 in /usr/local/lib/python3.10/dist-packages (from google-auth<3,>=1.6.3->tensorboard<3,>=2.9->autogluon.multimodal==0.7.0->autogluon) (0.3.0)\n",
            "Requirement already satisfied: rsa<5,>=3.1.4 in /usr/local/lib/python3.10/dist-packages (from google-auth<3,>=1.6.3->tensorboard<3,>=2.9->autogluon.multimodal==0.7.0->autogluon) (4.9)\n",
            "Requirement already satisfied: requests-oauthlib>=0.7.0 in /usr/local/lib/python3.10/dist-packages (from google-auth-oauthlib<1.1,>=0.5->tensorboard<3,>=2.9->autogluon.multimodal==0.7.0->autogluon) (1.3.1)\n",
            "Requirement already satisfied: llvmlite<0.40,>=0.39.0dev0 in /usr/local/lib/python3.10/dist-packages (from numba>=0.55->sktime<0.16,>=0.14->autogluon.timeseries[all]==0.7.0->autogluon) (0.39.1)\n",
            "Requirement already satisfied: spacy-legacy<3.1.0,>=3.0.11 in /usr/local/lib/python3.10/dist-packages (from spacy<4->fastai<2.8,>=2.3.1->autogluon.tabular[all]==0.7.0->autogluon) (3.0.12)\n",
            "Requirement already satisfied: spacy-loggers<2.0.0,>=1.0.0 in /usr/local/lib/python3.10/dist-packages (from spacy<4->fastai<2.8,>=2.3.1->autogluon.tabular[all]==0.7.0->autogluon) (1.0.4)\n",
            "Requirement already satisfied: murmurhash<1.1.0,>=0.28.0 in /usr/local/lib/python3.10/dist-packages (from spacy<4->fastai<2.8,>=2.3.1->autogluon.tabular[all]==0.7.0->autogluon) (1.0.9)\n",
            "Requirement already satisfied: cymem<2.1.0,>=2.0.2 in /usr/local/lib/python3.10/dist-packages (from spacy<4->fastai<2.8,>=2.3.1->autogluon.tabular[all]==0.7.0->autogluon) (2.0.7)\n",
            "Requirement already satisfied: preshed<3.1.0,>=3.0.2 in /usr/local/lib/python3.10/dist-packages (from spacy<4->fastai<2.8,>=2.3.1->autogluon.tabular[all]==0.7.0->autogluon) (3.0.8)\n",
            "Requirement already satisfied: thinc<8.2.0,>=8.1.8 in /usr/local/lib/python3.10/dist-packages (from spacy<4->fastai<2.8,>=2.3.1->autogluon.tabular[all]==0.7.0->autogluon) (8.1.9)\n",
            "Requirement already satisfied: wasabi<1.2.0,>=0.9.1 in /usr/local/lib/python3.10/dist-packages (from spacy<4->fastai<2.8,>=2.3.1->autogluon.tabular[all]==0.7.0->autogluon) (1.1.1)\n",
            "Requirement already satisfied: srsly<3.0.0,>=2.4.3 in /usr/local/lib/python3.10/dist-packages (from spacy<4->fastai<2.8,>=2.3.1->autogluon.tabular[all]==0.7.0->autogluon) (2.4.6)\n",
            "Requirement already satisfied: catalogue<2.1.0,>=2.0.6 in /usr/local/lib/python3.10/dist-packages (from spacy<4->fastai<2.8,>=2.3.1->autogluon.tabular[all]==0.7.0->autogluon) (2.0.8)\n",
            "Requirement already satisfied: typer<0.8.0,>=0.3.0 in /usr/local/lib/python3.10/dist-packages (from spacy<4->fastai<2.8,>=2.3.1->autogluon.tabular[all]==0.7.0->autogluon) (0.7.0)\n",
            "Requirement already satisfied: pathy>=0.10.0 in /usr/local/lib/python3.10/dist-packages (from spacy<4->fastai<2.8,>=2.3.1->autogluon.tabular[all]==0.7.0->autogluon) (0.10.1)\n",
            "Requirement already satisfied: smart-open<7.0.0,>=5.2.1 in /usr/local/lib/python3.10/dist-packages (from spacy<4->fastai<2.8,>=2.3.1->autogluon.tabular[all]==0.7.0->autogluon) (6.3.0)\n",
            "Requirement already satisfied: langcodes<4.0.0,>=3.2.0 in /usr/local/lib/python3.10/dist-packages (from spacy<4->fastai<2.8,>=2.3.1->autogluon.tabular[all]==0.7.0->autogluon) (3.3.0)\n",
            "Collecting distlib<1,>=0.3.6 (from virtualenv>=20.0.24->ray[tune]<2.3,>=2.2->autogluon.core[all]==0.7.0->autogluon)\n",
            "  Downloading distlib-0.3.6-py2.py3-none-any.whl (468 kB)\n",
            "\u001b[2K     \u001b[90m━━━━━━━━━━━━━━━━━━━━━━━━━━━━━━━━━━━━━━\u001b[0m \u001b[32m468.5/468.5 kB\u001b[0m \u001b[31m51.6 MB/s\u001b[0m eta \u001b[36m0:00:00\u001b[0m\n",
            "\u001b[?25hRequirement already satisfied: platformdirs<4,>=3.2 in /usr/local/lib/python3.10/dist-packages (from virtualenv>=20.0.24->ray[tune]<2.3,>=2.2->autogluon.core[all]==0.7.0->autogluon) (3.3.0)\n",
            "Collecting ordered-set (from model-index->openmim<0.4.0,>0.1.5->autogluon.multimodal==0.7.0->autogluon)\n",
            "  Downloading ordered_set-4.1.0-py3-none-any.whl (7.6 kB)\n",
            "Requirement already satisfied: tenacity>=6.2.0 in /usr/local/lib/python3.10/dist-packages (from plotly->catboost<1.2,>=1.0->autogluon.tabular[all]==0.7.0->autogluon) (8.2.2)\n",
            "Requirement already satisfied: markdown-it-py<3.0.0,>=2.2.0 in /usr/local/lib/python3.10/dist-packages (from rich->openmim<0.4.0,>0.1.5->autogluon.multimodal==0.7.0->autogluon) (2.2.0)\n",
            "Requirement already satisfied: pygments<3.0.0,>=2.13.0 in /usr/local/lib/python3.10/dist-packages (from rich->openmim<0.4.0,>0.1.5->autogluon.multimodal==0.7.0->autogluon) (2.14.0)\n",
            "Collecting multidict<7.0,>=4.5 (from aiohttp->datasets>=2.0.0->evaluate<0.4.0,>=0.2.2->autogluon.multimodal==0.7.0->autogluon)\n",
            "  Downloading multidict-6.0.4-cp310-cp310-manylinux_2_17_x86_64.manylinux2014_x86_64.whl (114 kB)\n",
            "\u001b[2K     \u001b[90m━━━━━━━━━━━━━━━━━━━━━━━━━━━━━━━━━━━━━━\u001b[0m \u001b[32m114.5/114.5 kB\u001b[0m \u001b[31m15.1 MB/s\u001b[0m eta \u001b[36m0:00:00\u001b[0m\n",
            "\u001b[?25hCollecting async-timeout<5.0,>=4.0.0a3 (from aiohttp->datasets>=2.0.0->evaluate<0.4.0,>=0.2.2->autogluon.multimodal==0.7.0->autogluon)\n",
            "  Downloading async_timeout-4.0.2-py3-none-any.whl (5.8 kB)\n",
            "Collecting yarl<2.0,>=1.0 (from aiohttp->datasets>=2.0.0->evaluate<0.4.0,>=0.2.2->autogluon.multimodal==0.7.0->autogluon)\n",
            "  Downloading yarl-1.9.2-cp310-cp310-manylinux_2_17_x86_64.manylinux2014_x86_64.whl (268 kB)\n",
            "\u001b[2K     \u001b[90m━━━━━━━━━━━━━━━━━━━━━━━━━━━━━━━━━━━━━━\u001b[0m \u001b[32m268.8/268.8 kB\u001b[0m \u001b[31m32.8 MB/s\u001b[0m eta \u001b[36m0:00:00\u001b[0m\n",
            "\u001b[?25hRequirement already satisfied: mdurl~=0.1 in /usr/local/lib/python3.10/dist-packages (from markdown-it-py<3.0.0,>=2.2.0->rich->openmim<0.4.0,>0.1.5->autogluon.multimodal==0.7.0->autogluon) (0.1.2)\n",
            "Requirement already satisfied: pyasn1<0.6.0,>=0.4.6 in /usr/local/lib/python3.10/dist-packages (from pyasn1-modules>=0.2.1->google-auth<3,>=1.6.3->tensorboard<3,>=2.9->autogluon.multimodal==0.7.0->autogluon) (0.5.0)\n",
            "Requirement already satisfied: oauthlib>=3.0.0 in /usr/local/lib/python3.10/dist-packages (from requests-oauthlib>=0.7.0->google-auth-oauthlib<1.1,>=0.5->tensorboard<3,>=2.9->autogluon.multimodal==0.7.0->autogluon) (3.2.2)\n",
            "Requirement already satisfied: blis<0.8.0,>=0.7.8 in /usr/local/lib/python3.10/dist-packages (from thinc<8.2.0,>=8.1.8->spacy<4->fastai<2.8,>=2.3.1->autogluon.tabular[all]==0.7.0->autogluon) (0.7.9)\n",
            "Requirement already satisfied: confection<1.0.0,>=0.0.1 in /usr/local/lib/python3.10/dist-packages (from thinc<8.2.0,>=8.1.8->spacy<4->fastai<2.8,>=2.3.1->autogluon.tabular[all]==0.7.0->autogluon) (0.0.4)\n",
            "Requirement already satisfied: soupsieve>1.2 in /usr/local/lib/python3.10/dist-packages (from beautifulsoup4->gdown>=4.0.0->nlpaug<1.2.0,>=1.1.10->autogluon.multimodal==0.7.0->autogluon) (2.4.1)\n",
            "Requirement already satisfied: PySocks!=1.5.7,>=1.5.6 in /usr/local/lib/python3.10/dist-packages (from requests->autogluon.core[all]==0.7.0->autogluon) (1.7.1)\n",
            "Building wheels for collected packages: fairscale, antlr4-python3-runtime, seqeval\n",
            "  Building wheel for fairscale (pyproject.toml) ... \u001b[?25l\u001b[?25hdone\n",
            "  Created wheel for fairscale: filename=fairscale-0.4.13-py3-none-any.whl size=332112 sha256=c7fdfce559c2c6ba3d1dd408033af489e425c26b698fc06a8ec4900095c466f3\n",
            "  Stored in directory: /root/.cache/pip/wheels/78/a4/c0/fb0a7ef03cff161611c3fa40c6cf898f76e58ec421b88e8cb3\n",
            "  Building wheel for antlr4-python3-runtime (setup.py) ... \u001b[?25l\u001b[?25hdone\n",
            "  Created wheel for antlr4-python3-runtime: filename=antlr4_python3_runtime-4.9.3-py3-none-any.whl size=144554 sha256=4a27ff45fd46af2600ed4147814d2fa7d211b3923c6cd349fb16baf45560d8a7\n",
            "  Stored in directory: /root/.cache/pip/wheels/12/93/dd/1f6a127edc45659556564c5730f6d4e300888f4bca2d4c5a88\n",
            "  Building wheel for seqeval (setup.py) ... \u001b[?25l\u001b[?25hdone\n",
            "  Created wheel for seqeval: filename=seqeval-1.2.2-py3-none-any.whl size=16165 sha256=b0c398fe95e4d6196a23f5f5ed56606cb4e0544121794c1f9d5aad5d6d01dab6\n",
            "  Stored in directory: /root/.cache/pip/wheels/1a/67/4a/ad4082dd7dfc30f2abfe4d80a2ed5926a506eb8a972b4767fa\n",
            "Successfully built fairscale antlr4-python3-runtime seqeval\n",
            "Installing collected packages: tokenizers, sentencepiece, distlib, antlr4-python3-runtime, xxhash, virtualenv, ujson, tensorboardX, pyDeprecate, Pillow, ordered-set, omegaconf, nvidia-cuda-runtime-cu11, nvidia-cuda-nvrtc-cu11, nvidia-cublas-cu11, nptyping, networkx, multidict, lightning-utilities, jsonschema, jmespath, frozenlist, dill, deprecated, colorama, async-timeout, yarl, responses, pytesseract, nvidia-cudnn-cu11, multiprocess, model-index, huggingface-hub, botocore, aiosignal, transformers, torch, seqeval, s3transfer, ray, openmim, gluonts, catboost, aiohttp, torchvision, torchmetrics, statsforecast, sktime, pytorch-metric-learning, pmdarima, nlpaug, fairscale, boto3, accelerate, timm, tbats, pytorch-lightning, datasets, autogluon.common, evaluate, autogluon.features, autogluon.core, autogluon.tabular, autogluon.multimodal, autogluon.timeseries, autogluon\n",
            "  Attempting uninstall: Pillow\n",
            "    Found existing installation: Pillow 8.4.0\n",
            "    Uninstalling Pillow-8.4.0:\n",
            "      Successfully uninstalled Pillow-8.4.0\n",
            "  Attempting uninstall: networkx\n",
            "    Found existing installation: networkx 3.1\n",
            "    Uninstalling networkx-3.1:\n",
            "      Successfully uninstalled networkx-3.1\n",
            "  Attempting uninstall: jsonschema\n",
            "    Found existing installation: jsonschema 4.3.3\n",
            "    Uninstalling jsonschema-4.3.3:\n",
            "      Successfully uninstalled jsonschema-4.3.3\n",
            "  Attempting uninstall: torch\n",
            "    Found existing installation: torch 2.0.0+cu118\n",
            "    Uninstalling torch-2.0.0+cu118:\n",
            "      Successfully uninstalled torch-2.0.0+cu118\n",
            "  Attempting uninstall: torchvision\n",
            "    Found existing installation: torchvision 0.15.1+cu118\n",
            "    Uninstalling torchvision-0.15.1+cu118:\n",
            "      Successfully uninstalled torchvision-0.15.1+cu118\n",
            "\u001b[31mERROR: pip's dependency resolver does not currently take into account all the packages that are installed. This behaviour is the source of the following dependency conflicts.\n",
            "torchaudio 2.0.1+cu118 requires torch==2.0.0, but you have torch 1.13.1 which is incompatible.\n",
            "torchdata 0.6.0 requires torch==2.0.0, but you have torch 1.13.1 which is incompatible.\n",
            "torchtext 0.15.1 requires torch==2.0.0, but you have torch 1.13.1 which is incompatible.\u001b[0m\u001b[31m\n",
            "\u001b[0mSuccessfully installed Pillow-9.5.0 accelerate-0.16.0 aiohttp-3.8.4 aiosignal-1.3.1 antlr4-python3-runtime-4.9.3 async-timeout-4.0.2 autogluon-0.7.0 autogluon.common-0.7.0 autogluon.core-0.7.0 autogluon.features-0.7.0 autogluon.multimodal-0.7.0 autogluon.tabular-0.7.0 autogluon.timeseries-0.7.0 boto3-1.26.135 botocore-1.29.135 catboost-1.1.1 colorama-0.4.6 datasets-2.12.0 deprecated-1.2.13 dill-0.3.6 distlib-0.3.6 evaluate-0.3.0 fairscale-0.4.13 frozenlist-1.3.3 gluonts-0.12.8 huggingface-hub-0.14.1 jmespath-1.0.1 jsonschema-4.17.3 lightning-utilities-0.8.0 model-index-0.1.11 multidict-6.0.4 multiprocess-0.70.14 networkx-2.8.8 nlpaug-1.1.11 nptyping-2.4.1 nvidia-cublas-cu11-11.10.3.66 nvidia-cuda-nvrtc-cu11-11.7.99 nvidia-cuda-runtime-cu11-11.7.99 nvidia-cudnn-cu11-8.5.0.96 omegaconf-2.2.3 openmim-0.3.7 ordered-set-4.1.0 pmdarima-1.8.5 pyDeprecate-0.3.2 pytesseract-0.3.10 pytorch-lightning-1.9.5 pytorch-metric-learning-1.7.3 ray-2.2.0 responses-0.18.0 s3transfer-0.6.1 sentencepiece-0.1.99 seqeval-1.2.2 sktime-0.15.1 statsforecast-1.4.0 tbats-1.1.3 tensorboardX-2.6 timm-0.6.13 tokenizers-0.13.3 torch-1.13.1 torchmetrics-0.8.2 torchvision-0.14.1 transformers-4.26.1 ujson-5.7.0 virtualenv-20.23.0 xxhash-3.2.0 yarl-1.9.2\n"
          ]
        },
        {
          "output_type": "display_data",
          "data": {
            "application/vnd.colab-display-data+json": {
              "pip_warning": {
                "packages": [
                  "PIL",
                  "pydevd_plugins"
                ]
              }
            }
          },
          "metadata": {}
        }
      ],
      "source": [
        "!pip install autogluon"
      ]
    },
    {
      "cell_type": "code",
      "execution_count": null,
      "metadata": {
        "id": "oWNfuXHFeaFr"
      },
      "outputs": [],
      "source": [
        "from autogluon.tabular import TabularPredictor"
      ]
    },
    {
      "cell_type": "code",
      "execution_count": null,
      "metadata": {
        "id": "oOhlavHvjMeO",
        "colab": {
          "base_uri": "https://localhost:8080/"
        },
        "outputId": "e929ed68-8888-4de3-fa82-ac9409a7ba94"
      },
      "outputs": [
        {
          "output_type": "execute_result",
          "data": {
            "text/plain": [
              "((35432, 23), (35432,))"
            ]
          },
          "metadata": {},
          "execution_count": 110
        }
      ],
      "source": [
        "X_train.shape, y_train.shape"
      ]
    },
    {
      "cell_type": "code",
      "execution_count": null,
      "metadata": {
        "id": "j3uwMFU-jQN4",
        "colab": {
          "base_uri": "https://localhost:8080/"
        },
        "outputId": "c6a8b86e-e875-4514-81af-06e041fcfe7b"
      },
      "outputs": [
        {
          "output_type": "execute_result",
          "data": {
            "text/plain": [
              "((35432, 24), (8858, 24), (8858, 23), (8858,))"
            ]
          },
          "metadata": {},
          "execution_count": 111
        }
      ],
      "source": [
        "train_autgluon, val_autogluon = train_test_split(train_model_clean, test_size=0.2, random_state=42)\n",
        "X_val_autogluon = val_autogluon.drop(['damage_grade'], axis=1, inplace=False)\n",
        "y_val_autogluon = val_autogluon['damage_grade']\n",
        "train_autgluon.shape, val_autogluon.shape, X_val_autogluon.shape, y_val_autogluon.shape"
      ]
    },
    {
      "cell_type": "code",
      "execution_count": null,
      "metadata": {
        "id": "Uz_XVmFHfMnP",
        "colab": {
          "base_uri": "https://localhost:8080/"
        },
        "outputId": "e7049f59-6173-4bce-a51d-689cd8e47a28"
      },
      "outputs": [
        {
          "output_type": "stream",
          "name": "stderr",
          "text": [
            "No path specified. Models will be saved in: \"AutogluonModels/ag-20230516_194402/\"\n",
            "Presets specified: ['best_quality']\n",
            "============ fit kwarg info ============\n",
            "User Specified kwargs:\n",
            "{'auto_stack': True, 'excluded_model_types': ['FASTAI']}\n",
            "Full kwargs:\n",
            "{'_feature_generator_kwargs': None,\n",
            " '_save_bag_folds': None,\n",
            " 'ag_args': None,\n",
            " 'ag_args_ensemble': None,\n",
            " 'ag_args_fit': None,\n",
            " 'auto_stack': True,\n",
            " 'calibrate': 'auto',\n",
            " 'excluded_model_types': ['FASTAI'],\n",
            " 'feature_generator': 'auto',\n",
            " 'feature_prune_kwargs': None,\n",
            " 'holdout_frac': None,\n",
            " 'hyperparameter_tune_kwargs': None,\n",
            " 'keep_only_best': False,\n",
            " 'name_suffix': None,\n",
            " 'num_bag_folds': None,\n",
            " 'num_bag_sets': None,\n",
            " 'num_stack_levels': None,\n",
            " 'pseudo_data': None,\n",
            " 'refit_full': False,\n",
            " 'save_space': False,\n",
            " 'set_best_to_refit_full': False,\n",
            " 'unlabeled_data': None,\n",
            " 'use_bag_holdout': False,\n",
            " 'verbosity': 3}\n",
            "========================================\n",
            "Stack configuration (auto_stack=True): num_stack_levels=1, num_bag_folds=8, num_bag_sets=20\n",
            "Saving AutogluonModels/ag-20230516_194402/learner.pkl\n",
            "Saving AutogluonModels/ag-20230516_194402/predictor.pkl\n",
            "Beginning AutoGluon training ... Time limit = 600s\n",
            "AutoGluon will save models to \"AutogluonModels/ag-20230516_194402/\"\n",
            "AutoGluon Version:  0.7.0\n",
            "Python Version:     3.10.11\n",
            "Operating System:   Linux\n",
            "Platform Machine:   x86_64\n",
            "Platform Version:   #1 SMP Sat Apr 29 09:15:28 UTC 2023\n",
            "Train Data Rows:    35432\n",
            "Train Data Columns: 23\n",
            "Label Column: damage_grade\n",
            "Preprocessing data ...\n",
            "Train Data Class Count: 5\n",
            "Using Feature Generators to preprocess the data ...\n",
            "Fitting AutoMLPipelineFeatureGenerator...\n",
            "\tAvailable Memory:                    10577.35 MB\n",
            "\tTrain Data (Original)  Memory Usage: 37.25 MB (0.4% of available memory)\n",
            "\tInferring data type of each feature based on column values. Set feature_metadata_in to manually specify special dtypes of the features.\n",
            "\tStage 1 Generators:\n",
            "\t\tFitting AsTypeFeatureGenerator...\n",
            "\t\t\tNote: Converting 2 features to boolean dtype as they only contain 2 unique values.\n",
            "\t\t\tOriginal Features (exact raw dtype, raw dtype):\n",
            "\t\t\t\t('float64', 'float') :  9 | ['floors_before_eq (total)', 'old_building', 'plinth_area (ft^2)', 'height_before_eq (ft)', 'has_secondary_use', ...]\n",
            "\t\t\t\t('object', 'object') : 14 | ['land_surface_condition', 'type_of_foundation', 'type_of_roof', 'type_of_ground_floor', 'type_of_other_floor', ...]\n",
            "\t\t\tTypes of features in original data (raw dtype, special dtypes):\n",
            "\t\t\t\t('float', [])  :  9 | ['floors_before_eq (total)', 'old_building', 'plinth_area (ft^2)', 'height_before_eq (ft)', 'has_secondary_use', ...]\n",
            "\t\t\t\t('object', []) : 14 | ['land_surface_condition', 'type_of_foundation', 'type_of_roof', 'type_of_ground_floor', 'type_of_other_floor', ...]\n",
            "\t\t\tTypes of features in processed data (raw dtype, special dtypes):\n",
            "\t\t\t\t('float', [])     :  8 | ['floors_before_eq (total)', 'old_building', 'plinth_area (ft^2)', 'height_before_eq (ft)', 'type_of_reinforcement_concrete', ...]\n",
            "\t\t\t\t('int', ['bool']) :  2 | ['has_secondary_use', 'flexible_superstructure']\n",
            "\t\t\t\t('object', [])    : 13 | ['land_surface_condition', 'type_of_foundation', 'type_of_roof', 'type_of_ground_floor', 'type_of_other_floor', ...]\n",
            "\t\t\t0.1s = Fit runtime\n",
            "\t\t\t23 features in original data used to generate 23 features in processed data.\n",
            "\tStage 2 Generators:\n",
            "\t\tFitting FillNaFeatureGenerator...\n",
            "\t\t\tTypes of features in original data (raw dtype, special dtypes):\n",
            "\t\t\t\t('float', [])     :  8 | ['floors_before_eq (total)', 'old_building', 'plinth_area (ft^2)', 'height_before_eq (ft)', 'type_of_reinforcement_concrete', ...]\n",
            "\t\t\t\t('int', ['bool']) :  2 | ['has_secondary_use', 'flexible_superstructure']\n",
            "\t\t\t\t('object', [])    : 13 | ['land_surface_condition', 'type_of_foundation', 'type_of_roof', 'type_of_ground_floor', 'type_of_other_floor', ...]\n",
            "\t\t\tTypes of features in processed data (raw dtype, special dtypes):\n",
            "\t\t\t\t('float', [])     :  8 | ['floors_before_eq (total)', 'old_building', 'plinth_area (ft^2)', 'height_before_eq (ft)', 'type_of_reinforcement_concrete', ...]\n",
            "\t\t\t\t('int', ['bool']) :  2 | ['has_secondary_use', 'flexible_superstructure']\n",
            "\t\t\t\t('object', [])    : 13 | ['land_surface_condition', 'type_of_foundation', 'type_of_roof', 'type_of_ground_floor', 'type_of_other_floor', ...]\n",
            "\t\t\t0.0s = Fit runtime\n",
            "\t\t\t23 features in original data used to generate 23 features in processed data.\n",
            "\tStage 3 Generators:\n",
            "\t\tFitting IdentityFeatureGenerator...\n",
            "\t\t\tTypes of features in original data (raw dtype, special dtypes):\n",
            "\t\t\t\t('float', [])     : 8 | ['floors_before_eq (total)', 'old_building', 'plinth_area (ft^2)', 'height_before_eq (ft)', 'type_of_reinforcement_concrete', ...]\n",
            "\t\t\t\t('int', ['bool']) : 2 | ['has_secondary_use', 'flexible_superstructure']\n",
            "\t\t\tTypes of features in processed data (raw dtype, special dtypes):\n",
            "\t\t\t\t('float', [])     : 8 | ['floors_before_eq (total)', 'old_building', 'plinth_area (ft^2)', 'height_before_eq (ft)', 'type_of_reinforcement_concrete', ...]\n",
            "\t\t\t\t('int', ['bool']) : 2 | ['has_secondary_use', 'flexible_superstructure']\n",
            "\t\t\t0.0s = Fit runtime\n",
            "\t\t\t10 features in original data used to generate 10 features in processed data.\n",
            "\t\tFitting CategoryFeatureGenerator...\n",
            "\t\t\tFitting CategoryMemoryMinimizeFeatureGenerator...\n",
            "\t\t\t\tTypes of features in original data (raw dtype, special dtypes):\n",
            "\t\t\t\t\t('category', []) : 13 | ['land_surface_condition', 'type_of_foundation', 'type_of_roof', 'type_of_ground_floor', 'type_of_other_floor', ...]\n",
            "\t\t\t\tTypes of features in processed data (raw dtype, special dtypes):\n",
            "\t\t\t\t\t('category', []) : 13 | ['land_surface_condition', 'type_of_foundation', 'type_of_roof', 'type_of_ground_floor', 'type_of_other_floor', ...]\n",
            "\t\t\t\t0.0s = Fit runtime\n",
            "\t\t\t\t13 features in original data used to generate 13 features in processed data.\n",
            "\t\t\tTypes of features in original data (raw dtype, special dtypes):\n",
            "\t\t\t\t('object', []) : 13 | ['land_surface_condition', 'type_of_foundation', 'type_of_roof', 'type_of_ground_floor', 'type_of_other_floor', ...]\n",
            "\t\t\tTypes of features in processed data (raw dtype, special dtypes):\n",
            "\t\t\t\t('category', []) : 13 | ['land_surface_condition', 'type_of_foundation', 'type_of_roof', 'type_of_ground_floor', 'type_of_other_floor', ...]\n",
            "\t\t\t0.1s = Fit runtime\n",
            "\t\t\t13 features in original data used to generate 13 features in processed data.\n",
            "\t\tSkipping DatetimeFeatureGenerator: No input feature with required dtypes.\n",
            "\t\tSkipping TextSpecialFeatureGenerator: No input feature with required dtypes.\n",
            "\t\tSkipping TextNgramFeatureGenerator: No input feature with required dtypes.\n",
            "\t\tSkipping IdentityFeatureGenerator: No input feature with required dtypes.\n",
            "\t\tSkipping IsNanFeatureGenerator: No input feature with required dtypes.\n",
            "\tStage 4 Generators:\n",
            "\t\tFitting DropUniqueFeatureGenerator...\n",
            "\t\t\tTypes of features in original data (raw dtype, special dtypes):\n",
            "\t\t\t\t('category', [])  : 13 | ['land_surface_condition', 'type_of_foundation', 'type_of_roof', 'type_of_ground_floor', 'type_of_other_floor', ...]\n",
            "\t\t\t\t('float', [])     :  8 | ['floors_before_eq (total)', 'old_building', 'plinth_area (ft^2)', 'height_before_eq (ft)', 'type_of_reinforcement_concrete', ...]\n",
            "\t\t\t\t('int', ['bool']) :  2 | ['has_secondary_use', 'flexible_superstructure']\n",
            "\t\t\tTypes of features in processed data (raw dtype, special dtypes):\n",
            "\t\t\t\t('category', [])  : 13 | ['land_surface_condition', 'type_of_foundation', 'type_of_roof', 'type_of_ground_floor', 'type_of_other_floor', ...]\n",
            "\t\t\t\t('float', [])     :  8 | ['floors_before_eq (total)', 'old_building', 'plinth_area (ft^2)', 'height_before_eq (ft)', 'type_of_reinforcement_concrete', ...]\n",
            "\t\t\t\t('int', ['bool']) :  2 | ['has_secondary_use', 'flexible_superstructure']\n",
            "\t\t\t0.0s = Fit runtime\n",
            "\t\t\t23 features in original data used to generate 23 features in processed data.\n",
            "\tTypes of features in original data (exact raw dtype, raw dtype):\n",
            "\t\t('float64', 'float') :  9 | ['floors_before_eq (total)', 'old_building', 'plinth_area (ft^2)', 'height_before_eq (ft)', 'has_secondary_use', ...]\n",
            "\t\t('object', 'object') : 14 | ['land_surface_condition', 'type_of_foundation', 'type_of_roof', 'type_of_ground_floor', 'type_of_other_floor', ...]\n",
            "\tTypes of features in original data (raw dtype, special dtypes):\n",
            "\t\t('float', [])  :  9 | ['floors_before_eq (total)', 'old_building', 'plinth_area (ft^2)', 'height_before_eq (ft)', 'has_secondary_use', ...]\n",
            "\t\t('object', []) : 14 | ['land_surface_condition', 'type_of_foundation', 'type_of_roof', 'type_of_ground_floor', 'type_of_other_floor', ...]\n",
            "\tTypes of features in processed data (exact raw dtype, raw dtype):\n",
            "\t\t('category', 'category') : 13 | ['land_surface_condition', 'type_of_foundation', 'type_of_roof', 'type_of_ground_floor', 'type_of_other_floor', ...]\n",
            "\t\t('float64', 'float')     :  8 | ['floors_before_eq (total)', 'old_building', 'plinth_area (ft^2)', 'height_before_eq (ft)', 'type_of_reinforcement_concrete', ...]\n",
            "\t\t('int8', 'int')          :  2 | ['has_secondary_use', 'flexible_superstructure']\n",
            "\tTypes of features in processed data (raw dtype, special dtypes):\n",
            "\t\t('category', [])  : 13 | ['land_surface_condition', 'type_of_foundation', 'type_of_roof', 'type_of_ground_floor', 'type_of_other_floor', ...]\n",
            "\t\t('float', [])     :  8 | ['floors_before_eq (total)', 'old_building', 'plinth_area (ft^2)', 'height_before_eq (ft)', 'type_of_reinforcement_concrete', ...]\n",
            "\t\t('int', ['bool']) :  2 | ['has_secondary_use', 'flexible_superstructure']\n",
            "\t0.5s = Fit runtime\n",
            "\t23 features in original data used to generate 23 features in processed data.\n",
            "\tTrain Data (Processed) Memory Usage: 2.8 MB (0.0% of available memory)\n",
            "Data preprocessing and feature engineering runtime = 0.6s ...\n",
            "AutoGluon will gauge predictive performance using evaluation metric: 'accuracy'\n",
            "\tTo change this, specify the eval_metric parameter of Predictor()\n",
            "Saving AutogluonModels/ag-20230516_194402/learner.pkl\n",
            "Saving AutogluonModels/ag-20230516_194402/utils/data/X.pkl\n",
            "Saving AutogluonModels/ag-20230516_194402/utils/data/y.pkl\n",
            "AutoGluon will fit 2 stack levels (L1 to L2) ...\n",
            "Excluded Model Types: ['FASTAI']\n",
            "\tFound 'FASTAI' model in hyperparameters, but 'FASTAI' is present in `excluded_model_types` and will be removed.\n",
            "Model configs that will be trained (in order):\n",
            "\tLightGBMXT_BAG_L1: \t{'extra_trees': True, 'ag_args': {'name_suffix': 'XT', 'model_type': <class 'autogluon.tabular.models.lgb.lgb_model.LGBModel'>, 'priority': 90}}\n",
            "\tLightGBM_BAG_L1: \t{'ag_args': {'model_type': <class 'autogluon.tabular.models.lgb.lgb_model.LGBModel'>, 'priority': 90}}\n",
            "\tCatBoost_BAG_L1: \t{'ag_args': {'model_type': <class 'autogluon.tabular.models.catboost.catboost_model.CatBoostModel'>, 'priority': 70}}\n",
            "\tXGBoost_BAG_L1: \t{'ag_args': {'model_type': <class 'autogluon.tabular.models.xgboost.xgboost_model.XGBoostModel'>, 'priority': 40}}\n",
            "\tNeuralNetTorch_BAG_L1: \t{'ag_args': {'model_type': <class 'autogluon.tabular.models.tabular_nn.torch.tabular_nn_torch.TabularNeuralNetTorchModel'>, 'priority': 25}}\n",
            "\tLightGBMLarge_BAG_L1: \t{'learning_rate': 0.03, 'num_leaves': 128, 'feature_fraction': 0.9, 'min_data_in_leaf': 3, 'ag_args': {'model_type': <class 'autogluon.tabular.models.lgb.lgb_model.LGBModel'>, 'name_suffix': 'Large', 'hyperparameter_tune_kwargs': None, 'priority': 0}}\n",
            "Fitting 6 L1 models ...\n",
            "Fitting model: LightGBMXT_BAG_L1 ... Training model for up to 399.5s of the 599.38s of remaining time.\n",
            "\tFitting LightGBMXT_BAG_L1 with 'num_gpus': 0, 'num_cpus': 2\n",
            "Saving AutogluonModels/ag-20230516_194402/models/LightGBMXT_BAG_L1/utils/model_template.pkl\n",
            "Loading: AutogluonModels/ag-20230516_194402/models/LightGBMXT_BAG_L1/utils/model_template.pkl\n",
            "\tFitting 8 child models (S1F1 - S1F8) | Fitting with ParallelLocalFoldFittingStrategy\n",
            "Saving AutogluonModels/ag-20230516_194402/models/LightGBMXT_BAG_L1/utils/oof.pkl\n",
            "Saving AutogluonModels/ag-20230516_194402/models/LightGBMXT_BAG_L1/model.pkl\n",
            "\t0.6675\t = Validation score   (accuracy)\n",
            "\t84.17s\t = Training   runtime\n",
            "\t2.29s\t = Validation runtime\n",
            "Saving AutogluonModels/ag-20230516_194402/models/trainer.pkl\n",
            "Fitting model: LightGBM_BAG_L1 ... Training model for up to 305.95s of the 505.84s of remaining time.\n",
            "\tFitting LightGBM_BAG_L1 with 'num_gpus': 0, 'num_cpus': 2\n",
            "Saving AutogluonModels/ag-20230516_194402/models/LightGBM_BAG_L1/utils/model_template.pkl\n",
            "Loading: AutogluonModels/ag-20230516_194402/models/LightGBM_BAG_L1/utils/model_template.pkl\n",
            "\tFitting 8 child models (S1F1 - S1F8) | Fitting with ParallelLocalFoldFittingStrategy\n",
            "Saving AutogluonModels/ag-20230516_194402/models/LightGBM_BAG_L1/utils/oof.pkl\n",
            "Saving AutogluonModels/ag-20230516_194402/models/LightGBM_BAG_L1/model.pkl\n",
            "\t0.6682\t = Validation score   (accuracy)\n",
            "\t56.82s\t = Training   runtime\n",
            "\t2.43s\t = Validation runtime\n",
            "Saving AutogluonModels/ag-20230516_194402/models/trainer.pkl\n",
            "Fitting model: CatBoost_BAG_L1 ... Training model for up to 235.05s of the 434.94s of remaining time.\n",
            "\tFitting CatBoost_BAG_L1 with 'num_gpus': 0, 'num_cpus': 2\n",
            "Saving AutogluonModels/ag-20230516_194402/models/CatBoost_BAG_L1/utils/model_template.pkl\n",
            "Loading: AutogluonModels/ag-20230516_194402/models/CatBoost_BAG_L1/utils/model_template.pkl\n",
            "\tFitting 8 child models (S1F1 - S1F8) | Fitting with ParallelLocalFoldFittingStrategy\n",
            "Saving AutogluonModels/ag-20230516_194402/models/CatBoost_BAG_L1/utils/oof.pkl\n",
            "Saving AutogluonModels/ag-20230516_194402/models/CatBoost_BAG_L1/model.pkl\n",
            "\t0.6598\t = Validation score   (accuracy)\n",
            "\t197.85s\t = Training   runtime\n",
            "\t0.59s\t = Validation runtime\n",
            "Saving AutogluonModels/ag-20230516_194402/models/trainer.pkl\n",
            "Fitting model: XGBoost_BAG_L1 ... Training model for up to 33.36s of the 233.24s of remaining time.\n",
            "\tFitting XGBoost_BAG_L1 with 'num_gpus': 0, 'num_cpus': 2\n",
            "Saving AutogluonModels/ag-20230516_194402/models/XGBoost_BAG_L1/utils/model_template.pkl\n",
            "Loading: AutogluonModels/ag-20230516_194402/models/XGBoost_BAG_L1/utils/model_template.pkl\n",
            "\tFitting 8 child models (S1F1 - S1F8) | Fitting with ParallelLocalFoldFittingStrategy\n",
            "Saving AutogluonModels/ag-20230516_194402/models/XGBoost_BAG_L1/utils/oof.pkl\n",
            "Saving AutogluonModels/ag-20230516_194402/models/XGBoost_BAG_L1/model.pkl\n",
            "\t0.6663\t = Validation score   (accuracy)\n",
            "\t43.41s\t = Training   runtime\n",
            "\t0.78s\t = Validation runtime\n",
            "Saving AutogluonModels/ag-20230516_194402/models/trainer.pkl\n",
            "Skipping NeuralNetTorch_BAG_L1 due to lack of time remaining.\n",
            "Saving AutogluonModels/ag-20230516_194402/models/trainer.pkl\n",
            "Skipping LightGBMLarge_BAG_L1 due to lack of time remaining.\n",
            "Saving AutogluonModels/ag-20230516_194402/models/trainer.pkl\n",
            "Not enough time left to finish repeated k-fold bagging, stopping early ...\n",
            "Completed 1/20 k-fold bagging repeats ...\n",
            "Loading: AutogluonModels/ag-20230516_194402/models/LightGBMXT_BAG_L1/utils/oof.pkl\n",
            "Loading: AutogluonModels/ag-20230516_194402/models/LightGBM_BAG_L1/utils/oof.pkl\n",
            "Loading: AutogluonModels/ag-20230516_194402/models/CatBoost_BAG_L1/utils/oof.pkl\n",
            "Loading: AutogluonModels/ag-20230516_194402/models/XGBoost_BAG_L1/utils/oof.pkl\n",
            "Model configs that will be trained (in order):\n",
            "\tWeightedEnsemble_L2: \t{'ag_args': {'valid_base': False, 'name_bag_suffix': '', 'model_type': <class 'autogluon.core.models.greedy_ensemble.greedy_weighted_ensemble_model.GreedyWeightedEnsembleModel'>, 'priority': 0}, 'ag_args_ensemble': {'save_bag_folds': True}}\n",
            "Fitting model: WeightedEnsemble_L2 ... Training model for up to 360.0s of the 185.27s of remaining time.\n",
            "\tFitting WeightedEnsemble_L2 with 'num_gpus': 0, 'num_cpus': 2\n",
            "Saving AutogluonModels/ag-20230516_194402/models/WeightedEnsemble_L2/utils/model_template.pkl\n",
            "Loading: AutogluonModels/ag-20230516_194402/models/WeightedEnsemble_L2/utils/model_template.pkl\n",
            "Ensemble size: 1\n",
            "Ensemble weights: \n",
            "[0. 1. 0. 0.]\n",
            "\t0.1s\t= Estimated out-of-fold prediction time...\n",
            "Saving AutogluonModels/ag-20230516_194402/models/WeightedEnsemble_L2/utils/oof.pkl\n",
            "Saving AutogluonModels/ag-20230516_194402/models/WeightedEnsemble_L2/model.pkl\n",
            "\t0.6682\t = Validation score   (accuracy)\n",
            "\t2.77s\t = Training   runtime\n",
            "\t0.01s\t = Validation runtime\n",
            "Saving AutogluonModels/ag-20230516_194402/models/trainer.pkl\n",
            "Excluded Model Types: ['FASTAI']\n",
            "\tFound 'FASTAI' model in hyperparameters, but 'FASTAI' is present in `excluded_model_types` and will be removed.\n",
            "Model configs that will be trained (in order):\n",
            "\tLightGBMXT_BAG_L2: \t{'extra_trees': True, 'ag_args': {'name_suffix': 'XT', 'model_type': <class 'autogluon.tabular.models.lgb.lgb_model.LGBModel'>, 'priority': 90}}\n",
            "\tLightGBM_BAG_L2: \t{'ag_args': {'model_type': <class 'autogluon.tabular.models.lgb.lgb_model.LGBModel'>, 'priority': 90}}\n",
            "\tCatBoost_BAG_L2: \t{'ag_args': {'model_type': <class 'autogluon.tabular.models.catboost.catboost_model.CatBoostModel'>, 'priority': 70}}\n",
            "\tXGBoost_BAG_L2: \t{'ag_args': {'model_type': <class 'autogluon.tabular.models.xgboost.xgboost_model.XGBoostModel'>, 'priority': 40}}\n",
            "\tNeuralNetTorch_BAG_L2: \t{'ag_args': {'model_type': <class 'autogluon.tabular.models.tabular_nn.torch.tabular_nn_torch.TabularNeuralNetTorchModel'>, 'priority': 25}}\n",
            "\tLightGBMLarge_BAG_L2: \t{'learning_rate': 0.03, 'num_leaves': 128, 'feature_fraction': 0.9, 'min_data_in_leaf': 3, 'ag_args': {'model_type': <class 'autogluon.tabular.models.lgb.lgb_model.LGBModel'>, 'name_suffix': 'Large', 'hyperparameter_tune_kwargs': None, 'priority': 0}}\n",
            "Fitting 6 L2 models ...\n",
            "Loading: AutogluonModels/ag-20230516_194402/models/LightGBMXT_BAG_L1/utils/oof.pkl\n",
            "Loading: AutogluonModels/ag-20230516_194402/models/LightGBM_BAG_L1/utils/oof.pkl\n",
            "Loading: AutogluonModels/ag-20230516_194402/models/CatBoost_BAG_L1/utils/oof.pkl\n",
            "Loading: AutogluonModels/ag-20230516_194402/models/XGBoost_BAG_L1/utils/oof.pkl\n",
            "Fitting model: LightGBMXT_BAG_L2 ... Training model for up to 182.45s of the 182.39s of remaining time.\n",
            "\tFitting LightGBMXT_BAG_L2 with 'num_gpus': 0, 'num_cpus': 2\n",
            "Saving AutogluonModels/ag-20230516_194402/models/LightGBMXT_BAG_L2/utils/model_template.pkl\n",
            "Loading: AutogluonModels/ag-20230516_194402/models/LightGBMXT_BAG_L2/utils/model_template.pkl\n",
            "\tFitting 8 child models (S1F1 - S1F8) | Fitting with ParallelLocalFoldFittingStrategy\n",
            "Saving AutogluonModels/ag-20230516_194402/models/LightGBMXT_BAG_L2/utils/oof.pkl\n",
            "Saving AutogluonModels/ag-20230516_194402/models/LightGBMXT_BAG_L2/model.pkl\n",
            "\t0.6678\t = Validation score   (accuracy)\n",
            "\t68.23s\t = Training   runtime\n",
            "\t2.52s\t = Validation runtime\n",
            "Saving AutogluonModels/ag-20230516_194402/models/trainer.pkl\n",
            "Fitting model: LightGBM_BAG_L2 ... Training model for up to 110.91s of the 110.86s of remaining time.\n",
            "\tFitting LightGBM_BAG_L2 with 'num_gpus': 0, 'num_cpus': 2\n",
            "Saving AutogluonModels/ag-20230516_194402/models/LightGBM_BAG_L2/utils/model_template.pkl\n",
            "Loading: AutogluonModels/ag-20230516_194402/models/LightGBM_BAG_L2/utils/model_template.pkl\n",
            "\tFitting 8 child models (S1F1 - S1F8) | Fitting with ParallelLocalFoldFittingStrategy\n",
            "Saving AutogluonModels/ag-20230516_194402/models/LightGBM_BAG_L2/utils/oof.pkl\n",
            "Saving AutogluonModels/ag-20230516_194402/models/LightGBM_BAG_L2/model.pkl\n",
            "\t0.6678\t = Validation score   (accuracy)\n",
            "\t64.17s\t = Training   runtime\n",
            "\t1.71s\t = Validation runtime\n",
            "Saving AutogluonModels/ag-20230516_194402/models/trainer.pkl\n",
            "Fitting model: CatBoost_BAG_L2 ... Training model for up to 43.19s of the 43.13s of remaining time.\n",
            "\tFitting CatBoost_BAG_L2 with 'num_gpus': 0, 'num_cpus': 2\n",
            "Saving AutogluonModels/ag-20230516_194402/models/CatBoost_BAG_L2/utils/model_template.pkl\n",
            "Loading: AutogluonModels/ag-20230516_194402/models/CatBoost_BAG_L2/utils/model_template.pkl\n",
            "\tFitting 8 child models (S1F1 - S1F8) | Fitting with ParallelLocalFoldFittingStrategy\n",
            "Saving AutogluonModels/ag-20230516_194402/models/CatBoost_BAG_L2/utils/oof.pkl\n",
            "Saving AutogluonModels/ag-20230516_194402/models/CatBoost_BAG_L2/model.pkl\n",
            "\t0.6577\t = Validation score   (accuracy)\n",
            "\t38.88s\t = Training   runtime\n",
            "\t0.64s\t = Validation runtime\n",
            "Saving AutogluonModels/ag-20230516_194402/models/trainer.pkl\n",
            "Fitting model: XGBoost_BAG_L2 ... Training model for up to 0.59s of the 0.53s of remaining time.\n",
            "\tFitting XGBoost_BAG_L2 with 'num_gpus': 0, 'num_cpus': 2\n",
            "Saving AutogluonModels/ag-20230516_194402/models/XGBoost_BAG_L2/utils/model_template.pkl\n",
            "Loading: AutogluonModels/ag-20230516_194402/models/XGBoost_BAG_L2/utils/model_template.pkl\n",
            "\tFitting 8 child models (S1F1 - S1F8) | Fitting with ParallelLocalFoldFittingStrategy\n",
            "Saving AutogluonModels/ag-20230516_194402/models/XGBoost_BAG_L2/utils/oof.pkl\n",
            "Saving AutogluonModels/ag-20230516_194402/models/XGBoost_BAG_L2/model.pkl\n",
            "\t0.6636\t = Validation score   (accuracy)\n",
            "\t19.6s\t = Training   runtime\n",
            "\t1.13s\t = Validation runtime\n",
            "Saving AutogluonModels/ag-20230516_194402/models/trainer.pkl\n",
            "Skipping NeuralNetTorch_BAG_L2 due to lack of time remaining.\n",
            "Saving AutogluonModels/ag-20230516_194402/models/trainer.pkl\n",
            "Skipping LightGBMLarge_BAG_L2 due to lack of time remaining.\n",
            "Saving AutogluonModels/ag-20230516_194402/models/trainer.pkl\n",
            "Not enough time left to finish repeated k-fold bagging, stopping early ...\n",
            "Completed 1/20 k-fold bagging repeats ...\n",
            "Loading: AutogluonModels/ag-20230516_194402/models/LightGBMXT_BAG_L2/utils/oof.pkl\n",
            "Loading: AutogluonModels/ag-20230516_194402/models/LightGBM_BAG_L2/utils/oof.pkl\n",
            "Loading: AutogluonModels/ag-20230516_194402/models/CatBoost_BAG_L2/utils/oof.pkl\n",
            "Loading: AutogluonModels/ag-20230516_194402/models/XGBoost_BAG_L2/utils/oof.pkl\n",
            "Model configs that will be trained (in order):\n",
            "\tWeightedEnsemble_L3: \t{'ag_args': {'valid_base': False, 'name_bag_suffix': '', 'model_type': <class 'autogluon.core.models.greedy_ensemble.greedy_weighted_ensemble_model.GreedyWeightedEnsembleModel'>, 'priority': 0}, 'ag_args_ensemble': {'save_bag_folds': True}}\n",
            "Fitting model: WeightedEnsemble_L3 ... Training model for up to 360.0s of the -25.3s of remaining time.\n",
            "\tFitting WeightedEnsemble_L3 with 'num_gpus': 0, 'num_cpus': 2\n",
            "Saving AutogluonModels/ag-20230516_194402/models/WeightedEnsemble_L3/utils/model_template.pkl\n",
            "Loading: AutogluonModels/ag-20230516_194402/models/WeightedEnsemble_L3/utils/model_template.pkl\n",
            "Ensemble size: 94\n",
            "Ensemble weights: \n",
            "[0.9893617 0.0106383 0.        0.       ]\n",
            "\t0.17s\t= Estimated out-of-fold prediction time...\n",
            "Saving AutogluonModels/ag-20230516_194402/models/WeightedEnsemble_L3/utils/oof.pkl\n",
            "Saving AutogluonModels/ag-20230516_194402/models/WeightedEnsemble_L3/model.pkl\n",
            "\t0.6679\t = Validation score   (accuracy)\n",
            "\t3.31s\t = Training   runtime\n",
            "\t0.01s\t = Validation runtime\n",
            "Saving AutogluonModels/ag-20230516_194402/models/trainer.pkl\n",
            "Saving AutogluonModels/ag-20230516_194402/models/trainer.pkl\n",
            "Saving AutogluonModels/ag-20230516_194402/models/trainer.pkl\n",
            "AutoGluon training complete, total runtime = 628.7s ... Best model: \"WeightedEnsemble_L2\"\n",
            "Loading: AutogluonModels/ag-20230516_194402/models/trainer.pkl\n",
            "Saving AutogluonModels/ag-20230516_194402/models/trainer.pkl\n",
            "Saving AutogluonModels/ag-20230516_194402/learner.pkl\n",
            "Saving AutogluonModels/ag-20230516_194402/predictor.pkl\n",
            "Saving AutogluonModels/ag-20230516_194402/__version__ with contents \"0.7.0\"\n",
            "Saving AutogluonModels/ag-20230516_194402/metadata.json\n",
            "TabularPredictor saved. To load, use: predictor = TabularPredictor.load(\"AutogluonModels/ag-20230516_194402/\")\n"
          ]
        }
      ],
      "source": [
        "predictor = TabularPredictor(\n",
        "    label='damage_grade',\n",
        "    problem_type='multiclass',\n",
        "    verbosity=3,\n",
        "    eval_metric='accuracy'\n",
        "    )\n",
        "\n",
        "stacking_paramater = {\n",
        "    'time_limit': 10*60,\n",
        "    'presets': 'best_quality',\n",
        "    # 'tuning_data': X_val_autogluon,\n",
        "    'auto_stack': True,\n",
        "    'hyperparameters': 'very_light',\n",
        "    # 'hyperparameters': {'NN_TORCH': {'num_epochs': 2}, 'GBM': {'num_boost_round': 20}},\n",
        "    'excluded_model_types': ['FASTAI']\n",
        "}\n",
        "\n",
        "stacking_predictor = predictor.fit(train_autgluon, **stacking_paramater)"
      ]
    },
    {
      "cell_type": "code",
      "execution_count": null,
      "metadata": {
        "id": "jfpUI-m5KR4P",
        "colab": {
          "base_uri": "https://localhost:8080/"
        },
        "outputId": "c23319f8-3d5b-44c3-b167-437bd636ac4f"
      },
      "outputs": [
        {
          "output_type": "execute_result",
          "data": {
            "text/plain": [
              "['LightGBMXT_BAG_L1',\n",
              " 'LightGBM_BAG_L1',\n",
              " 'CatBoost_BAG_L1',\n",
              " 'XGBoost_BAG_L1',\n",
              " 'WeightedEnsemble_L2',\n",
              " 'LightGBMXT_BAG_L2',\n",
              " 'LightGBM_BAG_L2',\n",
              " 'CatBoost_BAG_L2',\n",
              " 'XGBoost_BAG_L2',\n",
              " 'WeightedEnsemble_L3']"
            ]
          },
          "metadata": {},
          "execution_count": 113
        }
      ],
      "source": [
        "stacking_predictor.get_model_names()"
      ]
    },
    {
      "cell_type": "code",
      "execution_count": null,
      "metadata": {
        "id": "TUsXYyghg_6P",
        "colab": {
          "base_uri": "https://localhost:8080/",
          "height": 547
        },
        "outputId": "195e8184-a168-4722-feec-b61c4b8f1b95"
      },
      "outputs": [
        {
          "output_type": "stream",
          "name": "stderr",
          "text": [
            "Loading: AutogluonModels/ag-20230516_194402/models/LightGBMXT_BAG_L1/model.pkl\n",
            "Loading: AutogluonModels/ag-20230516_194402/models/LightGBM_BAG_L1/model.pkl\n",
            "Loading: AutogluonModels/ag-20230516_194402/models/CatBoost_BAG_L1/model.pkl\n",
            "Loading: AutogluonModels/ag-20230516_194402/models/XGBoost_BAG_L1/model.pkl\n",
            "Loading: AutogluonModels/ag-20230516_194402/models/WeightedEnsemble_L2/model.pkl\n",
            "Loading: AutogluonModels/ag-20230516_194402/models/LightGBMXT_BAG_L2/model.pkl\n",
            "Loading: AutogluonModels/ag-20230516_194402/models/LightGBM_BAG_L2/model.pkl\n",
            "Loading: AutogluonModels/ag-20230516_194402/models/CatBoost_BAG_L2/model.pkl\n",
            "Loading: AutogluonModels/ag-20230516_194402/models/XGBoost_BAG_L2/model.pkl\n",
            "Loading: AutogluonModels/ag-20230516_194402/models/WeightedEnsemble_L3/model.pkl\n"
          ]
        },
        {
          "output_type": "execute_result",
          "data": {
            "text/plain": [
              "                 model  score_test  accuracy  log_loss  score_val  \\\n",
              "0      LightGBM_BAG_L2    0.674644  0.674644 -0.838228   0.667814   \n",
              "1    LightGBMXT_BAG_L1    0.672161  0.672161 -0.782804   0.667532   \n",
              "2       XGBoost_BAG_L1    0.672048  0.672048 -0.823940   0.666290   \n",
              "3       XGBoost_BAG_L2    0.671935  0.671935 -1.500160   0.663637   \n",
              "4    LightGBMXT_BAG_L2    0.671935  0.671935 -0.790271   0.667843   \n",
              "5  WeightedEnsemble_L3    0.671822  0.671822 -0.790728   0.667899   \n",
              "6      LightGBM_BAG_L1    0.671371  0.671371 -0.755140   0.668181   \n",
              "7  WeightedEnsemble_L2    0.671371  0.671371 -0.755140   0.668181   \n",
              "8      CatBoost_BAG_L1    0.664033  0.664033 -0.902946   0.659799   \n",
              "9      CatBoost_BAG_L2    0.660759  0.660759 -1.447768   0.657682   \n",
              "\n",
              "   pred_time_test  pred_time_val    fit_time  pred_time_test_marginal  \\\n",
              "0        6.190750       7.794945  446.417011                 0.879108   \n",
              "1        2.572763       2.290632   84.167797                 2.572763   \n",
              "2        1.035179       0.780585   43.405223                 1.035179   \n",
              "3        5.803743       7.218159  401.840675                 0.492101   \n",
              "4        6.768559       8.605359  450.469168                 1.456918   \n",
              "5        7.655231      10.322027  517.950929                 0.007564   \n",
              "6        1.490184       2.425984   56.824178                 1.490184   \n",
              "7        1.495893       2.431976   59.597211                 0.005709   \n",
              "8        0.213515       0.590004  197.846018                 0.213515   \n",
              "9        5.473638       6.731704  421.122077                 0.161996   \n",
              "\n",
              "   pred_time_val_marginal  fit_time_marginal  stack_level  can_infer  \\\n",
              "0                1.707739          64.173795            2       True   \n",
              "1                2.290632          84.167797            1       True   \n",
              "2                0.780585          43.405223            1       True   \n",
              "3                1.130953          19.597459            2       True   \n",
              "4                2.518153          68.225952            2       True   \n",
              "5                0.008929           3.307966            3       True   \n",
              "6                2.425984          56.824178            1       True   \n",
              "7                0.005992           2.773034            2       True   \n",
              "8                0.590004         197.846018            1       True   \n",
              "9                0.644498          38.878860            2       True   \n",
              "\n",
              "   fit_order  \n",
              "0          7  \n",
              "1          1  \n",
              "2          4  \n",
              "3          9  \n",
              "4          6  \n",
              "5         10  \n",
              "6          2  \n",
              "7          5  \n",
              "8          3  \n",
              "9          8  "
            ],
            "text/html": [
              "\n",
              "  <div id=\"df-db4049b8-a336-44f0-8979-1073eed53712\">\n",
              "    <div class=\"colab-df-container\">\n",
              "      <div>\n",
              "<style scoped>\n",
              "    .dataframe tbody tr th:only-of-type {\n",
              "        vertical-align: middle;\n",
              "    }\n",
              "\n",
              "    .dataframe tbody tr th {\n",
              "        vertical-align: top;\n",
              "    }\n",
              "\n",
              "    .dataframe thead th {\n",
              "        text-align: right;\n",
              "    }\n",
              "</style>\n",
              "<table border=\"1\" class=\"dataframe\">\n",
              "  <thead>\n",
              "    <tr style=\"text-align: right;\">\n",
              "      <th></th>\n",
              "      <th>model</th>\n",
              "      <th>score_test</th>\n",
              "      <th>accuracy</th>\n",
              "      <th>log_loss</th>\n",
              "      <th>score_val</th>\n",
              "      <th>pred_time_test</th>\n",
              "      <th>pred_time_val</th>\n",
              "      <th>fit_time</th>\n",
              "      <th>pred_time_test_marginal</th>\n",
              "      <th>pred_time_val_marginal</th>\n",
              "      <th>fit_time_marginal</th>\n",
              "      <th>stack_level</th>\n",
              "      <th>can_infer</th>\n",
              "      <th>fit_order</th>\n",
              "    </tr>\n",
              "  </thead>\n",
              "  <tbody>\n",
              "    <tr>\n",
              "      <th>0</th>\n",
              "      <td>LightGBM_BAG_L2</td>\n",
              "      <td>0.674644</td>\n",
              "      <td>0.674644</td>\n",
              "      <td>-0.838228</td>\n",
              "      <td>0.667814</td>\n",
              "      <td>6.190750</td>\n",
              "      <td>7.794945</td>\n",
              "      <td>446.417011</td>\n",
              "      <td>0.879108</td>\n",
              "      <td>1.707739</td>\n",
              "      <td>64.173795</td>\n",
              "      <td>2</td>\n",
              "      <td>True</td>\n",
              "      <td>7</td>\n",
              "    </tr>\n",
              "    <tr>\n",
              "      <th>1</th>\n",
              "      <td>LightGBMXT_BAG_L1</td>\n",
              "      <td>0.672161</td>\n",
              "      <td>0.672161</td>\n",
              "      <td>-0.782804</td>\n",
              "      <td>0.667532</td>\n",
              "      <td>2.572763</td>\n",
              "      <td>2.290632</td>\n",
              "      <td>84.167797</td>\n",
              "      <td>2.572763</td>\n",
              "      <td>2.290632</td>\n",
              "      <td>84.167797</td>\n",
              "      <td>1</td>\n",
              "      <td>True</td>\n",
              "      <td>1</td>\n",
              "    </tr>\n",
              "    <tr>\n",
              "      <th>2</th>\n",
              "      <td>XGBoost_BAG_L1</td>\n",
              "      <td>0.672048</td>\n",
              "      <td>0.672048</td>\n",
              "      <td>-0.823940</td>\n",
              "      <td>0.666290</td>\n",
              "      <td>1.035179</td>\n",
              "      <td>0.780585</td>\n",
              "      <td>43.405223</td>\n",
              "      <td>1.035179</td>\n",
              "      <td>0.780585</td>\n",
              "      <td>43.405223</td>\n",
              "      <td>1</td>\n",
              "      <td>True</td>\n",
              "      <td>4</td>\n",
              "    </tr>\n",
              "    <tr>\n",
              "      <th>3</th>\n",
              "      <td>XGBoost_BAG_L2</td>\n",
              "      <td>0.671935</td>\n",
              "      <td>0.671935</td>\n",
              "      <td>-1.500160</td>\n",
              "      <td>0.663637</td>\n",
              "      <td>5.803743</td>\n",
              "      <td>7.218159</td>\n",
              "      <td>401.840675</td>\n",
              "      <td>0.492101</td>\n",
              "      <td>1.130953</td>\n",
              "      <td>19.597459</td>\n",
              "      <td>2</td>\n",
              "      <td>True</td>\n",
              "      <td>9</td>\n",
              "    </tr>\n",
              "    <tr>\n",
              "      <th>4</th>\n",
              "      <td>LightGBMXT_BAG_L2</td>\n",
              "      <td>0.671935</td>\n",
              "      <td>0.671935</td>\n",
              "      <td>-0.790271</td>\n",
              "      <td>0.667843</td>\n",
              "      <td>6.768559</td>\n",
              "      <td>8.605359</td>\n",
              "      <td>450.469168</td>\n",
              "      <td>1.456918</td>\n",
              "      <td>2.518153</td>\n",
              "      <td>68.225952</td>\n",
              "      <td>2</td>\n",
              "      <td>True</td>\n",
              "      <td>6</td>\n",
              "    </tr>\n",
              "    <tr>\n",
              "      <th>5</th>\n",
              "      <td>WeightedEnsemble_L3</td>\n",
              "      <td>0.671822</td>\n",
              "      <td>0.671822</td>\n",
              "      <td>-0.790728</td>\n",
              "      <td>0.667899</td>\n",
              "      <td>7.655231</td>\n",
              "      <td>10.322027</td>\n",
              "      <td>517.950929</td>\n",
              "      <td>0.007564</td>\n",
              "      <td>0.008929</td>\n",
              "      <td>3.307966</td>\n",
              "      <td>3</td>\n",
              "      <td>True</td>\n",
              "      <td>10</td>\n",
              "    </tr>\n",
              "    <tr>\n",
              "      <th>6</th>\n",
              "      <td>LightGBM_BAG_L1</td>\n",
              "      <td>0.671371</td>\n",
              "      <td>0.671371</td>\n",
              "      <td>-0.755140</td>\n",
              "      <td>0.668181</td>\n",
              "      <td>1.490184</td>\n",
              "      <td>2.425984</td>\n",
              "      <td>56.824178</td>\n",
              "      <td>1.490184</td>\n",
              "      <td>2.425984</td>\n",
              "      <td>56.824178</td>\n",
              "      <td>1</td>\n",
              "      <td>True</td>\n",
              "      <td>2</td>\n",
              "    </tr>\n",
              "    <tr>\n",
              "      <th>7</th>\n",
              "      <td>WeightedEnsemble_L2</td>\n",
              "      <td>0.671371</td>\n",
              "      <td>0.671371</td>\n",
              "      <td>-0.755140</td>\n",
              "      <td>0.668181</td>\n",
              "      <td>1.495893</td>\n",
              "      <td>2.431976</td>\n",
              "      <td>59.597211</td>\n",
              "      <td>0.005709</td>\n",
              "      <td>0.005992</td>\n",
              "      <td>2.773034</td>\n",
              "      <td>2</td>\n",
              "      <td>True</td>\n",
              "      <td>5</td>\n",
              "    </tr>\n",
              "    <tr>\n",
              "      <th>8</th>\n",
              "      <td>CatBoost_BAG_L1</td>\n",
              "      <td>0.664033</td>\n",
              "      <td>0.664033</td>\n",
              "      <td>-0.902946</td>\n",
              "      <td>0.659799</td>\n",
              "      <td>0.213515</td>\n",
              "      <td>0.590004</td>\n",
              "      <td>197.846018</td>\n",
              "      <td>0.213515</td>\n",
              "      <td>0.590004</td>\n",
              "      <td>197.846018</td>\n",
              "      <td>1</td>\n",
              "      <td>True</td>\n",
              "      <td>3</td>\n",
              "    </tr>\n",
              "    <tr>\n",
              "      <th>9</th>\n",
              "      <td>CatBoost_BAG_L2</td>\n",
              "      <td>0.660759</td>\n",
              "      <td>0.660759</td>\n",
              "      <td>-1.447768</td>\n",
              "      <td>0.657682</td>\n",
              "      <td>5.473638</td>\n",
              "      <td>6.731704</td>\n",
              "      <td>421.122077</td>\n",
              "      <td>0.161996</td>\n",
              "      <td>0.644498</td>\n",
              "      <td>38.878860</td>\n",
              "      <td>2</td>\n",
              "      <td>True</td>\n",
              "      <td>8</td>\n",
              "    </tr>\n",
              "  </tbody>\n",
              "</table>\n",
              "</div>\n",
              "      <button class=\"colab-df-convert\" onclick=\"convertToInteractive('df-db4049b8-a336-44f0-8979-1073eed53712')\"\n",
              "              title=\"Convert this dataframe to an interactive table.\"\n",
              "              style=\"display:none;\">\n",
              "        \n",
              "  <svg xmlns=\"http://www.w3.org/2000/svg\" height=\"24px\"viewBox=\"0 0 24 24\"\n",
              "       width=\"24px\">\n",
              "    <path d=\"M0 0h24v24H0V0z\" fill=\"none\"/>\n",
              "    <path d=\"M18.56 5.44l.94 2.06.94-2.06 2.06-.94-2.06-.94-.94-2.06-.94 2.06-2.06.94zm-11 1L8.5 8.5l.94-2.06 2.06-.94-2.06-.94L8.5 2.5l-.94 2.06-2.06.94zm10 10l.94 2.06.94-2.06 2.06-.94-2.06-.94-.94-2.06-.94 2.06-2.06.94z\"/><path d=\"M17.41 7.96l-1.37-1.37c-.4-.4-.92-.59-1.43-.59-.52 0-1.04.2-1.43.59L10.3 9.45l-7.72 7.72c-.78.78-.78 2.05 0 2.83L4 21.41c.39.39.9.59 1.41.59.51 0 1.02-.2 1.41-.59l7.78-7.78 2.81-2.81c.8-.78.8-2.07 0-2.86zM5.41 20L4 18.59l7.72-7.72 1.47 1.35L5.41 20z\"/>\n",
              "  </svg>\n",
              "      </button>\n",
              "      \n",
              "  <style>\n",
              "    .colab-df-container {\n",
              "      display:flex;\n",
              "      flex-wrap:wrap;\n",
              "      gap: 12px;\n",
              "    }\n",
              "\n",
              "    .colab-df-convert {\n",
              "      background-color: #E8F0FE;\n",
              "      border: none;\n",
              "      border-radius: 50%;\n",
              "      cursor: pointer;\n",
              "      display: none;\n",
              "      fill: #1967D2;\n",
              "      height: 32px;\n",
              "      padding: 0 0 0 0;\n",
              "      width: 32px;\n",
              "    }\n",
              "\n",
              "    .colab-df-convert:hover {\n",
              "      background-color: #E2EBFA;\n",
              "      box-shadow: 0px 1px 2px rgba(60, 64, 67, 0.3), 0px 1px 3px 1px rgba(60, 64, 67, 0.15);\n",
              "      fill: #174EA6;\n",
              "    }\n",
              "\n",
              "    [theme=dark] .colab-df-convert {\n",
              "      background-color: #3B4455;\n",
              "      fill: #D2E3FC;\n",
              "    }\n",
              "\n",
              "    [theme=dark] .colab-df-convert:hover {\n",
              "      background-color: #434B5C;\n",
              "      box-shadow: 0px 1px 3px 1px rgba(0, 0, 0, 0.15);\n",
              "      filter: drop-shadow(0px 1px 2px rgba(0, 0, 0, 0.3));\n",
              "      fill: #FFFFFF;\n",
              "    }\n",
              "  </style>\n",
              "\n",
              "      <script>\n",
              "        const buttonEl =\n",
              "          document.querySelector('#df-db4049b8-a336-44f0-8979-1073eed53712 button.colab-df-convert');\n",
              "        buttonEl.style.display =\n",
              "          google.colab.kernel.accessAllowed ? 'block' : 'none';\n",
              "\n",
              "        async function convertToInteractive(key) {\n",
              "          const element = document.querySelector('#df-db4049b8-a336-44f0-8979-1073eed53712');\n",
              "          const dataTable =\n",
              "            await google.colab.kernel.invokeFunction('convertToInteractive',\n",
              "                                                     [key], {});\n",
              "          if (!dataTable) return;\n",
              "\n",
              "          const docLinkHtml = 'Like what you see? Visit the ' +\n",
              "            '<a target=\"_blank\" href=https://colab.research.google.com/notebooks/data_table.ipynb>data table notebook</a>'\n",
              "            + ' to learn more about interactive tables.';\n",
              "          element.innerHTML = '';\n",
              "          dataTable['output_type'] = 'display_data';\n",
              "          await google.colab.output.renderOutput(dataTable, element);\n",
              "          const docLink = document.createElement('div');\n",
              "          docLink.innerHTML = docLinkHtml;\n",
              "          element.appendChild(docLink);\n",
              "        }\n",
              "      </script>\n",
              "    </div>\n",
              "  </div>\n",
              "  "
            ]
          },
          "metadata": {},
          "execution_count": 114
        }
      ],
      "source": [
        "stacking_predictor.leaderboard(\n",
        "    silent=True,\n",
        "    data=val_autogluon,\n",
        "    extra_metrics=['accuracy', 'log_loss']\n",
        ")"
      ]
    },
    {
      "cell_type": "code",
      "execution_count": null,
      "metadata": {
        "id": "sSWU5v6HHR88",
        "colab": {
          "base_uri": "https://localhost:8080/"
        },
        "outputId": "cd0be003-9079-4b0c-d8f4-221e8094b2e6"
      },
      "outputs": [
        {
          "output_type": "stream",
          "name": "stdout",
          "text": [
            "Looking in indexes: https://pypi.org/simple, https://us-python.pkg.dev/colab-wheels/public/simple/\n",
            "Requirement already satisfied: bokeh in /usr/local/lib/python3.10/dist-packages (2.4.3)\n",
            "Requirement already satisfied: Jinja2>=2.9 in /usr/local/lib/python3.10/dist-packages (from bokeh) (3.1.2)\n",
            "Requirement already satisfied: numpy>=1.11.3 in /usr/local/lib/python3.10/dist-packages (from bokeh) (1.22.4)\n",
            "Requirement already satisfied: packaging>=16.8 in /usr/local/lib/python3.10/dist-packages (from bokeh) (23.1)\n",
            "Requirement already satisfied: pillow>=7.1.0 in /usr/local/lib/python3.10/dist-packages (from bokeh) (9.5.0)\n",
            "Requirement already satisfied: PyYAML>=3.10 in /usr/local/lib/python3.10/dist-packages (from bokeh) (6.0)\n",
            "Requirement already satisfied: tornado>=5.1 in /usr/local/lib/python3.10/dist-packages (from bokeh) (6.3.1)\n",
            "Requirement already satisfied: typing-extensions>=3.10.0 in /usr/local/lib/python3.10/dist-packages (from bokeh) (4.5.0)\n",
            "Requirement already satisfied: MarkupSafe>=2.0 in /usr/local/lib/python3.10/dist-packages (from Jinja2>=2.9->bokeh) (2.1.2)\n"
          ]
        }
      ],
      "source": [
        "!pip install bokeh"
      ]
    },
    {
      "cell_type": "code",
      "execution_count": null,
      "metadata": {
        "id": "Ulm30mstIH9r",
        "colab": {
          "base_uri": "https://localhost:8080/"
        },
        "outputId": "b1802f50-7a2a-4b5e-ac77-d4779bdc2d8d"
      },
      "outputs": [
        {
          "output_type": "stream",
          "name": "stderr",
          "text": [
            "Loading: AutogluonModels/ag-20230516_194402/models/LightGBMXT_BAG_L1/model.pkl\n",
            "Loading: AutogluonModels/ag-20230516_194402/models/LightGBM_BAG_L1/model.pkl\n",
            "Loading: AutogluonModels/ag-20230516_194402/models/CatBoost_BAG_L1/model.pkl\n",
            "Loading: AutogluonModels/ag-20230516_194402/models/XGBoost_BAG_L1/model.pkl\n",
            "Loading: AutogluonModels/ag-20230516_194402/models/WeightedEnsemble_L2/model.pkl\n",
            "Loading: AutogluonModels/ag-20230516_194402/models/LightGBMXT_BAG_L2/model.pkl\n",
            "Loading: AutogluonModels/ag-20230516_194402/models/LightGBM_BAG_L2/model.pkl\n",
            "Loading: AutogluonModels/ag-20230516_194402/models/CatBoost_BAG_L2/model.pkl\n",
            "Loading: AutogluonModels/ag-20230516_194402/models/XGBoost_BAG_L2/model.pkl\n",
            "Loading: AutogluonModels/ag-20230516_194402/models/WeightedEnsemble_L3/model.pkl\n"
          ]
        },
        {
          "output_type": "stream",
          "name": "stdout",
          "text": [
            "*** Summary of fit() ***\n",
            "Estimated performance of each model:\n",
            "                 model  score_val  pred_time_val    fit_time  pred_time_val_marginal  fit_time_marginal  stack_level  can_infer  fit_order\n",
            "0      LightGBM_BAG_L1   0.668181       2.425984   56.824178                2.425984          56.824178            1       True          2\n",
            "1  WeightedEnsemble_L2   0.668181       2.431976   59.597211                0.005992           2.773034            2       True          5\n",
            "2  WeightedEnsemble_L3   0.667899      10.322027  517.950929                0.008929           3.307966            3       True         10\n",
            "3    LightGBMXT_BAG_L2   0.667843       8.605359  450.469168                2.518153          68.225952            2       True          6\n",
            "4      LightGBM_BAG_L2   0.667814       7.794945  446.417011                1.707739          64.173795            2       True          7\n",
            "5    LightGBMXT_BAG_L1   0.667532       2.290632   84.167797                2.290632          84.167797            1       True          1\n",
            "6       XGBoost_BAG_L1   0.666290       0.780585   43.405223                0.780585          43.405223            1       True          4\n",
            "7       XGBoost_BAG_L2   0.663637       7.218159  401.840675                1.130953          19.597459            2       True          9\n",
            "8      CatBoost_BAG_L1   0.659799       0.590004  197.846018                0.590004         197.846018            1       True          3\n",
            "9      CatBoost_BAG_L2   0.657682       6.731704  421.122077                0.644498          38.878860            2       True          8\n",
            "Number of models trained: 10\n",
            "Types of models trained:\n",
            "{'StackerEnsembleModel_CatBoost', 'StackerEnsembleModel_LGB', 'WeightedEnsembleModel', 'StackerEnsembleModel_XGBoost'}\n",
            "Bagging used: True  (with 8 folds)\n",
            "Multi-layer stack-ensembling used: True  (with 3 levels)\n",
            "Feature Metadata (Processed):\n",
            "(raw dtype, special dtypes):\n",
            "('category', [])  : 13 | ['land_surface_condition', 'type_of_foundation', 'type_of_roof', 'type_of_ground_floor', 'type_of_other_floor', ...]\n",
            "('float', [])     :  8 | ['floors_before_eq (total)', 'old_building', 'plinth_area (ft^2)', 'height_before_eq (ft)', 'type_of_reinforcement_concrete', ...]\n",
            "('int', ['bool']) :  2 | ['has_secondary_use', 'flexible_superstructure']\n",
            "Plot summary of models saved to file: AutogluonModels/ag-20230516_194402/SummaryOfModels.html\n",
            "*** End of fit() summary ***\n"
          ]
        },
        {
          "output_type": "execute_result",
          "data": {
            "text/plain": [
              "{'model_types': {'LightGBMXT_BAG_L1': 'StackerEnsembleModel_LGB',\n",
              "  'LightGBM_BAG_L1': 'StackerEnsembleModel_LGB',\n",
              "  'CatBoost_BAG_L1': 'StackerEnsembleModel_CatBoost',\n",
              "  'XGBoost_BAG_L1': 'StackerEnsembleModel_XGBoost',\n",
              "  'WeightedEnsemble_L2': 'WeightedEnsembleModel',\n",
              "  'LightGBMXT_BAG_L2': 'StackerEnsembleModel_LGB',\n",
              "  'LightGBM_BAG_L2': 'StackerEnsembleModel_LGB',\n",
              "  'CatBoost_BAG_L2': 'StackerEnsembleModel_CatBoost',\n",
              "  'XGBoost_BAG_L2': 'StackerEnsembleModel_XGBoost',\n",
              "  'WeightedEnsemble_L3': 'WeightedEnsembleModel'},\n",
              " 'model_performance': {'LightGBMXT_BAG_L1': 0.6675321743057123,\n",
              "  'LightGBM_BAG_L1': 0.6681813050349966,\n",
              "  'CatBoost_BAG_L1': 0.6597990517046738,\n",
              "  'XGBoost_BAG_L1': 0.6662903589975163,\n",
              "  'WeightedEnsemble_L2': 0.6681813050349966,\n",
              "  'LightGBMXT_BAG_L2': 0.6678426281327613,\n",
              "  'LightGBM_BAG_L2': 0.6678144050575751,\n",
              "  'CatBoost_BAG_L2': 0.6576823210657033,\n",
              "  'XGBoost_BAG_L2': 0.6636373899300068,\n",
              "  'WeightedEnsemble_L3': 0.6678990742831339},\n",
              " 'model_best': 'WeightedEnsemble_L2',\n",
              " 'model_paths': {'LightGBMXT_BAG_L1': 'AutogluonModels/ag-20230516_194402/models/LightGBMXT_BAG_L1/',\n",
              "  'LightGBM_BAG_L1': 'AutogluonModels/ag-20230516_194402/models/LightGBM_BAG_L1/',\n",
              "  'CatBoost_BAG_L1': 'AutogluonModels/ag-20230516_194402/models/CatBoost_BAG_L1/',\n",
              "  'XGBoost_BAG_L1': 'AutogluonModels/ag-20230516_194402/models/XGBoost_BAG_L1/',\n",
              "  'WeightedEnsemble_L2': 'AutogluonModels/ag-20230516_194402/models/WeightedEnsemble_L2/',\n",
              "  'LightGBMXT_BAG_L2': 'AutogluonModels/ag-20230516_194402/models/LightGBMXT_BAG_L2/',\n",
              "  'LightGBM_BAG_L2': 'AutogluonModels/ag-20230516_194402/models/LightGBM_BAG_L2/',\n",
              "  'CatBoost_BAG_L2': 'AutogluonModels/ag-20230516_194402/models/CatBoost_BAG_L2/',\n",
              "  'XGBoost_BAG_L2': 'AutogluonModels/ag-20230516_194402/models/XGBoost_BAG_L2/',\n",
              "  'WeightedEnsemble_L3': 'AutogluonModels/ag-20230516_194402/models/WeightedEnsemble_L3/'},\n",
              " 'model_fit_times': {'LightGBMXT_BAG_L1': 84.16779685020447,\n",
              "  'LightGBM_BAG_L1': 56.824177503585815,\n",
              "  'CatBoost_BAG_L1': 197.84601831436157,\n",
              "  'XGBoost_BAG_L1': 43.40522336959839,\n",
              "  'WeightedEnsemble_L2': 2.773033618927002,\n",
              "  'LightGBMXT_BAG_L2': 68.22595191001892,\n",
              "  'LightGBM_BAG_L2': 64.17379522323608,\n",
              "  'CatBoost_BAG_L2': 38.87886047363281,\n",
              "  'XGBoost_BAG_L2': 19.597458600997925,\n",
              "  'WeightedEnsemble_L3': 3.3079657554626465},\n",
              " 'model_pred_times': {'LightGBMXT_BAG_L1': 2.290632486343384,\n",
              "  'LightGBM_BAG_L1': 2.4259836673736572,\n",
              "  'CatBoost_BAG_L1': 0.5900042057037354,\n",
              "  'XGBoost_BAG_L1': 0.7805852890014648,\n",
              "  'WeightedEnsemble_L2': 0.005991935729980469,\n",
              "  'LightGBMXT_BAG_L2': 2.518153429031372,\n",
              "  'LightGBM_BAG_L2': 1.7077391147613525,\n",
              "  'CatBoost_BAG_L2': 0.6444981098175049,\n",
              "  'XGBoost_BAG_L2': 1.130953073501587,\n",
              "  'WeightedEnsemble_L3': 0.008928537368774414},\n",
              " 'num_bag_folds': 8,\n",
              " 'max_stack_level': 3,\n",
              " 'num_classes': 5,\n",
              " 'model_hyperparams': {'LightGBMXT_BAG_L1': {'use_orig_features': True,\n",
              "   'max_base_models': 25,\n",
              "   'max_base_models_per_type': 5,\n",
              "   'save_bag_folds': True},\n",
              "  'LightGBM_BAG_L1': {'use_orig_features': True,\n",
              "   'max_base_models': 25,\n",
              "   'max_base_models_per_type': 5,\n",
              "   'save_bag_folds': True},\n",
              "  'CatBoost_BAG_L1': {'use_orig_features': True,\n",
              "   'max_base_models': 25,\n",
              "   'max_base_models_per_type': 5,\n",
              "   'save_bag_folds': True},\n",
              "  'XGBoost_BAG_L1': {'use_orig_features': True,\n",
              "   'max_base_models': 25,\n",
              "   'max_base_models_per_type': 5,\n",
              "   'save_bag_folds': True},\n",
              "  'WeightedEnsemble_L2': {'use_orig_features': False,\n",
              "   'max_base_models': 25,\n",
              "   'max_base_models_per_type': 5,\n",
              "   'save_bag_folds': True},\n",
              "  'LightGBMXT_BAG_L2': {'use_orig_features': True,\n",
              "   'max_base_models': 25,\n",
              "   'max_base_models_per_type': 5,\n",
              "   'save_bag_folds': True},\n",
              "  'LightGBM_BAG_L2': {'use_orig_features': True,\n",
              "   'max_base_models': 25,\n",
              "   'max_base_models_per_type': 5,\n",
              "   'save_bag_folds': True},\n",
              "  'CatBoost_BAG_L2': {'use_orig_features': True,\n",
              "   'max_base_models': 25,\n",
              "   'max_base_models_per_type': 5,\n",
              "   'save_bag_folds': True},\n",
              "  'XGBoost_BAG_L2': {'use_orig_features': True,\n",
              "   'max_base_models': 25,\n",
              "   'max_base_models_per_type': 5,\n",
              "   'save_bag_folds': True},\n",
              "  'WeightedEnsemble_L3': {'use_orig_features': False,\n",
              "   'max_base_models': 25,\n",
              "   'max_base_models_per_type': 5,\n",
              "   'save_bag_folds': True}},\n",
              " 'leaderboard':                  model  score_val  pred_time_val    fit_time  \\\n",
              " 0      LightGBM_BAG_L1   0.668181       2.425984   56.824178   \n",
              " 1  WeightedEnsemble_L2   0.668181       2.431976   59.597211   \n",
              " 2  WeightedEnsemble_L3   0.667899      10.322027  517.950929   \n",
              " 3    LightGBMXT_BAG_L2   0.667843       8.605359  450.469168   \n",
              " 4      LightGBM_BAG_L2   0.667814       7.794945  446.417011   \n",
              " 5    LightGBMXT_BAG_L1   0.667532       2.290632   84.167797   \n",
              " 6       XGBoost_BAG_L1   0.666290       0.780585   43.405223   \n",
              " 7       XGBoost_BAG_L2   0.663637       7.218159  401.840675   \n",
              " 8      CatBoost_BAG_L1   0.659799       0.590004  197.846018   \n",
              " 9      CatBoost_BAG_L2   0.657682       6.731704  421.122077   \n",
              " \n",
              "    pred_time_val_marginal  fit_time_marginal  stack_level  can_infer  \\\n",
              " 0                2.425984          56.824178            1       True   \n",
              " 1                0.005992           2.773034            2       True   \n",
              " 2                0.008929           3.307966            3       True   \n",
              " 3                2.518153          68.225952            2       True   \n",
              " 4                1.707739          64.173795            2       True   \n",
              " 5                2.290632          84.167797            1       True   \n",
              " 6                0.780585          43.405223            1       True   \n",
              " 7                1.130953          19.597459            2       True   \n",
              " 8                0.590004         197.846018            1       True   \n",
              " 9                0.644498          38.878860            2       True   \n",
              " \n",
              "    fit_order  \n",
              " 0          2  \n",
              " 1          5  \n",
              " 2         10  \n",
              " 3          6  \n",
              " 4          7  \n",
              " 5          1  \n",
              " 6          4  \n",
              " 7          9  \n",
              " 8          3  \n",
              " 9          8  }"
            ]
          },
          "metadata": {},
          "execution_count": 116
        }
      ],
      "source": [
        "stacking_predictor.fit_summary(verbosity=3, show_plot=True)"
      ]
    },
    {
      "cell_type": "code",
      "execution_count": null,
      "metadata": {
        "id": "VzoIckoRREb5"
      },
      "outputs": [],
      "source": [
        "# stacking_predictor.feature_importance(val_autogluon)"
      ]
    },
    {
      "cell_type": "code",
      "source": [
        "pred_autogluon = stacking_predictor.predict(val_autogluon)"
      ],
      "metadata": {
        "id": "yKUdx0tYLW6S",
        "colab": {
          "base_uri": "https://localhost:8080/"
        },
        "outputId": "4eb363f5-2f98-4051-e3b7-97fd69ff1c44"
      },
      "execution_count": null,
      "outputs": [
        {
          "output_type": "stream",
          "name": "stderr",
          "text": [
            "Loading: AutogluonModels/ag-20230516_194402/models/LightGBM_BAG_L1/model.pkl\n",
            "Loading: AutogluonModels/ag-20230516_194402/models/WeightedEnsemble_L2/model.pkl\n"
          ]
        }
      ]
    },
    {
      "cell_type": "code",
      "source": [
        "pred_autogluon"
      ],
      "metadata": {
        "id": "-eg_yyHaQ-w1",
        "colab": {
          "base_uri": "https://localhost:8080/"
        },
        "outputId": "3d5276ac-3098-4210-ec2b-135448583526"
      },
      "execution_count": null,
      "outputs": [
        {
          "output_type": "execute_result",
          "data": {
            "text/plain": [
              "73004     4.0\n",
              "184800    3.0\n",
              "97993     5.0\n",
              "180003    3.0\n",
              "233715    5.0\n",
              "         ... \n",
              "259115    1.0\n",
              "368551    5.0\n",
              "84598     5.0\n",
              "223348    2.0\n",
              "159904    5.0\n",
              "Name: damage_grade, Length: 8858, dtype: float64"
            ]
          },
          "metadata": {},
          "execution_count": 119
        }
      ]
    },
    {
      "cell_type": "code",
      "source": [
        "pred_autogluon_proba = stacking_predictor.predict_proba(val_autogluon)"
      ],
      "metadata": {
        "id": "mr_3JMc9LcNC",
        "colab": {
          "base_uri": "https://localhost:8080/"
        },
        "outputId": "097eae4d-d9ad-4365-b741-d2ec97b83e99"
      },
      "execution_count": null,
      "outputs": [
        {
          "output_type": "stream",
          "name": "stderr",
          "text": [
            "Loading: AutogluonModels/ag-20230516_194402/models/LightGBM_BAG_L1/model.pkl\n",
            "Loading: AutogluonModels/ag-20230516_194402/models/WeightedEnsemble_L2/model.pkl\n"
          ]
        }
      ]
    },
    {
      "cell_type": "code",
      "source": [
        "pred_autogluon_proba.head()"
      ],
      "metadata": {
        "id": "meIOwLNnQ9Z5",
        "colab": {
          "base_uri": "https://localhost:8080/",
          "height": 206
        },
        "outputId": "0bacf674-6965-4622-9297-a824a3e9662f"
      },
      "execution_count": null,
      "outputs": [
        {
          "output_type": "execute_result",
          "data": {
            "text/plain": [
              "             1.0       2.0       3.0       4.0       5.0\n",
              "73004   0.008790  0.020801  0.066676  0.484577  0.419156\n",
              "184800  0.005375  0.073468  0.779638  0.125207  0.016312\n",
              "97993   0.007112  0.012277  0.127475  0.411037  0.442099\n",
              "180003  0.004987  0.037471  0.765606  0.176935  0.015001\n",
              "233715  0.005840  0.009341  0.046597  0.302384  0.635839"
            ],
            "text/html": [
              "\n",
              "  <div id=\"df-30324510-9500-439a-b296-88d031f9f32e\">\n",
              "    <div class=\"colab-df-container\">\n",
              "      <div>\n",
              "<style scoped>\n",
              "    .dataframe tbody tr th:only-of-type {\n",
              "        vertical-align: middle;\n",
              "    }\n",
              "\n",
              "    .dataframe tbody tr th {\n",
              "        vertical-align: top;\n",
              "    }\n",
              "\n",
              "    .dataframe thead th {\n",
              "        text-align: right;\n",
              "    }\n",
              "</style>\n",
              "<table border=\"1\" class=\"dataframe\">\n",
              "  <thead>\n",
              "    <tr style=\"text-align: right;\">\n",
              "      <th></th>\n",
              "      <th>1.0</th>\n",
              "      <th>2.0</th>\n",
              "      <th>3.0</th>\n",
              "      <th>4.0</th>\n",
              "      <th>5.0</th>\n",
              "    </tr>\n",
              "  </thead>\n",
              "  <tbody>\n",
              "    <tr>\n",
              "      <th>73004</th>\n",
              "      <td>0.008790</td>\n",
              "      <td>0.020801</td>\n",
              "      <td>0.066676</td>\n",
              "      <td>0.484577</td>\n",
              "      <td>0.419156</td>\n",
              "    </tr>\n",
              "    <tr>\n",
              "      <th>184800</th>\n",
              "      <td>0.005375</td>\n",
              "      <td>0.073468</td>\n",
              "      <td>0.779638</td>\n",
              "      <td>0.125207</td>\n",
              "      <td>0.016312</td>\n",
              "    </tr>\n",
              "    <tr>\n",
              "      <th>97993</th>\n",
              "      <td>0.007112</td>\n",
              "      <td>0.012277</td>\n",
              "      <td>0.127475</td>\n",
              "      <td>0.411037</td>\n",
              "      <td>0.442099</td>\n",
              "    </tr>\n",
              "    <tr>\n",
              "      <th>180003</th>\n",
              "      <td>0.004987</td>\n",
              "      <td>0.037471</td>\n",
              "      <td>0.765606</td>\n",
              "      <td>0.176935</td>\n",
              "      <td>0.015001</td>\n",
              "    </tr>\n",
              "    <tr>\n",
              "      <th>233715</th>\n",
              "      <td>0.005840</td>\n",
              "      <td>0.009341</td>\n",
              "      <td>0.046597</td>\n",
              "      <td>0.302384</td>\n",
              "      <td>0.635839</td>\n",
              "    </tr>\n",
              "  </tbody>\n",
              "</table>\n",
              "</div>\n",
              "      <button class=\"colab-df-convert\" onclick=\"convertToInteractive('df-30324510-9500-439a-b296-88d031f9f32e')\"\n",
              "              title=\"Convert this dataframe to an interactive table.\"\n",
              "              style=\"display:none;\">\n",
              "        \n",
              "  <svg xmlns=\"http://www.w3.org/2000/svg\" height=\"24px\"viewBox=\"0 0 24 24\"\n",
              "       width=\"24px\">\n",
              "    <path d=\"M0 0h24v24H0V0z\" fill=\"none\"/>\n",
              "    <path d=\"M18.56 5.44l.94 2.06.94-2.06 2.06-.94-2.06-.94-.94-2.06-.94 2.06-2.06.94zm-11 1L8.5 8.5l.94-2.06 2.06-.94-2.06-.94L8.5 2.5l-.94 2.06-2.06.94zm10 10l.94 2.06.94-2.06 2.06-.94-2.06-.94-.94-2.06-.94 2.06-2.06.94z\"/><path d=\"M17.41 7.96l-1.37-1.37c-.4-.4-.92-.59-1.43-.59-.52 0-1.04.2-1.43.59L10.3 9.45l-7.72 7.72c-.78.78-.78 2.05 0 2.83L4 21.41c.39.39.9.59 1.41.59.51 0 1.02-.2 1.41-.59l7.78-7.78 2.81-2.81c.8-.78.8-2.07 0-2.86zM5.41 20L4 18.59l7.72-7.72 1.47 1.35L5.41 20z\"/>\n",
              "  </svg>\n",
              "      </button>\n",
              "      \n",
              "  <style>\n",
              "    .colab-df-container {\n",
              "      display:flex;\n",
              "      flex-wrap:wrap;\n",
              "      gap: 12px;\n",
              "    }\n",
              "\n",
              "    .colab-df-convert {\n",
              "      background-color: #E8F0FE;\n",
              "      border: none;\n",
              "      border-radius: 50%;\n",
              "      cursor: pointer;\n",
              "      display: none;\n",
              "      fill: #1967D2;\n",
              "      height: 32px;\n",
              "      padding: 0 0 0 0;\n",
              "      width: 32px;\n",
              "    }\n",
              "\n",
              "    .colab-df-convert:hover {\n",
              "      background-color: #E2EBFA;\n",
              "      box-shadow: 0px 1px 2px rgba(60, 64, 67, 0.3), 0px 1px 3px 1px rgba(60, 64, 67, 0.15);\n",
              "      fill: #174EA6;\n",
              "    }\n",
              "\n",
              "    [theme=dark] .colab-df-convert {\n",
              "      background-color: #3B4455;\n",
              "      fill: #D2E3FC;\n",
              "    }\n",
              "\n",
              "    [theme=dark] .colab-df-convert:hover {\n",
              "      background-color: #434B5C;\n",
              "      box-shadow: 0px 1px 3px 1px rgba(0, 0, 0, 0.15);\n",
              "      filter: drop-shadow(0px 1px 2px rgba(0, 0, 0, 0.3));\n",
              "      fill: #FFFFFF;\n",
              "    }\n",
              "  </style>\n",
              "\n",
              "      <script>\n",
              "        const buttonEl =\n",
              "          document.querySelector('#df-30324510-9500-439a-b296-88d031f9f32e button.colab-df-convert');\n",
              "        buttonEl.style.display =\n",
              "          google.colab.kernel.accessAllowed ? 'block' : 'none';\n",
              "\n",
              "        async function convertToInteractive(key) {\n",
              "          const element = document.querySelector('#df-30324510-9500-439a-b296-88d031f9f32e');\n",
              "          const dataTable =\n",
              "            await google.colab.kernel.invokeFunction('convertToInteractive',\n",
              "                                                     [key], {});\n",
              "          if (!dataTable) return;\n",
              "\n",
              "          const docLinkHtml = 'Like what you see? Visit the ' +\n",
              "            '<a target=\"_blank\" href=https://colab.research.google.com/notebooks/data_table.ipynb>data table notebook</a>'\n",
              "            + ' to learn more about interactive tables.';\n",
              "          element.innerHTML = '';\n",
              "          dataTable['output_type'] = 'display_data';\n",
              "          await google.colab.output.renderOutput(dataTable, element);\n",
              "          const docLink = document.createElement('div');\n",
              "          docLink.innerHTML = docLinkHtml;\n",
              "          element.appendChild(docLink);\n",
              "        }\n",
              "      </script>\n",
              "    </div>\n",
              "  </div>\n",
              "  "
            ]
          },
          "metadata": {},
          "execution_count": 121
        }
      ]
    },
    {
      "cell_type": "code",
      "source": [
        "evaluate_predictor = stacking_predictor.evaluate(val_autogluon)"
      ],
      "metadata": {
        "id": "yEu4B_vsL-Nw",
        "colab": {
          "base_uri": "https://localhost:8080/"
        },
        "outputId": "3146fcd2-9377-4c86-acb6-c42c24a11c65"
      },
      "execution_count": null,
      "outputs": [
        {
          "output_type": "stream",
          "name": "stderr",
          "text": [
            "Loading: AutogluonModels/ag-20230516_194402/models/LightGBM_BAG_L1/model.pkl\n",
            "Loading: AutogluonModels/ag-20230516_194402/models/WeightedEnsemble_L2/model.pkl\n",
            "Evaluation: accuracy on test data: 0.6713705125310454\n",
            "Evaluations on test data:\n",
            "{\n",
            "    \"accuracy\": 0.6713705125310454,\n",
            "    \"balanced_accuracy\": 0.6683301661124041,\n",
            "    \"mcc\": 0.5765111416711295\n",
            "}\n"
          ]
        }
      ]
    },
    {
      "cell_type": "markdown",
      "source": [
        "# Submission"
      ],
      "metadata": {
        "id": "ek60_T84QFbc"
      }
    },
    {
      "cell_type": "code",
      "source": [
        "# submission_df.head(2)"
      ],
      "metadata": {
        "id": "AaT8nSW4QE2v"
      },
      "execution_count": null,
      "outputs": []
    },
    {
      "cell_type": "code",
      "source": [
        "# submission_df.shape"
      ],
      "metadata": {
        "id": "AOZgpOlhQfXy"
      },
      "execution_count": null,
      "outputs": []
    },
    {
      "cell_type": "code",
      "source": [
        "# test_df.info()"
      ],
      "metadata": {
        "id": "TV4zAmXX_Eb_"
      },
      "execution_count": null,
      "outputs": []
    },
    {
      "cell_type": "code",
      "source": [
        "# test_model = data_cleaner.fit_transform(test_df)"
      ],
      "metadata": {
        "id": "Lglvf45Q_dGG"
      },
      "execution_count": null,
      "outputs": []
    },
    {
      "cell_type": "code",
      "source": [
        "# test_pred = stacking_predictor.predict(test_model)"
      ],
      "metadata": {
        "id": "8NES99plRBMJ"
      },
      "execution_count": null,
      "outputs": []
    },
    {
      "cell_type": "code",
      "source": [
        "# submission = pd.Dataframe()"
      ],
      "metadata": {
        "id": "6XOQWesYRDfg"
      },
      "execution_count": null,
      "outputs": []
    },
    {
      "cell_type": "code",
      "source": [
        "# submission.to_csv('submission.csv', index=False)"
      ],
      "metadata": {
        "id": "SF_Rrg8a9oP7"
      },
      "execution_count": null,
      "outputs": []
    }
  ],
  "metadata": {
    "accelerator": "GPU",
    "colab": {
      "provenance": [],
      "toc_visible": true,
      "include_colab_link": true
    },
    "gpuClass": "standard",
    "kernelspec": {
      "display_name": "Python 3",
      "language": "python",
      "name": "python3"
    },
    "language_info": {
      "codemirror_mode": {
        "name": "ipython",
        "version": 3
      },
      "file_extension": ".py",
      "mimetype": "text/x-python",
      "name": "python",
      "nbconvert_exporter": "python",
      "pygments_lexer": "ipython3",
      "version": "3.7.12"
    }
  },
  "nbformat": 4,
  "nbformat_minor": 0
}